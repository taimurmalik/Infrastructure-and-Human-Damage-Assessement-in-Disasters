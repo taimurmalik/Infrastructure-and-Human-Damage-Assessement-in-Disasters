{
  "nbformat": 4,
  "nbformat_minor": 0,
  "metadata": {
    "colab": {
      "provenance": [],
      "gpuType": "V28"
    },
    "kernelspec": {
      "name": "python3",
      "display_name": "Python 3"
    },
    "language_info": {
      "name": "python"
    },
    "accelerator": "TPU"
  },
  "cells": [
    {
      "cell_type": "code",
      "execution_count": null,
      "metadata": {
        "colab": {
          "base_uri": "https://localhost:8080/"
        },
        "id": "Ywh-OCsZu_T6",
        "outputId": "e42599dc-5c2b-4b8c-c648-01dbd6f08816"
      },
      "outputs": [
        {
          "output_type": "stream",
          "name": "stdout",
          "text": [
            "\n",
            "Data Split Summary:\n",
            " Binary_class      Non-Damage  Damage\n",
            "Train (70%)            10853    1804\n",
            "Validation (15%)        2326     386\n",
            "Test (15%)              2326     387\n",
            "Total                  15505    2577\n",
            "\n",
            "Data split completed and saved as CSV files.\n"
          ]
        }
      ],
      "source": [
        "import pandas as pd\n",
        "from sklearn.model_selection import train_test_split\n",
        "\n",
        "# Load dataset\n",
        "file_path = \"/content/Merged_Disasters(2).csv\"  # Update the path if needed\n",
        "df = pd.read_csv(file_path)\n",
        "\n",
        "# Perform stratified splitting (70% Train, 15% Validation, 15% Test)\n",
        "train_df, temp_df = train_test_split(df, test_size=0.30, stratify=df[\"Binary_class\"], random_state=42)\n",
        "val_df, test_df = train_test_split(temp_df, test_size=0.50, stratify=temp_df[\"Binary_class\"], random_state=42)\n",
        "\n",
        "# Save the split datasets\n",
        "train_df.to_csv(\"train_data.csv\", index=False)\n",
        "val_df.to_csv(\"val_data.csv\", index=False)\n",
        "test_df.to_csv(\"test_data.csv\", index=False)\n",
        "\n",
        "# Create a structured summary table\n",
        "split_summary = pd.DataFrame({\n",
        "    \"Train (70%)\": train_df[\"Binary_class\"].value_counts(),\n",
        "    \"Validation (15%)\": val_df[\"Binary_class\"].value_counts(),\n",
        "    \"Test (15%)\": test_df[\"Binary_class\"].value_counts(),\n",
        "    \"Total\": df[\"Binary_class\"].value_counts()\n",
        "}).T\n",
        "\n",
        "# Save the summary table\n",
        "split_summary.to_csv(\"split_summary.csv\")\n",
        "\n",
        "# Display summary\n",
        "print(\"\\nData Split Summary:\\n\", split_summary)\n",
        "print(\"\\nData split completed and saved as CSV files.\")"
      ]
    },
    {
      "cell_type": "code",
      "source": [
        "# Imports\n",
        "import pandas as pd\n",
        "import numpy as np\n",
        "import seaborn as sns\n",
        "import matplotlib.pyplot as plt\n",
        "from sklearn.feature_extraction.text import TfidfVectorizer\n",
        "from sklearn.metrics import accuracy_score, classification_report, roc_auc_score, confusion_matrix\n",
        "from imblearn.over_sampling import SMOTE\n",
        "from tensorflow.keras.models import Sequential\n",
        "from tensorflow.keras.layers import Dense, Dropout, Conv1D, GlobalMaxPooling1D\n",
        "from tensorflow.keras.callbacks import EarlyStopping\n",
        "from tensorflow.keras.regularizers import l2\n",
        "\n",
        "# Load Data\n",
        "train_df = pd.read_csv(\"/content/train_data.csv\")\n",
        "val_df = pd.read_csv(\"/content/val_data.csv\")\n",
        "test_df = pd.read_csv(\"/content/test_data.csv\")\n",
        "\n",
        "# Standardize labels\n",
        "label_map = {'damage': 1, 'non-damage': 0}\n",
        "for df in [train_df, val_df, test_df]:\n",
        "    df['Binary_class'] = df['Binary_class'].str.strip().str.lower().map(label_map)\n",
        "    df['Processed_data'] = df['Processed_data'].fillna(\"\")\n",
        "\n",
        "# TF-IDF Vectorization\n",
        "vectorizer = TfidfVectorizer(max_features=5000, stop_words='english', ngram_range=(1, 2))\n",
        "X_train = vectorizer.fit_transform(train_df['Processed_data'])\n",
        "y_train = train_df['Binary_class'].values\n",
        "\n",
        "# Apply SMOTE\n",
        "smote = SMOTE(sampling_strategy=1, k_neighbors=3, random_state=42)\n",
        "X_train_smote, y_train_smote = smote.fit_resample(X_train, y_train)\n",
        "\n",
        "# Reshape for CNN\n",
        "X_train_smote_cnn = X_train_smote.toarray().reshape(X_train_smote.shape[0], X_train_smote.shape[1], 1)\n",
        "\n",
        "# Build CNN Model\n",
        "model = Sequential()\n",
        "model.add(Conv1D(filters=64, kernel_size=5, activation='relu',\n",
        "                 input_shape=(X_train_smote_cnn.shape[1], 1),\n",
        "                 kernel_regularizer=l2(0.01)))\n",
        "model.add(GlobalMaxPooling1D())\n",
        "model.add(Dropout(0.5))\n",
        "model.add(Dense(32, activation='relu', kernel_regularizer=l2(0.01)))\n",
        "model.add(Dropout(0.5))\n",
        "model.add(Dense(1, activation='sigmoid'))\n",
        "\n",
        "# Compile\n",
        "model.compile(optimizer='adam', loss='binary_crossentropy', metrics=['accuracy'])\n",
        "\n",
        "# Train\n",
        "early_stop = EarlyStopping(monitor='loss', patience=2, restore_best_weights=True)\n",
        "model.fit(X_train_smote_cnn, y_train_smote,\n",
        "          epochs=10,\n",
        "          batch_size=64,\n",
        "          callbacks=[early_stop],\n",
        "          class_weight={0: 1, 1: 1},\n",
        "          verbose=2)\n",
        "\n",
        "# Predict on Train Set\n",
        "y_train_pred = (model.predict(X_train_smote_cnn) > 0.5).astype(int)\n",
        "y_train_proba = model.predict(X_train_smote_cnn)\n",
        "\n",
        "# Training Metrics\n",
        "print(\"Training Classification Report:\\n\", classification_report(y_train_smote, y_train_pred))\n",
        "print(\"Training Accuracy:\", accuracy_score(y_train_smote, y_train_pred))\n",
        "print(\"Training ROC-AUC:\", roc_auc_score(y_train_smote, y_train_proba))\n",
        "\n",
        "# Confusion Matrix\n",
        "cm_train = confusion_matrix(y_train_smote, y_train_pred)\n",
        "plt.figure(figsize=(6, 4))\n",
        "sns.heatmap(cm_train, annot=True, fmt=\"d\", cmap=\"Blues\", xticklabels=['Non-Damage', 'Damage'], yticklabels=['Non-Damage', 'Damage'])\n",
        "plt.xlabel(\"Predicted\")\n",
        "plt.ylabel(\"Actual\")\n",
        "plt.title(\"Confusion Matrix - Training Set\")\n",
        "plt.tight_layout()\n",
        "plt.show()\n"
      ],
      "metadata": {
        "colab": {
          "base_uri": "https://localhost:8080/",
          "height": 1000
        },
        "id": "JVaA_6UDval6",
        "outputId": "d9ee68c1-a2b8-445f-bfda-5d2a87362594"
      },
      "execution_count": null,
      "outputs": [
        {
          "metadata": {
            "tags": null
          },
          "name": "stderr",
          "output_type": "stream",
          "text": [
            "/usr/local/lib/python3.11/dist-packages/keras/src/layers/convolutional/base_conv.py:107: UserWarning: Do not pass an `input_shape`/`input_dim` argument to a layer. When using Sequential models, prefer using an `Input(shape)` object as the first layer in the model instead.\n",
            "  super().__init__(activity_regularizer=activity_regularizer, **kwargs)\n"
          ]
        },
        {
          "output_type": "stream",
          "name": "stdout",
          "text": [
            "Epoch 1/10\n",
            "340/340 - 140s - 412ms/step - accuracy: 0.5450 - loss: 0.7944\n",
            "Epoch 2/10\n",
            "340/340 - 137s - 403ms/step - accuracy: 0.5725 - loss: 0.6913\n",
            "Epoch 3/10\n",
            "340/340 - 137s - 403ms/step - accuracy: 0.5856 - loss: 0.6864\n",
            "Epoch 4/10\n",
            "340/340 - 137s - 403ms/step - accuracy: 0.5874 - loss: 0.6820\n",
            "Epoch 5/10\n",
            "340/340 - 136s - 401ms/step - accuracy: 0.5936 - loss: 0.6796\n",
            "Epoch 6/10\n",
            "340/340 - 137s - 402ms/step - accuracy: 0.5898 - loss: 0.6785\n",
            "Epoch 7/10\n",
            "340/340 - 137s - 402ms/step - accuracy: 0.5906 - loss: 0.6763\n",
            "Epoch 8/10\n",
            "340/340 - 136s - 401ms/step - accuracy: 0.5886 - loss: 0.6775\n",
            "Epoch 9/10\n",
            "340/340 - 137s - 403ms/step - accuracy: 0.5926 - loss: 0.6742\n",
            "Epoch 10/10\n",
            "340/340 - 137s - 403ms/step - accuracy: 0.5944 - loss: 0.6733\n",
            "\u001b[1m679/679\u001b[0m \u001b[32m━━━━━━━━━━━━━━━━━━━━\u001b[0m\u001b[37m\u001b[0m \u001b[1m47s\u001b[0m 70ms/step\n",
            "\u001b[1m679/679\u001b[0m \u001b[32m━━━━━━━━━━━━━━━━━━━━\u001b[0m\u001b[37m\u001b[0m \u001b[1m54s\u001b[0m 80ms/step\n",
            "Training Classification Report:\n",
            "               precision    recall  f1-score   support\n",
            "\n",
            "           0       0.60      0.65      0.63     10853\n",
            "           1       0.62      0.57      0.60     10853\n",
            "\n",
            "    accuracy                           0.61     21706\n",
            "   macro avg       0.61      0.61      0.61     21706\n",
            "weighted avg       0.61      0.61      0.61     21706\n",
            "\n",
            "Training Accuracy: 0.6108449276697687\n",
            "Training ROC-AUC: 0.6689718100993118\n"
          ]
        },
        {
          "output_type": "display_data",
          "data": {
            "text/plain": [
              "<Figure size 600x400 with 2 Axes>"
            ],
            "image/png": "[encoded data removed]"
          },
          "metadata": {}
        }
      ]
    },
    {
      "cell_type": "code",
      "source": [],
      "metadata": {
        "id": "wle2LbPR0DWN"
      },
      "execution_count": null,
      "outputs": []
    }
  ]
}