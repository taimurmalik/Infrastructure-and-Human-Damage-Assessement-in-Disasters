{
  "nbformat": 4,
  "nbformat_minor": 0,
  "metadata": {
    "colab": {
      "provenance": [],
      "gpuType": "T4"
    },
    "kernelspec": {
      "name": "python3",
      "display_name": "Python 3"
    },
    "language_info": {
      "name": "python"
    },
    "accelerator": "GPU"
  },
  "cells": [
    {
      "cell_type": "code",
      "source": [
        "\n",
        "import os\n",
        "import numpy as np\n",
        "import pandas as pd\n",
        "import seaborn as sns\n",
        "import matplotlib.pyplot as plt\n",
        "from sklearn.model_selection import train_test_split\n",
        "from sklearn.ensemble import RandomForestClassifier\n",
        "from sklearn.metrics import accuracy_score, precision_score, recall_score, f1_score, classification_report, confusion_matrix, roc_auc_score\n",
        "from sklearn.utils.class_weight import compute_class_weight\n",
        "from sklearn.model_selection import RandomizedSearchCV\n",
        "import joblib\n",
        "from gensim.models import Word2Vec\n",
        "from imblearn.over_sampling import SMOTE\n",
        "import time\n",
        "\n",
        "# Path to the CSV file\n",
        "file_path = '/content/Hurricane_irma.csv'\n",
        "if not os.path.exists(file_path):\n",
        "    raise FileNotFoundError(f\"File not found: {file_path}\")\n",
        "\n",
        "# Load and preprocess data\n",
        "data = pd.read_csv(file_path)\n",
        "if 'processed_data' not in data.columns or 'Binary_Class' not in data.columns:\n",
        "    raise KeyError(\"The dataset must contain 'processed_data' and 'Binary_Class' columns.\")\n",
        "\n",
        "data['processed_data'] = data['processed_data'].fillna('').astype(str)\n",
        "data['Binary_Class'] = data['Binary_Class'].map({'Non-Damage': 0, 'Damage': 1})\n",
        "\n",
        "# Check class distribution\n",
        "print(\"Class distribution:\")\n",
        "print(data['Binary_Class'].value_counts())\n",
        "\n",
        "# Tokenize and split data\n",
        "sentences = [sentence.split() for sentence in data['processed_data']]\n",
        "labels = data['Binary_Class'].values\n",
        "\n",
        "# Train Word2Vec model\n",
        "word2vec_model = Word2Vec(sentences, vector_size=300, window=5, min_count=1, sg=0)\n",
        "\n",
        "# Create embedding matrix\n",
        "vocab_size = len(word2vec_model.wv.index_to_key)\n",
        "embedding_dim = word2vec_model.vector_size\n",
        "word_index = {word: idx + 1 for idx, word in enumerate(word2vec_model.wv.index_to_key)}\n",
        "\n",
        "# Convert sentences to sequences of indices\n",
        "X = [[word_index.get(word, 0) for word in sentence] for sentence in sentences]\n",
        "\n",
        "# Aggregate embeddings using mean embedding\n",
        "X = np.array([np.mean([word2vec_model.wv[word] for word in sentence if word in word2vec_model.wv] or [np.zeros(embedding_dim)], axis=0) for sentence in sentences])\n",
        "\n",
        "# Split data into training and testing sets\n",
        "X_train, X_test, y_train, y_test = train_test_split(X, labels, test_size=0.2, random_state=42, stratify=labels)\n",
        "\n",
        "# Oversample the minority class using SMOTE\n",
        "start_time = time.time()\n",
        "smote = SMOTE(random_state=42)\n",
        "X_train, y_train = smote.fit_resample(X_train, y_train)\n",
        "print(f\"SMOTE oversampling completed in {time.time() - start_time:.2f} seconds.\")\n",
        "\n",
        "# Calculate class weights\n",
        "class_weights = compute_class_weight(class_weight='balanced', classes=np.unique(y_train), y=y_train)\n",
        "class_weights_dict = {i: class_weights[i] for i in range(len(class_weights))}\n",
        "print(\"Class weights:\", class_weights_dict)\n",
        "\n",
        "# Hyperparameter tuning for Random Forest using RandomizedSearchCV\n",
        "param_dist = {\n",
        "    'n_estimators': [50, 100, 200],\n",
        "    'max_depth': [10, 20, None],\n",
        "    'min_samples_split': [2, 5],\n",
        "    'min_samples_leaf': [1, 2]\n",
        "}\n",
        "\n",
        "rf = RandomForestClassifier(class_weight=class_weights_dict, random_state=42)\n",
        "random_search = RandomizedSearchCV(estimator=rf, param_distributions=param_dist, n_iter=20, cv=3, scoring='f1', verbose=1, n_jobs=-1, random_state=42)\n",
        "start_time = time.time()\n",
        "random_search.fit(X_train, y_train)\n",
        "print(f\"RandomizedSearchCV completed in {time.time() - start_time:.2f} seconds.\")\n",
        "\n",
        "# Best model\n",
        "rf_model = random_search.best_estimator_\n",
        "\n",
        "# Save the Random Forest model\n",
        "model_path = 'random_forest_model.joblib'\n",
        "joblib.dump(rf_model, model_path)\n",
        "print(f\"Model saved to {model_path}\")\n",
        "\n",
        "# Adjust threshold for classification\n",
        "y_proba = rf_model.predict_proba(X_test)[:, 1]  # Probabilities for the positive class\n",
        "threshold = 0.5  # Default threshold, can be optimized further\n",
        "y_pred = (y_proba >= threshold).astype(int)\n",
        "\n",
        "# Evaluate model\n",
        "print(\"Accuracy:\", accuracy_score(y_test, y_pred))\n",
        "print(\"Precision:\", precision_score(y_test, y_pred, zero_division=1))\n",
        "print(\"Recall:\", recall_score(y_test, y_pred, zero_division=1))\n",
        "print(\"F1 Score:\", f1_score(y_test, y_pred, zero_division=1))\n",
        "print(\"ROC-AUC Score:\", roc_auc_score(y_test, y_proba))\n",
        "\n",
        "# Classification report\n",
        "print(\"Classification Report:\")\n",
        "print(classification_report(y_test, y_pred))\n",
        "\n",
        "# Confusion matrix\n",
        "conf_matrix = confusion_matrix(y_test, y_pred)\n",
        "sns.heatmap(conf_matrix, annot=True, fmt='d', cmap='Blues', xticklabels=['Non-Damage', 'Damage'], yticklabels=['Non-Damage', 'Damage'])\n",
        "plt.xlabel('Predicted')\n",
        "plt.ylabel('True')\n",
        "plt.title('Confusion Matrix')\n",
        "plt.show()\n",
        ""
      ],
      "metadata": {
        "colab": {
          "base_uri": "https://localhost:8080/",
          "height": 906
        },
        "id": "fFSSyDA668So",
        "outputId": "31bb31ab-a812-4e27-e1c3-602a7a971269"
      },
      "execution_count": 8,
      "outputs": [
        {
          "output_type": "stream",
          "name": "stdout",
          "text": [
            "Class distribution:\n",
            "Binary_Class\n",
            "0    3493\n",
            "1     523\n",
            "Name: count, dtype: int64\n",
            "SMOTE oversampling completed in 0.06 seconds.\n",
            "Class weights: {0: 1.0, 1: 1.0}\n",
            "Fitting 3 folds for each of 20 candidates, totalling 60 fits\n",
            "RandomizedSearchCV completed in 420.00 seconds.\n",
            "Model saved to random_forest_model.joblib\n",
            "Accuracy: 0.8606965174129353\n",
            "Precision: 0.3157894736842105\n",
            "Recall: 0.05714285714285714\n",
            "F1 Score: 0.0967741935483871\n",
            "ROC-AUC Score: 0.623332652088017\n",
            "Classification Report:\n",
            "              precision    recall  f1-score   support\n",
            "\n",
            "           0       0.87      0.98      0.92       699\n",
            "           1       0.32      0.06      0.10       105\n",
            "\n",
            "    accuracy                           0.86       804\n",
            "   macro avg       0.59      0.52      0.51       804\n",
            "weighted avg       0.80      0.86      0.82       804\n",
            "\n"
          ]
        },
        {
          "output_type": "display_data",
          "data": {
            "text/plain": [
              "<Figure size 640x480 with 2 Axes>"
            ],
            "image/png": "[encoded data removed]"
          },
          "metadata": {}
        }
      ]
    },
    {
      "cell_type": "code",
      "source": [
        "\n",
        "# Import required libraries for data manipulation, visualization, model training, and evaluation\n",
        "import os\n",
        "import numpy as np\n",
        "import pandas as pd\n",
        "import seaborn as sns\n",
        "import matplotlib.pyplot as plt\n",
        "from sklearn.model_selection import train_test_split\n",
        "from sklearn.ensemble import RandomForestClassifier\n",
        "from sklearn.metrics import accuracy_score, precision_score, recall_score, f1_score, classification_report, confusion_matrix, roc_auc_score\n",
        "from sklearn.utils.class_weight import compute_class_weight\n",
        "from sklearn.model_selection import RandomizedSearchCV\n",
        "import joblib\n",
        "from gensim.models import Word2Vec\n",
        "from imblearn.over_sampling import SMOTE\n",
        "import time\n",
        "\n",
        "print(\"Libraries imported successfully.\")"
      ],
      "metadata": {
        "colab": {
          "base_uri": "https://localhost:8080/"
        },
        "id": "o_32_jce8ufO",
        "outputId": "30eb089c-1183-4f2a-9bcd-45100776dd29"
      },
      "execution_count": 9,
      "outputs": [
        {
          "output_type": "stream",
          "name": "stdout",
          "text": [
            "Libraries imported successfully.\n"
          ]
        }
      ]
    },
    {
      "cell_type": "code",
      "source": [
        "\n",
        "file_path = '/content/Hurricane_irma.csv'\n",
        "if not os.path.exists(file_path):\n",
        "    raise FileNotFoundError(f\"File not found: {file_path}\")\n",
        "else:\n",
        "    print(f\"File found at: {file_path}\")"
      ],
      "metadata": {
        "colab": {
          "base_uri": "https://localhost:8080/"
        },
        "id": "D4QlS13q85TH",
        "outputId": "095115b7-d41b-42a8-d9a2-c83d6bbc8b88"
      },
      "execution_count": 10,
      "outputs": [
        {
          "output_type": "stream",
          "name": "stdout",
          "text": [
            "File found at: /content/Hurricane_irma.csv\n"
          ]
        }
      ]
    },
    {
      "cell_type": "code",
      "source": [
        "# Load the dataset and check for required columns\n",
        "data = pd.read_csv(file_path)\n",
        "print(f\"Dataset loaded successfully with shape: {data.shape}\")\n",
        "\n",
        "if 'processed_data' not in data.columns or 'Binary_Class' not in data.columns:\n",
        "    raise KeyError(\"The dataset must contain 'processed_data' and 'Binary_Class' columns.\")\n",
        "else:\n",
        "    print(\"Required columns are present in the dataset.\")\n",
        "\n",
        "# Preprocess data: fill missing values and map labels to binary values\n",
        "data['processed_data'] = data['processed_data'].fillna('').astype(str)\n",
        "data['Binary_Class'] = data['Binary_Class'].map({'Non-Damage': 0, 'Damage': 1})\n",
        "print(\"Data preprocessing completed.\")\n",
        ""
      ],
      "metadata": {
        "colab": {
          "base_uri": "https://localhost:8080/"
        },
        "id": "kL741nms9BpI",
        "outputId": "9c774c20-fd66-47eb-f3fd-9168fa8915ec"
      },
      "execution_count": 11,
      "outputs": [
        {
          "output_type": "stream",
          "name": "stdout",
          "text": [
            "Dataset loaded successfully with shape: (4016, 5)\n",
            "Required columns are present in the dataset.\n",
            "Data preprocessing completed.\n"
          ]
        }
      ]
    },
    {
      "cell_type": "code",
      "source": [
        "# Check the distribution of the target class\n",
        "print(\"Class distribution:\")\n",
        "print(data['Binary_Class'].value_counts())"
      ],
      "metadata": {
        "colab": {
          "base_uri": "https://localhost:8080/"
        },
        "id": "UzETk44_9EAd",
        "outputId": "2b618f56-638a-444d-a939-9c4c962aa3f6"
      },
      "execution_count": 12,
      "outputs": [
        {
          "output_type": "stream",
          "name": "stdout",
          "text": [
            "Class distribution:\n",
            "Binary_Class\n",
            "0    3493\n",
            "1     523\n",
            "Name: count, dtype: int64\n"
          ]
        }
      ]
    },
    {
      "cell_type": "code",
      "source": [
        "# Tokenize the 'processed_data' into lists of words\n",
        "sentences = [sentence.split() for sentence in data['processed_data']]\n",
        "labels = data['Binary_Class'].values\n",
        "print(f\"Tokenized {len(sentences)} sentences.\")"
      ],
      "metadata": {
        "colab": {
          "base_uri": "https://localhost:8080/"
        },
        "id": "9qzCicRD9E87",
        "outputId": "c7a030f2-970b-42ad-c6ca-d9eeae35b866"
      },
      "execution_count": 13,
      "outputs": [
        {
          "output_type": "stream",
          "name": "stdout",
          "text": [
            "Tokenized 4016 sentences.\n"
          ]
        }
      ]
    },
    {
      "cell_type": "code",
      "source": [
        "## Cell 5: Tokenize and split data\n",
        "sentences = [sentence.split() for sentence in data['processed_data']]\n",
        "labels = data['Binary_Class'].values\n",
        "print(\"Data tokenized.\")"
      ],
      "metadata": {
        "colab": {
          "base_uri": "https://localhost:8080/"
        },
        "id": "fSSH-_0y9IOr",
        "outputId": "e4dcdf1c-c1a5-4af5-ebe9-38a2813d6686"
      },
      "execution_count": 14,
      "outputs": [
        {
          "output_type": "stream",
          "name": "stdout",
          "text": [
            "Data tokenized.\n"
          ]
        }
      ]
    },
    {
      "cell_type": "code",
      "source": [
        "# Train a Word2Vec model to create word embeddings\n",
        "word2vec_model = Word2Vec(sentences, vector_size=300, window=5, min_count=1, sg=0)\n",
        "print(\"Word2Vec model trained successfully.\")\n"
      ],
      "metadata": {
        "colab": {
          "base_uri": "https://localhost:8080/"
        },
        "id": "jJDStCBA9Lb3",
        "outputId": "f7188fc9-5455-496a-9944-3014f0e576dd"
      },
      "execution_count": 15,
      "outputs": [
        {
          "output_type": "stream",
          "name": "stdout",
          "text": [
            "Word2Vec model trained successfully.\n"
          ]
        }
      ]
    },
    {
      "cell_type": "code",
      "source": [
        "# Create an embedding matrix using the trained Word2Vec model\n",
        "vocab_size = len(word2vec_model.wv.index_to_key)\n",
        "embedding_dim = word2vec_model.vector_size\n",
        "word_index = {word: idx + 1 for idx, word in enumerate(word2vec_model.wv.index_to_key)}\n",
        "print(f\"Embedding matrix created with vocabulary size: {vocab_size} and embedding dimension: {embedding_dim}.\")\n"
      ],
      "metadata": {
        "colab": {
          "base_uri": "https://localhost:8080/"
        },
        "id": "y-Hz4JW-9Pm9",
        "outputId": "6c4d3418-6a6f-41e8-bc79-34c9ffdd00c8"
      },
      "execution_count": 16,
      "outputs": [
        {
          "output_type": "stream",
          "name": "stdout",
          "text": [
            "Embedding matrix created with vocabulary size: 6553 and embedding dimension: 300.\n"
          ]
        }
      ]
    },
    {
      "cell_type": "code",
      "source": [
        "# Convert tokenized sentences to sequences of indices and calculate mean embeddings\n",
        "X = [[word_index.get(word, 0) for word in sentence] for sentence in sentences]\n",
        "\n",
        "# Aggregate embeddings for each sentence using the mean of the word vectors\n",
        "X = np.array([np.mean([word2vec_model.wv[word] for word in sentence if word in word2vec_model.wv] or [np.zeros(embedding_dim)], axis=0) for sentence in sentences])\n",
        "print(f\"Mean embeddings calculated for {len(X)} samples.\")"
      ],
      "metadata": {
        "colab": {
          "base_uri": "https://localhost:8080/"
        },
        "id": "4heKQeW39TYe",
        "outputId": "3da3a1a7-1fe4-4588-d351-5422ab035a24"
      },
      "execution_count": 17,
      "outputs": [
        {
          "output_type": "stream",
          "name": "stdout",
          "text": [
            "Mean embeddings calculated for 4016 samples.\n"
          ]
        }
      ]
    },
    {
      "cell_type": "code",
      "source": [
        "# Split the data into training and testing sets\n",
        "X_train, X_test, y_train, y_test = train_test_split(X, labels, test_size=0.2, random_state=42, stratify=labels)\n",
        "print(f\"Training set size: {len(X_train)}, Testing set size: {len(X_test)}\")\n",
        ""
      ],
      "metadata": {
        "colab": {
          "base_uri": "https://localhost:8080/"
        },
        "id": "uzoogPkU9UkU",
        "outputId": "78bfce20-7584-4810-874c-24e35ea5f9af"
      },
      "execution_count": 18,
      "outputs": [
        {
          "output_type": "stream",
          "name": "stdout",
          "text": [
            "Training set size: 3212, Testing set size: 804\n"
          ]
        }
      ]
    },
    {
      "cell_type": "code",
      "source": [
        "# Oversample the minority class using Synthetic Minority Oversampling Technique (SMOTE)\n",
        "start_time = time.time()\n",
        "smote = SMOTE(random_state=42)\n",
        "X_train, y_train = smote.fit_resample(X_train, y_train)\n",
        "print(f\"SMOTE oversampling completed in {time.time() - start_time:.2f} seconds. New training set size: {len(X_train)}\")"
      ],
      "metadata": {
        "colab": {
          "base_uri": "https://localhost:8080/"
        },
        "id": "qMsx7tSU9YZ4",
        "outputId": "afc537b6-6f59-4021-91d9-2435dcb882d6"
      },
      "execution_count": 19,
      "outputs": [
        {
          "output_type": "stream",
          "name": "stdout",
          "text": [
            "SMOTE oversampling completed in 0.06 seconds. New training set size: 5588\n"
          ]
        }
      ]
    },
    {
      "cell_type": "code",
      "source": [
        "# Calculate class weights to handle class imbalance during model training\n",
        "class_weights = compute_class_weight(class_weight='balanced', classes=np.unique(y_train), y=y_train)\n",
        "class_weights_dict = {i: class_weights[i] for i in range(len(class_weights))}\n",
        "print(\"Class weights calculated:\", class_weights_dict)"
      ],
      "metadata": {
        "colab": {
          "base_uri": "https://localhost:8080/"
        },
        "id": "4BZmfS9S9bgs",
        "outputId": "e317b259-7677-4619-ea84-5fed91885f72"
      },
      "execution_count": 20,
      "outputs": [
        {
          "output_type": "stream",
          "name": "stdout",
          "text": [
            "Class weights calculated: {0: 1.0, 1: 1.0}\n"
          ]
        }
      ]
    },
    {
      "cell_type": "code",
      "source": [
        "# Define hyperparameter search space for Random Forest\n",
        "param_dist = {\n",
        "    'n_estimators': [50, 100, 200],\n",
        "    'max_depth': [10, 20, None],\n",
        "    'min_samples_split': [2, 5],\n",
        "    'min_samples_leaf': [1, 2]\n",
        "}\n",
        "\n",
        "# Initialize the Random Forest Classifier with class weights\n",
        "rf = RandomForestClassifier(class_weight=class_weights_dict, random_state=42)\n",
        "random_search = RandomizedSearchCV(estimator=rf, param_distributions=param_dist, n_iter=20, cv=3, scoring='f1', verbose=1, n_jobs=-1, random_state=42)\n",
        "print(\"Hyperparameter search space defined.\")"
      ],
      "metadata": {
        "colab": {
          "base_uri": "https://localhost:8080/"
        },
        "id": "VFHebYMI9eLM",
        "outputId": "4d0f49d5-64db-4aac-f4af-f4fe0550f7ee"
      },
      "execution_count": 21,
      "outputs": [
        {
          "output_type": "stream",
          "name": "stdout",
          "text": [
            "Hyperparameter search space defined.\n"
          ]
        }
      ]
    },
    {
      "cell_type": "code",
      "source": [
        "# Train the Random Forest model using RandomizedSearchCV for hyperparameter tuning\n",
        "start_time = time.time()\n",
        "random_search.fit(X_train, y_train)\n",
        "print(f\"RandomizedSearchCV completed in {time.time() - start_time:.2f} seconds.\")\n"
      ],
      "metadata": {
        "colab": {
          "base_uri": "https://localhost:8080/"
        },
        "id": "G0mZcIxr9fV7",
        "outputId": "febf40d7-4382-4bb5-871d-fe23e32df5a7"
      },
      "execution_count": 22,
      "outputs": [
        {
          "output_type": "stream",
          "name": "stdout",
          "text": [
            "Fitting 3 folds for each of 20 candidates, totalling 60 fits\n",
            "RandomizedSearchCV completed in 433.14 seconds.\n"
          ]
        }
      ]
    },
    {
      "cell_type": "code",
      "source": [
        "# Retrieve the best model from RandomizedSearchCV and save it\n",
        "rf_model = random_search.best_estimator_\n",
        "model_path = 'random_forest_model.joblib'\n",
        "joblib.dump(rf_model, model_path)\n",
        "print(f\"Best model saved to: {model_path}\")\n"
      ],
      "metadata": {
        "colab": {
          "base_uri": "https://localhost:8080/"
        },
        "id": "FmUyDDqE9iZz",
        "outputId": "4806992b-8812-4177-b22e-273b255deaa9"
      },
      "execution_count": 24,
      "outputs": [
        {
          "output_type": "stream",
          "name": "stdout",
          "text": [
            "Best model saved to: random_forest_model.joblib\n"
          ]
        }
      ]
    },
    {
      "cell_type": "code",
      "source": [
        "# Generate predictions by adjusting the classification threshold\n",
        "y_proba = rf_model.predict_proba(X_test)[:, 1]  # Probabilities for the positive class\n",
        "threshold = 0.5  # Default threshold, can be optimized further\n",
        "y_pred = (y_proba >= threshold).astype(int)\n",
        "print(f\"Predictions generated using threshold: {threshold}\")\n"
      ],
      "metadata": {
        "colab": {
          "base_uri": "https://localhost:8080/"
        },
        "id": "tAkyn8AB9llB",
        "outputId": "2937335c-31a3-4f09-b3c2-96eef0cfba2b"
      },
      "execution_count": 26,
      "outputs": [
        {
          "output_type": "stream",
          "name": "stdout",
          "text": [
            "Predictions generated using threshold: 0.5\n"
          ]
        }
      ]
    },
    {
      "cell_type": "code",
      "source": [
        "# Evaluate the model on various metrics\n",
        "print(\"Evaluation Metrics:\")\n",
        "print(f\"Accuracy: {accuracy_score(y_test, y_pred)}\")\n",
        "print(f\"Precision: {precision_score(y_test, y_pred, zero_division=1)}\")\n",
        "print(f\"Recall: {recall_score(y_test, y_pred, zero_division=1)}\")\n",
        "print(f\"F1 Score: {f1_score(y_test, y_pred, zero_division=1)}\")\n",
        "print(f\"ROC-AUC Score: {roc_auc_score(y_test, y_proba)}\")"
      ],
      "metadata": {
        "colab": {
          "base_uri": "https://localhost:8080/"
        },
        "id": "Dkxs8K0f9mLE",
        "outputId": "3dd2acb9-f03e-403b-d4ba-5ce23190f340"
      },
      "execution_count": 28,
      "outputs": [
        {
          "output_type": "stream",
          "name": "stdout",
          "text": [
            "Evaluation Metrics:\n",
            "Accuracy: 0.8582089552238806\n",
            "Precision: 0.2\n",
            "Recall: 0.02857142857142857\n",
            "F1 Score: 0.05\n",
            "ROC-AUC Score: 0.6331766469105524\n"
          ]
        }
      ]
    },
    {
      "cell_type": "code",
      "source": [
        "# Generate a detailed classification report\n",
        "print(\"Classification Report:\")\n",
        "print(classification_report(y_test, y_pred))\n",
        "# Plot the confusion matrix for the test set\n",
        "conf_matrix = confusion_matrix(y_test, y_pred)\n",
        "sns.heatmap(conf_matrix, annot=True, fmt='d', cmap='Blues', xticklabels=['Non-Damage', 'Damage'], yticklabels=['Non-Damage', 'Damage'])\n",
        "plt.xlabel('Predicted')\n",
        "plt.ylabel('True')\n",
        "plt.title('Confusion Matrix')\n",
        "plt.show()\n",
        "print(\"Confusion matrix plotted successfully.\")"
      ],
      "metadata": {
        "colab": {
          "base_uri": "https://localhost:8080/",
          "height": 663
        },
        "id": "gOH3F04A9qA5",
        "outputId": "33090521-9db8-4dcf-8b78-4c770910b217"
      },
      "execution_count": 23,
      "outputs": [
        {
          "output_type": "stream",
          "name": "stdout",
          "text": [
            "Classification Report:\n",
            "              precision    recall  f1-score   support\n",
            "\n",
            "           0       0.87      0.98      0.92       699\n",
            "           1       0.32      0.06      0.10       105\n",
            "\n",
            "    accuracy                           0.86       804\n",
            "   macro avg       0.59      0.52      0.51       804\n",
            "weighted avg       0.80      0.86      0.82       804\n",
            "\n"
          ]
        },
        {
          "output_type": "display_data",
          "data": {
            "text/plain": [
              "<Figure size 640x480 with 2 Axes>"
            ],
            "image/png": "[encoded data removed]"
          },
          "metadata": {}
        },
        {
          "output_type": "stream",
          "name": "stdout",
          "text": [
            "Confusion matrix plotted successfully.\n"
          ]
        }
      ]
    }
  ]
}