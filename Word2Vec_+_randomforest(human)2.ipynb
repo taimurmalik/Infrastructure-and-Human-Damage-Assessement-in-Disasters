{
  "nbformat": 4,
  "nbformat_minor": 0,
  "metadata": {
    "colab": {
      "provenance": [],
      "gpuType": "T4"
    },
    "kernelspec": {
      "name": "python3",
      "display_name": "Python 3"
    },
    "language_info": {
      "name": "python"
    },
    "accelerator": "GPU"
  },
  "cells": [
    {
      "cell_type": "code",
      "source": [
        "import os\n",
        "import numpy as np\n",
        "import pandas as pd\n",
        "import seaborn as sns\n",
        "import matplotlib.pyplot as plt\n",
        "from sklearn.model_selection import train_test_split\n",
        "from sklearn.ensemble import RandomForestClassifier\n",
        "from sklearn.metrics import accuracy_score, precision_score, recall_score, f1_score, classification_report, confusion_matrix\n",
        "from sklearn.utils.class_weight import compute_class_weight\n",
        "from sklearn.model_selection import RandomizedSearchCV\n",
        "import joblib\n",
        "from gensim.models import Word2Vec\n",
        "from imblearn.over_sampling import SMOTE\n",
        "import time\n",
        "\n",
        "print(\"All required libraries have been successfully imported.\")\n"
      ],
      "metadata": {
        "colab": {
          "base_uri": "https://localhost:8080/"
        },
        "id": "RxOQSuBNBEAu",
        "outputId": "7fb97c91-65d0-4ba2-f987-c05d4298471e"
      },
      "execution_count": 11,
      "outputs": [
        {
          "output_type": "stream",
          "name": "stdout",
          "text": [
            "All required libraries have been successfully imported.\n"
          ]
        }
      ]
    },
    {
      "cell_type": "code",
      "source": [
        "# Define file path\n",
        "file_path = '/content/Hurricane_irma final file.csv'\n",
        "\n",
        "# Check if the file exists\n",
        "if not os.path.exists(file_path):\n",
        "    raise FileNotFoundError(f\"File not found: {file_path}\")\n",
        "else:\n",
        "    print(f\"Dataset located at: {file_path}\")\n",
        "\n",
        "# Load dataset\n",
        "data = pd.read_csv(file_path)\n",
        "print(f\"Dataset successfully loaded. Shape: {data.shape}\")\n",
        "\n",
        "# Validate required columns\n",
        "required_columns = ['processed_data', 'Humanitarian_Class']\n",
        "if not all(col in data.columns for col in required_columns):\n",
        "    raise KeyError(f\"Dataset must contain columns: {required_columns}\")\n",
        "else:\n",
        "    print(\"Required columns are present in the dataset.\")\n"
      ],
      "metadata": {
        "colab": {
          "base_uri": "https://localhost:8080/"
        },
        "id": "TQnzQ_-FBTht",
        "outputId": "7fe4b570-e44b-4e86-839c-7cb1e556e11e"
      },
      "execution_count": 12,
      "outputs": [
        {
          "output_type": "stream",
          "name": "stdout",
          "text": [
            "Dataset located at: /content/Hurricane_irma final file.csv\n",
            "Dataset successfully loaded. Shape: (4016, 5)\n",
            "Required columns are present in the dataset.\n"
          ]
        }
      ]
    },
    {
      "cell_type": "code",
      "source": [
        "# Fill missing values and ensure correct data types\n",
        "data['processed_data'] = data['processed_data'].fillna('').astype(str)\n",
        "data['Humanitarian_Class'] = data['Humanitarian_Class'].astype(str)\n",
        "\n",
        "# Encode class labels into numerical values\n",
        "class_mapping = {label: idx for idx, label in enumerate(data['Humanitarian_Class'].unique())}\n",
        "data['Humanitarian_Class'] = data['Humanitarian_Class'].map(class_mapping)\n",
        "\n",
        "print(\"Data preprocessing completed. Missing values handled and classes encoded.\")\n"
      ],
      "metadata": {
        "colab": {
          "base_uri": "https://localhost:8080/"
        },
        "id": "uH_PjrAaDk_r",
        "outputId": "2f957e4a-5289-46d9-ddfb-7113ab528895"
      },
      "execution_count": 13,
      "outputs": [
        {
          "output_type": "stream",
          "name": "stdout",
          "text": [
            "Data preprocessing completed. Missing values handled and classes encoded.\n"
          ]
        }
      ]
    },
    {
      "cell_type": "code",
      "source": [
        "# Get class distribution\n",
        "class_counts = data['Humanitarian_Class'].value_counts()\n",
        "\n",
        "# Retain only classes with at least 2 instances\n",
        "valid_classes = class_counts[class_counts >= 2].index\n",
        "filtered_data = data[data['Humanitarian_Class'].isin(valid_classes)]\n",
        "\n",
        "print(f\"Classes filtered. Remaining classes: {list(valid_classes)}\")\n"
      ],
      "metadata": {
        "colab": {
          "base_uri": "https://localhost:8080/"
        },
        "id": "KhhKLRg4DpfE",
        "outputId": "faf90b4e-ffc2-4669-e7b2-35732e3fbeb8"
      },
      "execution_count": 14,
      "outputs": [
        {
          "output_type": "stream",
          "name": "stdout",
          "text": [
            "Classes filtered. Remaining classes: [0, 1, 3, 2]\n"
          ]
        }
      ]
    },
    {
      "cell_type": "code",
      "source": [
        "# Tokenize text data\n",
        "sentences = [sentence.split() for sentence in filtered_data['processed_data']]\n",
        "labels = filtered_data['Humanitarian_Class'].values\n",
        "\n",
        "print(f\"Tokenization completed. Total processed sentences: {len(sentences)}\")\n"
      ],
      "metadata": {
        "colab": {
          "base_uri": "https://localhost:8080/"
        },
        "id": "52sAHCgrDzW7",
        "outputId": "3d9911c6-41e6-4f0d-883e-0d5a2daca00d"
      },
      "execution_count": 15,
      "outputs": [
        {
          "output_type": "stream",
          "name": "stdout",
          "text": [
            "Tokenization completed. Total processed sentences: 4016\n"
          ]
        }
      ]
    },
    {
      "cell_type": "code",
      "source": [
        "# Train Word2Vec model\n",
        "word2vec_model = Word2Vec(sentences, vector_size=300, window=5, min_count=1, sg=0)\n",
        "\n",
        "# Extract vocabulary size and embedding dimensions\n",
        "vocab_size = len(word2vec_model.wv.index_to_key)\n",
        "embedding_dim = word2vec_model.vector_size\n",
        "\n",
        "print(f\"Word2Vec model trained successfully. Vocabulary size: {vocab_size}, Embedding dimension: {embedding_dim}\")\n"
      ],
      "metadata": {
        "colab": {
          "base_uri": "https://localhost:8080/"
        },
        "id": "efLSXm6bD4hm",
        "outputId": "73eb52e2-4402-4532-bb11-6a2c75e56560"
      },
      "execution_count": 16,
      "outputs": [
        {
          "output_type": "stream",
          "name": "stdout",
          "text": [
            "Word2Vec model trained successfully. Vocabulary size: 6553, Embedding dimension: 300\n"
          ]
        }
      ]
    },
    {
      "cell_type": "code",
      "source": [
        "# Train Word2Vec model\n",
        "word2vec_model = Word2Vec(sentences, vector_size=300, window=5, min_count=1, sg=0)\n",
        "print(\"Word2Vec model trained successfully.\")\n"
      ],
      "metadata": {
        "colab": {
          "base_uri": "https://localhost:8080/"
        },
        "id": "17neHnIfD7SV",
        "outputId": "3191b3ef-895c-4e64-af09-f603f07e8483"
      },
      "execution_count": 8,
      "outputs": [
        {
          "output_type": "stream",
          "name": "stdout",
          "text": [
            "Word2Vec model trained successfully.\n"
          ]
        }
      ]
    },
    {
      "cell_type": "code",
      "source": [
        "# Create word index mapping\n",
        "word_index = {word: idx + 1 for idx, word in enumerate(word2vec_model.wv.index_to_key)}\n",
        "\n",
        "# Convert sentences into sequences of word indices\n",
        "X = [[word_index.get(word, 0) for word in sentence] for sentence in sentences]\n",
        "\n",
        "# Compute sentence-level embeddings by averaging word vectors\n",
        "X = np.array([np.mean([word2vec_model.wv[word] for word in sentence if word in word2vec_model.wv] or [np.zeros(embedding_dim)], axis=0) for sentence in sentences])\n",
        "\n",
        "print(f\"Sentence embeddings created. Total samples: {X.shape[0]}\")\n"
      ],
      "metadata": {
        "colab": {
          "base_uri": "https://localhost:8080/"
        },
        "id": "6ihgZb3uD96K",
        "outputId": "89169908-1076-4d7e-9d35-9ecf29eaa16b"
      },
      "execution_count": 17,
      "outputs": [
        {
          "output_type": "stream",
          "name": "stdout",
          "text": [
            "Sentence embeddings created. Total samples: 4016\n"
          ]
        }
      ]
    },
    {
      "cell_type": "code",
      "source": [
        "X_train, X_test, y_train, y_test = train_test_split(X, labels, test_size=0.2, random_state=42, stratify=labels)\n",
        "print(f\"Data split into training (n={len(X_train)}) and testing (n={len(X_test)}) sets.\")\n"
      ],
      "metadata": {
        "colab": {
          "base_uri": "https://localhost:8080/"
        },
        "id": "Ns1bSurTEAjY",
        "outputId": "86978d92-c35b-4f9a-813a-789a47d7bd31"
      },
      "execution_count": 18,
      "outputs": [
        {
          "output_type": "stream",
          "name": "stdout",
          "text": [
            "Data split into training (n=3212) and testing (n=804) sets.\n"
          ]
        }
      ]
    },
    {
      "cell_type": "code",
      "source": [
        "# Initialize SMOTE with k_neighbors=2 to handle rare classes\n",
        "smote = SMOTE(random_state=42, k_neighbors=2)\n",
        "\n",
        "start_time = time.time()\n",
        "X_train, y_train = smote.fit_resample(X_train, y_train)\n",
        "end_time = time.time()\n",
        "\n",
        "print(f\"SMOTE completed in {end_time - start_time:.2f} seconds. New training set size: {len(X_train)}\")\n"
      ],
      "metadata": {
        "colab": {
          "base_uri": "https://localhost:8080/"
        },
        "id": "1MRXGJRIEGuP",
        "outputId": "071c117c-92c9-42fa-f96e-7d5f0519fcd5"
      },
      "execution_count": 19,
      "outputs": [
        {
          "output_type": "stream",
          "name": "stdout",
          "text": [
            "SMOTE completed in 0.20 seconds. New training set size: 10764\n"
          ]
        }
      ]
    },
    {
      "cell_type": "code",
      "source": [
        "class_weights = compute_class_weight(class_weight='balanced', classes=np.unique(y_train), y=y_train)\n",
        "class_weights_dict = {i: class_weights[i] for i in range(len(class_weights))}\n",
        "\n",
        "print(\"Class weights computed:\", class_weights_dict)\n"
      ],
      "metadata": {
        "colab": {
          "base_uri": "https://localhost:8080/"
        },
        "id": "Bi5NXldGFHBf",
        "outputId": "5d83541f-02c0-43b2-d14e-b96e8cf74d89"
      },
      "execution_count": 20,
      "outputs": [
        {
          "output_type": "stream",
          "name": "stdout",
          "text": [
            "Class weights computed: {0: 1.0, 1: 1.0, 2: 1.0, 3: 1.0}\n"
          ]
        }
      ]
    },
    {
      "cell_type": "code",
      "source": [
        "# Define hyperparameter search space\n",
        "param_dist = {\n",
        "    'n_estimators': [50, 100, 200],\n",
        "    'max_depth': [10, 20, None],\n",
        "    'min_samples_split': [2, 5],\n",
        "    'min_samples_leaf': [1, 2]\n",
        "}\n",
        "\n",
        "# Initialize Random Forest model\n",
        "rf = RandomForestClassifier(class_weight=class_weights_dict, random_state=42)\n",
        "\n",
        "# Initialize RandomizedSearchCV\n",
        "random_search = RandomizedSearchCV(\n",
        "    estimator=rf, param_distributions=param_dist, n_iter=20, cv=3, scoring='f1_weighted', verbose=1, n_jobs=-1, random_state=42\n",
        ")\n",
        "\n",
        "# Train model\n",
        "start_time = time.time()\n",
        "random_search.fit(X_train, y_train)\n",
        "end_time = time.time()\n",
        "\n",
        "print(f\"Hyperparameter tuning completed in {end_time - start_time:.2f} seconds.\")\n"
      ],
      "metadata": {
        "colab": {
          "base_uri": "https://localhost:8080/"
        },
        "id": "qdeXok8OFJl8",
        "outputId": "53b22bbe-c855-4ac1-cbd2-20cd6a7a5b65"
      },
      "execution_count": 21,
      "outputs": [
        {
          "output_type": "stream",
          "name": "stdout",
          "text": [
            "Fitting 3 folds for each of 20 candidates, totalling 60 fits\n",
            "Hyperparameter tuning completed in 736.80 seconds.\n"
          ]
        }
      ]
    },
    {
      "cell_type": "code",
      "source": [
        "rf_model = random_search.best_estimator_\n",
        "model_path = 'random_forest_humanitarian_model.joblib'\n",
        "joblib.dump(rf_model, model_path)\n",
        "\n",
        "print(f\"Best model saved at: {model_path}\")\n"
      ],
      "metadata": {
        "colab": {
          "base_uri": "https://localhost:8080/"
        },
        "id": "DRP4HewpFOf-",
        "outputId": "b0b95cff-6d87-4bc1-f104-7b3fc506777c"
      },
      "execution_count": 22,
      "outputs": [
        {
          "output_type": "stream",
          "name": "stdout",
          "text": [
            "Best model saved at: random_forest_humanitarian_model.joblib\n"
          ]
        }
      ]
    },
    {
      "cell_type": "code",
      "source": [
        "# Generate predictions\n",
        "y_pred = rf_model.predict(X_test)\n",
        "\n",
        "# Compute evaluation metrics\n",
        "accuracy = accuracy_score(y_test, y_pred)\n",
        "precision = precision_score(y_test, y_pred, average='weighted', zero_division=1)\n",
        "recall = recall_score(y_test, y_pred, average='weighted', zero_division=1)\n",
        "f1 = f1_score(y_test, y_pred, average='weighted', zero_division=1)\n",
        "\n",
        "print(f\"Evaluation Metrics:\\nAccuracy: {accuracy:.4f}\\nPrecision: {precision:.4f}\\nRecall: {recall:.4f}\\nF1 Score: {f1:.4f}\")\n"
      ],
      "metadata": {
        "colab": {
          "base_uri": "https://localhost:8080/"
        },
        "id": "7Qzk78kMFPVf",
        "outputId": "83d97ff6-c8c2-4a08-99aa-d1199f04ccf3"
      },
      "execution_count": 23,
      "outputs": [
        {
          "output_type": "stream",
          "name": "stdout",
          "text": [
            "Evaluation Metrics:\n",
            "Accuracy: 0.8408\n",
            "Precision: 0.8389\n",
            "Recall: 0.8408\n",
            "F1 Score: 0.7756\n"
          ]
        }
      ]
    },
    {
      "cell_type": "code",
      "source": [
        "conf_matrix = confusion_matrix(y_test, y_pred)\n",
        "sns.heatmap(conf_matrix, annot=True, fmt='d', cmap='Blues')\n",
        "\n",
        "plt.xlabel('Predicted')\n",
        "plt.ylabel('True')\n",
        "plt.title('Confusion Matrix')\n",
        "plt.show()\n",
        "\n",
        "print(\"Confusion matrix plotted successfully.\")\n"
      ],
      "metadata": {
        "colab": {
          "base_uri": "https://localhost:8080/",
          "height": 489
        },
        "id": "BBOjDmz0FRnE",
        "outputId": "8a53bd0c-9910-457e-efc6-ea9637eed0eb"
      },
      "execution_count": 24,
      "outputs": [
        {
          "output_type": "display_data",
          "data": {
            "text/plain": [
              "<Figure size 640x480 with 2 Axes>"
            ],
            "image/png": "[encoded data removed]"
          },
          "metadata": {}
        },
        {
          "output_type": "stream",
          "name": "stdout",
          "text": [
            "Confusion matrix plotted successfully.\n"
          ]
        }
      ]
    }
  ]
}