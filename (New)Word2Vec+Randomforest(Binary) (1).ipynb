{
  "nbformat": 4,
  "nbformat_minor": 0,
  "metadata": {
    "colab": {
      "provenance": [],
      "gpuType": "V28"
    },
    "kernelspec": {
      "name": "python3",
      "display_name": "Python 3"
    },
    "language_info": {
      "name": "python"
    },
    "accelerator": "TPU"
  },
  "cells": [
    {
      "cell_type": "code",
      "execution_count": 1,
      "metadata": {
        "colab": {
          "base_uri": "https://localhost:8080/"
        },
        "id": "Uto2lnUYF9FU",
        "outputId": "a456316a-02f3-4b41-e035-9d384e2bd3ea"
      },
      "outputs": [
        {
          "output_type": "stream",
          "name": "stdout",
          "text": [
            "Data split completed and saved as CSV files.\n"
          ]
        }
      ],
      "source": [
        "import pandas as pd\n",
        "from sklearn.model_selection import train_test_split\n",
        "\n",
        "# Load the dataset (update the path as needed)\n",
        "file_path = \"/content/Merged_Disasters(2).csv\"\n",
        "df = pd.read_csv(file_path)\n",
        "\n",
        "# Perform stratified splitting\n",
        "train_df, temp_df = train_test_split(df, test_size=0.30, stratify=df[\"Binary_class\"], random_state=42)\n",
        "val_df, test_df = train_test_split(temp_df, test_size=0.50, stratify=temp_df[\"Binary_class\"], random_state=42)\n",
        "\n",
        "# Save the split datasets\n",
        "train_df.to_csv(\"train_data.csv\", index=False)\n",
        "val_df.to_csv(\"val_data.csv\", index=False)\n",
        "test_df.to_csv(\"test_data.csv\", index=False)\n",
        "\n",
        "# Create a structured summary table\n",
        "split_summary = pd.DataFrame({\n",
        "    \"Train (70%)\": train_df[\"Binary_class\"].value_counts(),\n",
        "    \"Validation (15%)\": val_df[\"Binary_class\"].value_counts(),\n",
        "    \"Test (15%)\": test_df[\"Binary_class\"].value_counts(),\n",
        "    \"Total\": df[\"Binary_class\"].value_counts()\n",
        "}).T\n",
        "\n",
        "# Save the summary table\n",
        "split_summary.to_csv(\"split_summary.csv\")\n",
        "\n",
        "print(\"Data split completed and saved as CSV files.\")\n",
        "\n"
      ]
    },
    {
      "cell_type": "code",
      "source": [
        "import pandas as pd\n",
        "import numpy as np\n",
        "import os\n",
        "import joblib\n",
        "import seaborn as sns\n",
        "import matplotlib.pyplot as plt\n",
        "from gensim.models import Word2Vec\n",
        "from sklearn.ensemble import RandomForestClassifier\n",
        "from sklearn.metrics import accuracy_score, classification_report, roc_auc_score, confusion_matrix\n",
        "from sklearn.utils.class_weight import compute_class_weight\n",
        "from imblearn.over_sampling import SMOTE\n",
        "\n",
        "# Paths to the split data\n",
        "train_path = \"/content/train_data.csv\"\n",
        "val_path = \"/content/val_data.csv\"\n",
        "test_path = \"/content/test_data.csv\"\n",
        "\n",
        "# Load the data\n",
        "train_df = pd.read_csv(train_path)\n",
        "val_df = pd.read_csv(val_path)\n",
        "test_df = pd.read_csv(test_path)\n",
        "\n",
        "# Standardize labels\n",
        "label_map = {'damage': 1, 'non-damage': 0}\n",
        "train_df['Binary_class'] = train_df['Binary_class'].str.strip().str.lower().replace({'non-damage': 'non-damage'})\n",
        "val_df['Binary_class'] = val_df['Binary_class'].str.strip().str.lower().replace({'non-damage': 'non-damage'})\n",
        "test_df['Binary_class'] = test_df['Binary_class'].str.strip().str.lower().replace({'non-damage': 'non-damage'})\n",
        "\n",
        "# Convert labels to numerical format\n",
        "y_train = train_df['Binary_class'].map(label_map)\n",
        "y_val = val_df['Binary_class'].map(label_map)\n",
        "y_test = test_df['Binary_class'].map(label_map)\n",
        "\n",
        "# Ensure 'tweet_text' exists and handle missing values\n",
        "train_texts = train_df['tweet_text'].fillna(\"\").apply(lambda x: x.lower().split())\n",
        "val_texts = val_df['tweet_text'].fillna(\"\").apply(lambda x: x.lower().split())\n",
        "test_texts = test_df['tweet_text'].fillna(\"\").apply(lambda x: x.lower().split())\n",
        "\n",
        "# Display class distributions before SMOTE\n",
        "print(\"Original Train class distribution:\\n\", y_train.value_counts())\n",
        "print(\"Validation class distribution:\\n\", y_val.value_counts())\n",
        "print(\"Test class distribution:\\n\", y_test.value_counts())\n",
        "\n",
        "# Word2Vec model\n",
        "w2v_model = Word2Vec(sentences=train_texts, vector_size=100, window=5, min_count=1, workers=4)\n",
        "\n",
        "# Function to convert text to Word2Vec vectors\n",
        "def text_to_w2v_vector(text, model, vector_size=100):\n",
        "    words = [word for word in text if word in model.wv]\n",
        "    if len(words) == 0:\n",
        "        return np.zeros(vector_size)\n",
        "    return np.mean(model.wv[words], axis=0)\n",
        "\n",
        "# Convert texts to vectors\n",
        "X_train = np.array([text_to_w2v_vector(text, w2v_model) for text in train_texts])\n",
        "X_val = np.array([text_to_w2v_vector(text, w2v_model) for text in val_texts])\n",
        "X_test = np.array([text_to_w2v_vector(text, w2v_model) for text in test_texts])\n",
        "\n",
        "# Display dataset shapes\n",
        "print(f\"Train Data Shape: {X_train.shape}, Labels: {y_train.shape}\")\n",
        "print(f\"Validation Data Shape: {X_val.shape}, Labels: {y_val.shape}\")\n",
        "print(f\"Test Data Shape: {X_test.shape}, Labels: {y_test.shape}\")\n",
        "\n",
        "# Apply SMOTE for oversampling the minority class\n",
        "smote = SMOTE(random_state=42)\n",
        "X_train_smote, y_train_smote = smote.fit_resample(X_train, y_train)\n",
        "\n",
        "# Display class distribution after SMOTE\n",
        "print(\"After SMOTE Train class distribution:\\n\", pd.Series(y_train_smote).value_counts())\n",
        "\n",
        "# Compute class weights only if both classes exist\n",
        "if len(np.unique(y_train_smote)) == 2:\n",
        "    class_weights = compute_class_weight(class_weight='balanced', classes=np.array([0, 1]), y=y_train_smote)\n",
        "    class_weight_dict = {0: class_weights[0], 1: class_weights[1]}\n",
        "else:\n",
        "    class_weight_dict = None\n",
        "\n",
        "# Train RandomForest\n",
        "rf_model = RandomForestClassifier(n_estimators=100, class_weight=class_weight_dict, random_state=42)\n",
        "rf_model.fit(X_train_smote, y_train_smote)\n",
        "\n",
        "# Predictions\n",
        "y_pred = rf_model.predict(X_test)\n",
        "y_pred_proba = rf_model.predict_proba(X_test)[:, 1]\n",
        "\n",
        "# Metrics\n",
        "accuracy = accuracy_score(y_test, y_pred)\n",
        "classification_rep = classification_report(y_test, y_pred)\n",
        "roc_auc = roc_auc_score(y_test, y_pred_proba)\n",
        "\n",
        "print(f'Accuracy: {accuracy:.4f}')\n",
        "print(f'ROC-AUC: {roc_auc:.4f}')\n",
        "print('Classification Report:\\n', classification_rep)\n",
        "\n",
        "# Compute and plot confusion matrix\n",
        "cm = confusion_matrix(y_test, y_pred)\n",
        "\n",
        "plt.figure(figsize=(6, 4))\n",
        "sns.heatmap(cm, annot=True, fmt=\"d\", cmap=\"Blues\", xticklabels=['Non-Damage', 'Damage'], yticklabels=['Non-Damage', 'Damage'])\n",
        "plt.xlabel(\"Predicted Label\")\n",
        "plt.ylabel(\"True Label\")\n",
        "plt.title(\"Confusion Matrix\")\n",
        "plt.show()\n"
      ],
      "metadata": {
        "colab": {
          "base_uri": "https://localhost:8080/",
          "height": 1000
        },
        "id": "AvLaGytvS1PB",
        "outputId": "3e7b7797-66d5-4d9a-dd47-1bcdfa52e0b8"
      },
      "execution_count": 6,
      "outputs": [
        {
          "output_type": "stream",
          "name": "stdout",
          "text": [
            "Original Train class distribution:\n",
            " Binary_class\n",
            "0    10853\n",
            "1     1804\n",
            "Name: count, dtype: int64\n",
            "Validation class distribution:\n",
            " Binary_class\n",
            "0    2326\n",
            "1     386\n",
            "Name: count, dtype: int64\n",
            "Test class distribution:\n",
            " Binary_class\n",
            "0    2326\n",
            "1     387\n",
            "Name: count, dtype: int64\n",
            "Train Data Shape: (12657, 100), Labels: (12657,)\n",
            "Validation Data Shape: (2712, 100), Labels: (2712,)\n",
            "Test Data Shape: (2713, 100), Labels: (2713,)\n",
            "After SMOTE Train class distribution:\n",
            " Binary_class\n",
            "1    10853\n",
            "0    10853\n",
            "Name: count, dtype: int64\n",
            "Accuracy: 0.8448\n",
            "ROC-AUC: 0.7425\n",
            "Classification Report:\n",
            "               precision    recall  f1-score   support\n",
            "\n",
            "           0       0.89      0.93      0.91      2326\n",
            "           1       0.44      0.32      0.37       387\n",
            "\n",
            "    accuracy                           0.84      2713\n",
            "   macro avg       0.67      0.63      0.64      2713\n",
            "weighted avg       0.83      0.84      0.83      2713\n",
            "\n"
          ]
        },
        {
          "output_type": "display_data",
          "data": {
            "text/plain": [
              "<Figure size 600x400 with 2 Axes>"
            ],
            "image/png": "[encoded data removed]"
          },
          "metadata": {}
        }
      ]
    },
    {
      "cell_type": "code",
      "source": [],
      "metadata": {
        "id": "yrvUSocTTdGZ"
      },
      "execution_count": null,
      "outputs": []
    }
  ]
}