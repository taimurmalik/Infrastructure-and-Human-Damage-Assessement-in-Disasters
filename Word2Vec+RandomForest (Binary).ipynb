{
  "nbformat": 4,
  "nbformat_minor": 0,
  "metadata": {
    "colab": {
      "provenance": [],
      "gpuType": "T4"
    },
    "kernelspec": {
      "name": "python3",
      "display_name": "Python 3"
    },
    "language_info": {
      "name": "python"
    },
    "accelerator": "GPU"
  },
  "cells": [
    {
      "cell_type": "code",
      "execution_count": 3,
      "metadata": {
        "colab": {
          "base_uri": "https://localhost:8080/",
          "height": 906
        },
        "id": "NHa0i1e0E0U3",
        "outputId": "dff2368e-fa47-4ed6-85b9-6708dbbca332"
      },
      "outputs": [
        {
          "output_type": "stream",
          "name": "stdout",
          "text": [
            "Class distribution:\n",
            "Binary_Class\n",
            "0    3493\n",
            "1     523\n",
            "Name: count, dtype: int64\n",
            "SMOTE oversampling completed in 0.04 seconds.\n",
            "Class weights: {0: 1.0, 1: 1.0}\n",
            "Fitting 3 folds for each of 20 candidates, totalling 60 fits\n",
            "RandomizedSearchCV completed in 441.48 seconds.\n",
            "Model saved to random_forest_model.joblib\n",
            "Accuracy: 0.849502487562189\n",
            "Precision: 0.05555555555555555\n",
            "Recall: 0.009523809523809525\n",
            "F1 Score: 0.016260162601626018\n",
            "ROC-AUC Score: 0.6293071735131821\n",
            "Classification Report:\n",
            "              precision    recall  f1-score   support\n",
            "\n",
            "           0       0.87      0.98      0.92       699\n",
            "           1       0.06      0.01      0.02       105\n",
            "\n",
            "    accuracy                           0.85       804\n",
            "   macro avg       0.46      0.49      0.47       804\n",
            "weighted avg       0.76      0.85      0.80       804\n",
            "\n"
          ]
        },
        {
          "output_type": "display_data",
          "data": {
            "text/plain": [
              "<Figure size 640x480 with 2 Axes>"
            ],
            "image/png": "[encoded data removed]"
          },
          "metadata": {}
        }
      ],
      "source": [
        "import os\n",
        "import numpy as np\n",
        "import pandas as pd\n",
        "import seaborn as sns\n",
        "import matplotlib.pyplot as plt\n",
        "from sklearn.model_selection import train_test_split\n",
        "from sklearn.ensemble import RandomForestClassifier\n",
        "from sklearn.metrics import accuracy_score, precision_score, recall_score, f1_score, classification_report, confusion_matrix, roc_auc_score\n",
        "from sklearn.utils.class_weight import compute_class_weight\n",
        "from sklearn.model_selection import RandomizedSearchCV\n",
        "import joblib\n",
        "from gensim.models import Word2Vec\n",
        "from imblearn.over_sampling import SMOTE\n",
        "import time\n",
        "\n",
        "# Path to the CSV file\n",
        "file_path = '/content/Hurricane_irma_modified.csv'\n",
        "if not os.path.exists(file_path):\n",
        "    raise FileNotFoundError(f\"File not found: {file_path}\")\n",
        "\n",
        "# Load and preprocess data\n",
        "data = pd.read_csv(file_path)\n",
        "if 'processed_data' not in data.columns or 'Binary_Class' not in data.columns:\n",
        "    raise KeyError(\"The dataset must contain 'processed_data' and 'Binary_Class' columns.\")\n",
        "\n",
        "data['processed_data'] = data['processed_data'].fillna('').astype(str)\n",
        "data['Binary_Class'] = data['Binary_Class'].map({'Non-Damage': 0, 'Damage': 1})\n",
        "\n",
        "# Check class distribution\n",
        "print(\"Class distribution:\")\n",
        "print(data['Binary_Class'].value_counts())\n",
        "\n",
        "# Tokenize and split data\n",
        "sentences = [sentence.split() for sentence in data['processed_data']]\n",
        "labels = data['Binary_Class'].values\n",
        "\n",
        "# Train Word2Vec model\n",
        "word2vec_model = Word2Vec(sentences, vector_size=300, window=5, min_count=1, sg=0)\n",
        "\n",
        "# Create embedding matrix\n",
        "vocab_size = len(word2vec_model.wv.index_to_key)\n",
        "embedding_dim = word2vec_model.vector_size\n",
        "word_index = {word: idx + 1 for idx, word in enumerate(word2vec_model.wv.index_to_key)}\n",
        "\n",
        "# Convert sentences to sequences of indices\n",
        "X = [[word_index.get(word, 0) for word in sentence] for sentence in sentences]\n",
        "\n",
        "# Aggregate embeddings using mean embedding\n",
        "X = np.array([np.mean([word2vec_model.wv[word] for word in sentence if word in word2vec_model.wv] or [np.zeros(embedding_dim)], axis=0) for sentence in sentences])\n",
        "\n",
        "# Split data into training and testing sets\n",
        "X_train, X_test, y_train, y_test = train_test_split(X, labels, test_size=0.2, random_state=42, stratify=labels)\n",
        "\n",
        "# Oversample the minority class using SMOTE\n",
        "start_time = time.time()\n",
        "smote = SMOTE(random_state=42)\n",
        "X_train, y_train = smote.fit_resample(X_train, y_train)\n",
        "print(f\"SMOTE oversampling completed in {time.time() - start_time:.2f} seconds.\")\n",
        "\n",
        "# Calculate class weights\n",
        "class_weights = compute_class_weight(class_weight='balanced', classes=np.unique(y_train), y=y_train)\n",
        "class_weights_dict = {i: class_weights[i] for i in range(len(class_weights))}\n",
        "print(\"Class weights:\", class_weights_dict)\n",
        "\n",
        "# Hyperparameter tuning for Random Forest using RandomizedSearchCV\n",
        "param_dist = {\n",
        "    'n_estimators': [50, 100, 200],\n",
        "    'max_depth': [10, 20, None],\n",
        "    'min_samples_split': [2, 5],\n",
        "    'min_samples_leaf': [1, 2]\n",
        "}\n",
        "\n",
        "rf = RandomForestClassifier(class_weight=class_weights_dict, random_state=42)\n",
        "random_search = RandomizedSearchCV(estimator=rf, param_distributions=param_dist, n_iter=20, cv=3, scoring='f1', verbose=1, n_jobs=-1, random_state=42)\n",
        "start_time = time.time()\n",
        "random_search.fit(X_train, y_train)\n",
        "print(f\"RandomizedSearchCV completed in {time.time() - start_time:.2f} seconds.\")\n",
        "\n",
        "# Best model\n",
        "rf_model = random_search.best_estimator_\n",
        "\n",
        "# Save the Random Forest model\n",
        "model_path = 'random_forest_model.joblib'\n",
        "joblib.dump(rf_model, model_path)\n",
        "print(f\"Model saved to {model_path}\")\n",
        "\n",
        "# Adjust threshold for classification\n",
        "y_proba = rf_model.predict_proba(X_test)[:, 1]  # Probabilities for the positive class\n",
        "threshold = 0.5  # Default threshold, can be optimized further\n",
        "y_pred = (y_proba >= threshold).astype(int)\n",
        "\n",
        "# Evaluate model\n",
        "print(\"Accuracy:\", accuracy_score(y_test, y_pred))\n",
        "print(\"Precision:\", precision_score(y_test, y_pred, zero_division=1))\n",
        "print(\"Recall:\", recall_score(y_test, y_pred, zero_division=1))\n",
        "print(\"F1 Score:\", f1_score(y_test, y_pred, zero_division=1))\n",
        "print(\"ROC-AUC Score:\", roc_auc_score(y_test, y_proba))\n",
        "\n",
        "# Classification report\n",
        "print(\"Classification Report:\")\n",
        "print(classification_report(y_test, y_pred))\n",
        "\n",
        "# Confusion matrix\n",
        "conf_matrix = confusion_matrix(y_test, y_pred)\n",
        "sns.heatmap(conf_matrix, annot=True, fmt='d', cmap='Blues', xticklabels=['Non-Damage', 'Damage'], yticklabels=['Non-Damage', 'Damage'])\n",
        "plt.xlabel('Predicted')\n",
        "plt.ylabel('True')\n",
        "plt.title('Confusion Matrix')\n",
        "plt.show()"
      ]
    },
    {
      "cell_type": "code",
      "source": [
        "# Import required libraries for data manipulation, visualization, model training, and evaluation\n",
        "import os\n",
        "import numpy as np\n",
        "import pandas as pd\n",
        "import seaborn as sns\n",
        "import matplotlib.pyplot as plt\n",
        "from sklearn.model_selection import train_test_split\n",
        "from sklearn.ensemble import RandomForestClassifier\n",
        "from sklearn.metrics import accuracy_score, precision_score, recall_score, f1_score, classification_report, confusion_matrix, roc_auc_score\n",
        "from sklearn.utils.class_weight import compute_class_weight\n",
        "from sklearn.model_selection import RandomizedSearchCV\n",
        "import joblib\n",
        "from gensim.models import Word2Vec\n",
        "from imblearn.over_sampling import SMOTE\n",
        "import time\n",
        "\n",
        "print(\"Libraries imported successfully.\")"
      ],
      "metadata": {
        "colab": {
          "base_uri": "https://localhost:8080/"
        },
        "id": "-MebWR-nQyIz",
        "outputId": "2196613b-91e5-4f9a-d4f5-9723846e6d44"
      },
      "execution_count": 26,
      "outputs": [
        {
          "output_type": "stream",
          "name": "stdout",
          "text": [
            "Libraries imported successfully.\n"
          ]
        }
      ]
    },
    {
      "cell_type": "code",
      "source": [
        "file_path = '/content/Hurricane_irma_original.csv'\n",
        "if not os.path.exists(file_path):\n",
        "    raise FileNotFoundError(f\"File not found: {file_path}\")\n",
        "else:\n",
        "    print(f\"File found at: {file_path}\")"
      ],
      "metadata": {
        "colab": {
          "base_uri": "https://localhost:8080/"
        },
        "id": "aiQC4TE6RWgK",
        "outputId": "487bdd8e-5686-43ec-f6be-7f41e23d13a2"
      },
      "execution_count": 27,
      "outputs": [
        {
          "output_type": "stream",
          "name": "stdout",
          "text": [
            "File found at: /content/Hurricane_irma_original.csv\n"
          ]
        }
      ]
    },
    {
      "cell_type": "code",
      "source": [
        "# Load the dataset and check for required columns\n",
        "data = pd.read_csv(file_path)\n",
        "print(f\"Dataset loaded successfully with shape: {data.shape}\")\n",
        "\n",
        "if 'processed_data' not in data.columns or 'Binary_Class' not in data.columns:\n",
        "    raise KeyError(\"The dataset must contain 'processed_data' and 'Binary_Class' columns.\")\n",
        "else:\n",
        "    print(\"Required columns are present in the dataset.\")\n",
        "\n",
        "# Preprocess data: fill missing values and map labels to binary values\n",
        "data['processed_data'] = data['processed_data'].fillna('').astype(str)\n",
        "data['Binary_Class'] = data['Binary_Class'].map({'Non-Damage': 0, 'Damage': 1})\n",
        "print(\"Data preprocessing completed.\")"
      ],
      "metadata": {
        "colab": {
          "base_uri": "https://localhost:8080/"
        },
        "id": "eyfjd3v_ZP4t",
        "outputId": "e2ccb525-3f63-4a9e-dcaf-ed4efa726ee1"
      },
      "execution_count": 31,
      "outputs": [
        {
          "output_type": "stream",
          "name": "stdout",
          "text": [
            "Dataset loaded successfully with shape: (4016, 5)\n",
            "Required columns are present in the dataset.\n",
            "Data preprocessing completed.\n"
          ]
        }
      ]
    },
    {
      "cell_type": "code",
      "source": [
        "# Check the distribution of the target class\n",
        "print(\"Class distribution:\")\n",
        "print(data['Binary_Class'].value_counts())"
      ],
      "metadata": {
        "colab": {
          "base_uri": "https://localhost:8080/"
        },
        "id": "ECgu0Sv1dJzZ",
        "outputId": "72d12a40-d7bc-4c90-9a40-f635e6c090b9"
      },
      "execution_count": 32,
      "outputs": [
        {
          "output_type": "stream",
          "name": "stdout",
          "text": [
            "Class distribution:\n",
            "Binary_Class\n",
            "0    3493\n",
            "1     523\n",
            "Name: count, dtype: int64\n"
          ]
        }
      ]
    },
    {
      "cell_type": "code",
      "source": [
        "# Tokenize the 'processed_data' into lists of words\n",
        "sentences = [sentence.split() for sentence in data['processed_data']]\n",
        "labels = data['Binary_Class'].values\n",
        "print(f\"Tokenized {len(sentences)} sentences.\")"
      ],
      "metadata": {
        "colab": {
          "base_uri": "https://localhost:8080/"
        },
        "id": "DuSyjjvkZc1X",
        "outputId": "04dec6ce-57ad-4bfb-89f6-b672f21877b4"
      },
      "execution_count": 33,
      "outputs": [
        {
          "output_type": "stream",
          "name": "stdout",
          "text": [
            "Tokenized 4016 sentences.\n"
          ]
        }
      ]
    },
    {
      "cell_type": "code",
      "source": [
        "## Cell 5: Tokenize and split data\n",
        "sentences = [sentence.split() for sentence in data['processed_data']]\n",
        "labels = data['Binary_Class'].values\n",
        "print(\"Data tokenized.\")\n"
      ],
      "metadata": {
        "colab": {
          "base_uri": "https://localhost:8080/"
        },
        "id": "R-lDIOoPZjQU",
        "outputId": "16756d10-9d23-45b2-82f1-eda1c70c38cd"
      },
      "execution_count": 14,
      "outputs": [
        {
          "output_type": "stream",
          "name": "stdout",
          "text": [
            "Data tokenized.\n"
          ]
        }
      ]
    },
    {
      "cell_type": "code",
      "source": [
        "# Train a Word2Vec model to create word embeddings\n",
        "word2vec_model = Word2Vec(sentences, vector_size=300, window=5, min_count=1, sg=0)\n",
        "print(\"Word2Vec model trained successfully.\")\n"
      ],
      "metadata": {
        "colab": {
          "base_uri": "https://localhost:8080/"
        },
        "id": "kdo559mSZ2P4",
        "outputId": "fbf84333-3f8a-4cf4-be82-d86fccec35ba"
      },
      "execution_count": 34,
      "outputs": [
        {
          "output_type": "stream",
          "name": "stdout",
          "text": [
            "Word2Vec model trained successfully.\n"
          ]
        }
      ]
    },
    {
      "cell_type": "code",
      "source": [
        "# Create an embedding matrix using the trained Word2Vec model\n",
        "vocab_size = len(word2vec_model.wv.index_to_key)\n",
        "embedding_dim = word2vec_model.vector_size\n",
        "word_index = {word: idx + 1 for idx, word in enumerate(word2vec_model.wv.index_to_key)}\n",
        "print(f\"Embedding matrix created with vocabulary size: {vocab_size} and embedding dimension: {embedding_dim}.\")\n"
      ],
      "metadata": {
        "colab": {
          "base_uri": "https://localhost:8080/"
        },
        "id": "whQ7BhWBZ56H",
        "outputId": "4e4a7581-1f2b-451d-9f04-0701af4bb381"
      },
      "execution_count": 35,
      "outputs": [
        {
          "output_type": "stream",
          "name": "stdout",
          "text": [
            "Embedding matrix created with vocabulary size: 6553 and embedding dimension: 300.\n"
          ]
        }
      ]
    },
    {
      "cell_type": "code",
      "source": [
        "# Convert tokenized sentences to sequences of indices and calculate mean embeddings\n",
        "X = [[word_index.get(word, 0) for word in sentence] for sentence in sentences]\n",
        "\n",
        "# Aggregate embeddings for each sentence using the mean of the word vectors\n",
        "X = np.array([np.mean([word2vec_model.wv[word] for word in sentence if word in word2vec_model.wv] or [np.zeros(embedding_dim)], axis=0) for sentence in sentences])\n",
        "print(f\"Mean embeddings calculated for {len(X)} samples.\")\n"
      ],
      "metadata": {
        "colab": {
          "base_uri": "https://localhost:8080/"
        },
        "id": "GQWieFWaZ_eK",
        "outputId": "c6df2d98-4596-48a1-d9d3-cef7e113e7f7"
      },
      "execution_count": 36,
      "outputs": [
        {
          "output_type": "stream",
          "name": "stdout",
          "text": [
            "Mean embeddings calculated for 4016 samples.\n"
          ]
        }
      ]
    },
    {
      "cell_type": "code",
      "source": [
        "# Split the data into training and testing sets\n",
        "X_train, X_test, y_train, y_test = train_test_split(X, labels, test_size=0.2, random_state=42, stratify=labels)\n",
        "print(f\"Training set size: {len(X_train)}, Testing set size: {len(X_test)}\")"
      ],
      "metadata": {
        "colab": {
          "base_uri": "https://localhost:8080/"
        },
        "id": "ZWJsJHA_cScX",
        "outputId": "a6d8660a-5b4b-4634-c0f2-5dd1b3f0b80e"
      },
      "execution_count": 37,
      "outputs": [
        {
          "output_type": "stream",
          "name": "stdout",
          "text": [
            "Training set size: 3212, Testing set size: 804\n"
          ]
        }
      ]
    },
    {
      "cell_type": "code",
      "source": [
        "# Oversample the minority class using Synthetic Minority Oversampling Technique (SMOTE)\n",
        "start_time = time.time()\n",
        "smote = SMOTE(random_state=42)\n",
        "X_train, y_train = smote.fit_resample(X_train, y_train)\n",
        "print(f\"SMOTE oversampling completed in {time.time() - start_time:.2f} seconds. New training set size: {len(X_train)}\")\n"
      ],
      "metadata": {
        "colab": {
          "base_uri": "https://localhost:8080/"
        },
        "id": "_-qYCNtdi_O_",
        "outputId": "420b4aeb-a540-43fd-b177-136154118929"
      },
      "execution_count": 38,
      "outputs": [
        {
          "output_type": "stream",
          "name": "stdout",
          "text": [
            "SMOTE oversampling completed in 0.14 seconds. New training set size: 5588\n"
          ]
        }
      ]
    },
    {
      "cell_type": "code",
      "source": [
        "# Calculate class weights to handle class imbalance during model training\n",
        "class_weights = compute_class_weight(class_weight='balanced', classes=np.unique(y_train), y=y_train)\n",
        "class_weights_dict = {i: class_weights[i] for i in range(len(class_weights))}\n",
        "print(\"Class weights calculated:\", class_weights_dict)\n"
      ],
      "metadata": {
        "colab": {
          "base_uri": "https://localhost:8080/"
        },
        "id": "HaDh-PbBjDjW",
        "outputId": "813ac22e-b325-4936-a337-6e73ef187078"
      },
      "execution_count": 39,
      "outputs": [
        {
          "output_type": "stream",
          "name": "stdout",
          "text": [
            "Class weights calculated: {0: 1.0, 1: 1.0}\n"
          ]
        }
      ]
    },
    {
      "cell_type": "code",
      "source": [
        "# Define hyperparameter search space for Random Forest\n",
        "param_dist = {\n",
        "    'n_estimators': [50, 100, 200],\n",
        "    'max_depth': [10, 20, None],\n",
        "    'min_samples_split': [2, 5],\n",
        "    'min_samples_leaf': [1, 2]\n",
        "}\n",
        "\n",
        "# Initialize the Random Forest Classifier with class weights\n",
        "rf = RandomForestClassifier(class_weight=class_weights_dict, random_state=42)\n",
        "random_search = RandomizedSearchCV(estimator=rf, param_distributions=param_dist, n_iter=20, cv=3, scoring='f1', verbose=1, n_jobs=-1, random_state=42)\n",
        "print(\"Hyperparameter search space defined.\")\n"
      ],
      "metadata": {
        "colab": {
          "base_uri": "https://localhost:8080/"
        },
        "id": "HBe-MBKljIeC",
        "outputId": "e93170aa-c52f-43d4-ba03-d47b403eabe8"
      },
      "execution_count": 40,
      "outputs": [
        {
          "output_type": "stream",
          "name": "stdout",
          "text": [
            "Hyperparameter search space defined.\n"
          ]
        }
      ]
    },
    {
      "cell_type": "code",
      "source": [
        "# Train the Random Forest model using RandomizedSearchCV for hyperparameter tuning\n",
        "start_time = time.time()\n",
        "random_search.fit(X_train, y_train)\n",
        "print(f\"RandomizedSearchCV completed in {time.time() - start_time:.2f} seconds.\")\n"
      ],
      "metadata": {
        "colab": {
          "base_uri": "https://localhost:8080/"
        },
        "id": "06Q1qfnVjRa7",
        "outputId": "07499e8f-84ef-47f1-9c2e-476de0c6ce1f"
      },
      "execution_count": 41,
      "outputs": [
        {
          "output_type": "stream",
          "name": "stdout",
          "text": [
            "Fitting 3 folds for each of 20 candidates, totalling 60 fits\n",
            "RandomizedSearchCV completed in 451.34 seconds.\n"
          ]
        }
      ]
    },
    {
      "cell_type": "code",
      "source": [
        "# Retrieve the best model from RandomizedSearchCV and save it\n",
        "rf_model = random_search.best_estimator_\n",
        "model_path = 'random_forest_model.joblib'\n",
        "joblib.dump(rf_model, model_path)\n",
        "print(f\"Best model saved to: {model_path}\")\n"
      ],
      "metadata": {
        "colab": {
          "base_uri": "https://localhost:8080/"
        },
        "id": "uJrFfF15kH2C",
        "outputId": "ab5cd991-e6b0-4364-96af-24a05f2c6387"
      },
      "execution_count": 42,
      "outputs": [
        {
          "output_type": "stream",
          "name": "stdout",
          "text": [
            "Best model saved to: random_forest_model.joblib\n"
          ]
        }
      ]
    },
    {
      "cell_type": "code",
      "source": [
        "# Generate predictions by adjusting the classification threshold\n",
        "y_proba = rf_model.predict_proba(X_test)[:, 1]  # Probabilities for the positive class\n",
        "threshold = 0.5  # Default threshold, can be optimized further\n",
        "y_pred = (y_proba >= threshold).astype(int)\n",
        "print(f\"Predictions generated using threshold: {threshold}\")\n"
      ],
      "metadata": {
        "colab": {
          "base_uri": "https://localhost:8080/"
        },
        "id": "sru4cSGLkNTC",
        "outputId": "ee6d5a89-665c-4705-8f2d-2f3685aa216b"
      },
      "execution_count": 43,
      "outputs": [
        {
          "output_type": "stream",
          "name": "stdout",
          "text": [
            "Predictions generated using threshold: 0.5\n"
          ]
        }
      ]
    },
    {
      "cell_type": "code",
      "source": [
        "# Evaluate the model on various metrics\n",
        "print(\"Evaluation Metrics:\")\n",
        "print(f\"Accuracy: {accuracy_score(y_test, y_pred)}\")\n",
        "print(f\"Precision: {precision_score(y_test, y_pred, zero_division=1)}\")\n",
        "print(f\"Recall: {recall_score(y_test, y_pred, zero_division=1)}\")\n",
        "print(f\"F1 Score: {f1_score(y_test, y_pred, zero_division=1)}\")\n",
        "print(f\"ROC-AUC Score: {roc_auc_score(y_test, y_proba)}\")\n"
      ],
      "metadata": {
        "colab": {
          "base_uri": "https://localhost:8080/"
        },
        "id": "udPVJCPykTzW",
        "outputId": "9461efb6-9b31-41d1-afa4-d6d1cfa8c491"
      },
      "execution_count": 44,
      "outputs": [
        {
          "output_type": "stream",
          "name": "stdout",
          "text": [
            "Evaluation Metrics:\n",
            "Accuracy: 0.8619402985074627\n",
            "Precision: 0.36363636363636365\n",
            "Recall: 0.0761904761904762\n",
            "F1 Score: 0.12598425196850394\n",
            "ROC-AUC Score: 0.5728183118741058\n"
          ]
        }
      ]
    },
    {
      "cell_type": "code",
      "source": [
        "# Generate a detailed classification report\n",
        "print(\"Classification Report:\")\n",
        "print(classification_report(y_test, y_pred))\n"
      ],
      "metadata": {
        "colab": {
          "base_uri": "https://localhost:8080/"
        },
        "id": "s3IlCyGSkVQh",
        "outputId": "b124c338-5409-4570-d79a-6434c74ad1a9"
      },
      "execution_count": 45,
      "outputs": [
        {
          "output_type": "stream",
          "name": "stdout",
          "text": [
            "Classification Report:\n",
            "              precision    recall  f1-score   support\n",
            "\n",
            "           0       0.88      0.98      0.93       699\n",
            "           1       0.36      0.08      0.13       105\n",
            "\n",
            "    accuracy                           0.86       804\n",
            "   macro avg       0.62      0.53      0.53       804\n",
            "weighted avg       0.81      0.86      0.82       804\n",
            "\n"
          ]
        }
      ]
    },
    {
      "cell_type": "code",
      "source": [
        "# Plot the confusion matrix for the test set\n",
        "conf_matrix = confusion_matrix(y_test, y_pred)\n",
        "sns.heatmap(conf_matrix, annot=True, fmt='d', cmap='Blues', xticklabels=['Non-Damage', 'Damage'], yticklabels=['Non-Damage', 'Damage'])\n",
        "plt.xlabel('Predicted')\n",
        "plt.ylabel('True')\n",
        "plt.title('Confusion Matrix')\n",
        "plt.show()\n",
        "print(\"Confusion matrix plotted successfully.\")\n"
      ],
      "metadata": {
        "colab": {
          "base_uri": "https://localhost:8080/",
          "height": 489
        },
        "id": "slDvk_9IkZqP",
        "outputId": "da7c8753-5009-4074-ec5b-291060b7bcd5"
      },
      "execution_count": 46,
      "outputs": [
        {
          "output_type": "display_data",
          "data": {
            "text/plain": [
              "<Figure size 640x480 with 2 Axes>"
            ],
            "image/png": "[encoded data removed]"
          },
          "metadata": {}
        },
        {
          "output_type": "stream",
          "name": "stdout",
          "text": [
            "Confusion matrix plotted successfully.\n"
          ]
        }
      ]
    }
  ]
}