{
  "nbformat": 4,
  "nbformat_minor": 0,
  "metadata": {
    "colab": {
      "provenance": [],
      "gpuType": "T4"
    },
    "kernelspec": {
      "name": "python3",
      "display_name": "Python 3"
    },
    "language_info": {
      "name": "python"
    },
    "accelerator": "GPU"
  },
  "cells": [
    {
      "cell_type": "code",
      "source": [
        "import os\n",
        "import numpy as np\n",
        "import pandas as pd\n",
        "import seaborn as sns\n",
        "import matplotlib.pyplot as plt\n",
        "from sklearn.model_selection import train_test_split\n",
        "from sklearn.ensemble import RandomForestClassifier\n",
        "from sklearn.metrics import accuracy_score, precision_score, recall_score, f1_score, classification_report, confusion_matrix\n",
        "from sklearn.utils.class_weight import compute_class_weight\n",
        "from sklearn.model_selection import RandomizedSearchCV\n",
        "import joblib\n",
        "from gensim.models import Word2Vec\n",
        "from imblearn.over_sampling import SMOTE\n",
        "import time"
      ],
      "metadata": {
        "id": "mB0mmeDiAvCs"
      },
      "execution_count": 29,
      "outputs": []
    },
    {
      "cell_type": "code",
      "source": [
        "# Define file path\n",
        "file_path = '/content/Hurricane_irma.csv'\n",
        "\n",
        "# Check if the file exists\n",
        "if not os.path.exists(file_path):\n",
        "    raise FileNotFoundError(f\"File not found: {file_path}\")\n",
        "else:\n",
        "    print(f\"Dataset located at: {file_path}\")\n",
        "\n",
        "# Load dataset\n",
        "data = pd.read_csv(file_path)\n",
        "print(f\"Dataset successfully loaded. Shape: {data.shape}\")\n",
        "\n",
        "# Validate required columns\n",
        "required_columns = ['processed_data', 'Humanitarian_Class']\n",
        "if not all(col in data.columns for col in required_columns):\n",
        "    raise KeyError(f\"Dataset must contain columns: {required_columns}\")"
      ],
      "metadata": {
        "colab": {
          "base_uri": "https://localhost:8080/"
        },
        "id": "FFq8v9-8A3bI",
        "outputId": "cec2cf35-8696-4b2b-f1a4-0dfd7107350e"
      },
      "execution_count": 30,
      "outputs": [
        {
          "output_type": "stream",
          "name": "stdout",
          "text": [
            "Dataset located at: /content/Hurricane_irma.csv\n",
            "Dataset successfully loaded. Shape: (4016, 5)\n"
          ]
        }
      ]
    },
    {
      "cell_type": "code",
      "source": [
        "# Fill missing values and ensure correct data types\n",
        "data['processed_data'] = data['processed_data'].fillna('').astype(str)\n",
        "data['Humanitarian_Class'] = data['Humanitarian_Class'].astype(str)\n",
        "\n",
        "# Encode class labels into numerical values\n",
        "class_mapping = {label: idx for idx, label in enumerate(data['Humanitarian_Class'].unique())}\n",
        "data['Humanitarian_Class'] = data['Humanitarian_Class'].map(class_mapping)"
      ],
      "metadata": {
        "id": "pokVW1OHBCPc"
      },
      "execution_count": 31,
      "outputs": []
    },
    {
      "cell_type": "code",
      "source": [
        "# Get class distribution\n",
        "class_counts = data['Humanitarian_Class'].value_counts()\n",
        "\n",
        "# Retain only classes with at least 2 instances\n",
        "valid_classes = class_counts[class_counts >= 2].index\n",
        "filtered_data = data[data['Humanitarian_Class'].isin(valid_classes)]"
      ],
      "metadata": {
        "id": "e26k0CgdBGqe"
      },
      "execution_count": 32,
      "outputs": []
    },
    {
      "cell_type": "code",
      "source": [
        "# Tokenize text data\n",
        "sentences = [sentence.split() for sentence in filtered_data['processed_data']]\n",
        "labels = filtered_data['Humanitarian_Class'].values"
      ],
      "metadata": {
        "id": "R_wNfLCpBPNt"
      },
      "execution_count": 33,
      "outputs": []
    },
    {
      "cell_type": "code",
      "source": [
        "# Train Word2Vec model\n",
        "word2vec_model = Word2Vec(sentences, vector_size=300, window=5, min_count=1, sg=0)\n",
        "\n",
        "# Extract vocabulary size and embedding dimensions\n",
        "vocab_size = len(word2vec_model.wv.index_to_key)\n",
        "embedding_dim = word2vec_model.vector_size"
      ],
      "metadata": {
        "id": "5eKbYEpEBTf8"
      },
      "execution_count": 34,
      "outputs": []
    },
    {
      "cell_type": "code",
      "source": [
        "# Train Word2Vec model\n",
        "word2vec_model = Word2Vec(sentences, vector_size=300, window=5, min_count=1, sg=0)"
      ],
      "metadata": {
        "id": "3FPny5GLBWsf"
      },
      "execution_count": 35,
      "outputs": []
    },
    {
      "cell_type": "code",
      "source": [
        "# Create word index mapping\n",
        "word_index = {word: idx + 1 for idx, word in enumerate(word2vec_model.wv.index_to_key)}\n",
        "\n",
        "# Convert sentences into sequences of word indices\n",
        "X = [[word_index.get(word, 0) for word in sentence] for sentence in sentences]\n",
        "\n",
        "# Compute sentence-level embeddings by averaging word vectors\n",
        "X = np.array([np.mean([word2vec_model.wv[word] for word in sentence if word in word2vec_model.wv] or [np.zeros(embedding_dim)], axis=0) for sentence in sentences])\n"
      ],
      "metadata": {
        "id": "J8C4Pj9xBYAd"
      },
      "execution_count": 36,
      "outputs": []
    },
    {
      "cell_type": "code",
      "source": [
        "X_train, X_test, y_train, y_test = train_test_split(X, labels, test_size=0.2, random_state=42, stratify=labels)\n",
        "print(f\"Data split into training (n={len(X_train)}) and testing (n={len(X_test)}) sets.\")\n"
      ],
      "metadata": {
        "colab": {
          "base_uri": "https://localhost:8080/"
        },
        "id": "gh9lDJjSBeQM",
        "outputId": "639b6872-a58f-4a13-cd6c-1b9c5ac05e04"
      },
      "execution_count": 37,
      "outputs": [
        {
          "output_type": "stream",
          "name": "stdout",
          "text": [
            "Data split into training (n=3212) and testing (n=804) sets.\n"
          ]
        }
      ]
    },
    {
      "cell_type": "code",
      "source": [
        "\n",
        "# Initialize SMOTE with k_neighbors=2 to handle rare classes\n",
        "smote = SMOTE(random_state=42, k_neighbors=2)\n",
        "\n",
        "start_time = time.time()\n",
        "X_train, y_train = smote.fit_resample(X_train, y_train)\n",
        "end_time = time.time()\n",
        "\n",
        "print(f\"SMOTE completed in {end_time - start_time:.2f} seconds. New training set size: {len(X_train)}\")\n"
      ],
      "metadata": {
        "colab": {
          "base_uri": "https://localhost:8080/"
        },
        "id": "rOCRwQ2cBhb2",
        "outputId": "4c51b8d8-daa8-4f7f-8533-b423758fcdd5"
      },
      "execution_count": 38,
      "outputs": [
        {
          "output_type": "stream",
          "name": "stdout",
          "text": [
            "SMOTE completed in 0.05 seconds. New training set size: 10764\n"
          ]
        }
      ]
    },
    {
      "cell_type": "code",
      "source": [
        "class_weights = compute_class_weight(class_weight='balanced', classes=np.unique(y_train), y=y_train)\n",
        "class_weights_dict = {i: class_weights[i] for i in range(len(class_weights))}\n",
        "\n",
        "print(\"Class weights computed:\", class_weights_dict)"
      ],
      "metadata": {
        "colab": {
          "base_uri": "https://localhost:8080/"
        },
        "id": "XKiNgEwsBjHA",
        "outputId": "4e70b7f9-3dbb-4dbe-bea2-7ecffca59e49"
      },
      "execution_count": 39,
      "outputs": [
        {
          "output_type": "stream",
          "name": "stdout",
          "text": [
            "Class weights computed: {0: 1.0, 1: 1.0, 2: 1.0, 3: 1.0}\n"
          ]
        }
      ]
    },
    {
      "cell_type": "code",
      "source": [
        "# Define hyperparameter search space\n",
        "param_dist = {\n",
        "    'n_estimators': [50, 100, 200],\n",
        "    'max_depth': [10, 20, None],\n",
        "    'min_samples_split': [2, 5],\n",
        "    'min_samples_leaf': [1, 2]\n",
        "}\n",
        "\n",
        "# Initialize Random Forest model\n",
        "rf = RandomForestClassifier(class_weight=class_weights_dict, random_state=42)\n",
        "\n",
        "# Initialize RandomizedSearchCV\n",
        "random_search = RandomizedSearchCV(\n",
        "    estimator=rf, param_distributions=param_dist, n_iter=20, cv=3, scoring='f1_weighted', verbose=1, n_jobs=-1, random_state=42\n",
        ")\n",
        "\n",
        "# Train model\n",
        "start_time = time.time()\n",
        "random_search.fit(X_train, y_train)\n",
        "end_time = time.time()\n",
        "\n",
        "print(f\"Hyperparameter tuning completed in {end_time - start_time:.2f} seconds.\")"
      ],
      "metadata": {
        "colab": {
          "base_uri": "https://localhost:8080/"
        },
        "id": "im2P9yMpBmp5",
        "outputId": "37043e6e-1ca2-4389-bf62-021385ec32b3"
      },
      "execution_count": 40,
      "outputs": [
        {
          "output_type": "stream",
          "name": "stdout",
          "text": [
            "Fitting 3 folds for each of 20 candidates, totalling 60 fits\n",
            "Hyperparameter tuning completed in 741.19 seconds.\n"
          ]
        }
      ]
    },
    {
      "cell_type": "code",
      "source": [
        "rf_model = random_search.best_estimator_\n",
        "model_path = 'random_forest_humanitarian_model.joblib'\n",
        "joblib.dump(rf_model, model_path)\n",
        "\n",
        "print(f\"Best model saved at: {model_path}\")\n"
      ],
      "metadata": {
        "colab": {
          "base_uri": "https://localhost:8080/"
        },
        "id": "DOrawYC5BpyI",
        "outputId": "7775cad2-e6ec-4dd5-9ec8-71292dfbd892"
      },
      "execution_count": 41,
      "outputs": [
        {
          "output_type": "stream",
          "name": "stdout",
          "text": [
            "Best model saved at: random_forest_humanitarian_model.joblib\n"
          ]
        }
      ]
    },
    {
      "cell_type": "code",
      "source": [
        "# Generate predictions\n",
        "y_pred = rf_model.predict(X_test)\n",
        "\n",
        "# Compute evaluation metrics\n",
        "accuracy = accuracy_score(y_test, y_pred)\n",
        "precision = precision_score(y_test, y_pred, average='weighted', zero_division=1)\n",
        "recall = recall_score(y_test, y_pred, average='weighted', zero_division=1)\n",
        "f1 = f1_score(y_test, y_pred, average='weighted', zero_division=1)\n",
        "\n",
        "print(f\"Evaluation Metrics:\\nAccuracy: {accuracy:.4f}\\nPrecision: {precision:.4f}\\nRecall: {recall:.4f}\\nF1 Score: {f1:.4f}\")\n",
        "conf_matrix = confusion_matrix(y_test, y_pred)\n",
        "sns.heatmap(conf_matrix, annot=True, fmt='d', cmap='Blues')\n",
        "\n",
        "plt.xlabel('Predicted')\n",
        "plt.ylabel('True')\n",
        "plt.title('Confusion Matrix')\n",
        "plt.show()\n",
        "\n",
        "print(\"Confusion matrix plotted successfully.\")\n"
      ],
      "metadata": {
        "colab": {
          "base_uri": "https://localhost:8080/",
          "height": 576
        },
        "id": "rg_X9aq8BsVz",
        "outputId": "f210578e-e7d8-41c9-ab34-b3fd82944a59"
      },
      "execution_count": 42,
      "outputs": [
        {
          "output_type": "stream",
          "name": "stdout",
          "text": [
            "Evaluation Metrics:\n",
            "Accuracy: 0.8408\n",
            "Precision: 0.7972\n",
            "Recall: 0.8408\n",
            "F1 Score: 0.7777\n"
          ]
        },
        {
          "output_type": "display_data",
          "data": {
            "text/plain": [
              "<Figure size 640x480 with 2 Axes>"
            ],
            "image/png": "[encoded data removed]"
          },
          "metadata": {}
        },
        {
          "output_type": "stream",
          "name": "stdout",
          "text": [
            "Confusion matrix plotted successfully.\n"
          ]
        }
      ]
    }
  ]
}