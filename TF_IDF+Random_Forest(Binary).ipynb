{
  "nbformat": 4,
  "nbformat_minor": 0,
  "metadata": {
    "colab": {
      "provenance": [],
      "gpuType": "V28"
    },
    "kernelspec": {
      "name": "python3",
      "display_name": "Python 3"
    },
    "language_info": {
      "name": "python"
    },
    "accelerator": "TPU"
  },
  "cells": [
    {
      "cell_type": "code",
      "execution_count": 1,
      "metadata": {
        "colab": {
          "base_uri": "https://localhost:8080/"
        },
        "id": "HZQ8d9jJPyPR",
        "outputId": "d4497ab7-d21f-49b2-a41d-770758ef7907"
      },
      "outputs": [
        {
          "output_type": "stream",
          "name": "stdout",
          "text": [
            "\n",
            "Data Split Summary:\n",
            " Binary_class      Non-Damage  Damage\n",
            "Train (70%)            10853    1804\n",
            "Validation (15%)        2326     386\n",
            "Test (15%)              2326     387\n",
            "Total                  15505    2577\n",
            "\n",
            "Data split completed and saved as CSV files.\n"
          ]
        }
      ],
      "source": [
        "import pandas as pd\n",
        "from sklearn.model_selection import train_test_split\n",
        "\n",
        "# Load dataset\n",
        "file_path = \"/content/Merged_Disasters(2).csv\"  # Update the path if needed\n",
        "df = pd.read_csv(file_path)\n",
        "\n",
        "# Perform stratified splitting (70% Train, 15% Validation, 15% Test)\n",
        "train_df, temp_df = train_test_split(df, test_size=0.30, stratify=df[\"Binary_class\"], random_state=42)\n",
        "val_df, test_df = train_test_split(temp_df, test_size=0.50, stratify=temp_df[\"Binary_class\"], random_state=42)\n",
        "\n",
        "# Save the split datasets\n",
        "train_df.to_csv(\"train_data.csv\", index=False)\n",
        "val_df.to_csv(\"val_data.csv\", index=False)\n",
        "test_df.to_csv(\"test_data.csv\", index=False)\n",
        "\n",
        "# Create a structured summary table\n",
        "split_summary = pd.DataFrame({\n",
        "    \"Train (70%)\": train_df[\"Binary_class\"].value_counts(),\n",
        "    \"Validation (15%)\": val_df[\"Binary_class\"].value_counts(),\n",
        "    \"Test (15%)\": test_df[\"Binary_class\"].value_counts(),\n",
        "    \"Total\": df[\"Binary_class\"].value_counts()\n",
        "}).T\n",
        "\n",
        "# Save the summary table\n",
        "split_summary.to_csv(\"split_summary.csv\")\n",
        "\n",
        "# Display summary\n",
        "print(\"\\nData Split Summary:\\n\", split_summary)\n",
        "print(\"\\nData split completed and saved as CSV files.\")\n"
      ]
    },
    {
      "cell_type": "code",
      "source": [
        "import pandas as pd\n",
        "import numpy as np\n",
        "import seaborn as sns\n",
        "import matplotlib.pyplot as plt\n",
        "from sklearn.ensemble import RandomForestClassifier\n",
        "from sklearn.feature_extraction.text import TfidfVectorizer\n",
        "from sklearn.metrics import accuracy_score, classification_report, roc_auc_score, confusion_matrix\n",
        "from imblearn.over_sampling import SMOTE\n",
        "from sklearn.model_selection import train_test_split\n",
        "\n",
        "# Paths to the split data stored in Colab workspace\n",
        "train_path = \"/content/train_data.csv\"\n",
        "val_path = \"/content/val_data.csv\"\n",
        "test_path = \"/content/test_data.csv\"\n",
        "\n",
        "# Load the data\n",
        "train_df = pd.read_csv(train_path)\n",
        "val_df = pd.read_csv(val_path)\n",
        "test_df = pd.read_csv(test_path)\n",
        "\n",
        "# Standardize labels\n",
        "label_map = {'damage': 1, 'non-damage': 0}\n",
        "train_df['Binary_class'] = train_df['Binary_class'].str.strip().str.lower().map(label_map)\n",
        "val_df['Binary_class'] = val_df['Binary_class'].str.strip().str.lower().map(label_map)\n",
        "test_df['Binary_class'] = test_df['Binary_class'].str.strip().str.lower().map(label_map)\n",
        "\n",
        "# Fill missing values in \"Processed_data\" column\n",
        "train_df['Processed_data'] = train_df['Processed_data'].fillna(\"\")\n",
        "val_df['Processed_data'] = val_df['Processed_data'].fillna(\"\")\n",
        "test_df['Processed_data'] = test_df['Processed_data'].fillna(\"\")\n",
        "\n",
        "# TF-IDF Feature Extraction\n",
        "# Using max_features=5000 to limit the number of features\n",
        "# Removing English stop words and using n-grams (1,2) for better text representation\n",
        "vectorizer = TfidfVectorizer(max_features=5000, stop_words='english', ngram_range=(1,2))\n",
        "X_train = vectorizer.fit_transform(train_df['Processed_data'])\n",
        "X_val = vectorizer.transform(val_df['Processed_data'])\n",
        "X_test = vectorizer.transform(test_df['Processed_data'])\n",
        "\n",
        "# Convert labels to NumPy arrays\n",
        "y_train = train_df['Binary_class'].values\n",
        "y_val = val_df['Binary_class'].values\n",
        "y_test = test_df['Binary_class'].values\n",
        "\n",
        "# Display class distribution before SMOTE\n",
        "print(\"Original Train class distribution:\\n\", pd.Series(y_train).value_counts())\n",
        "print(\"Original Validation class distribution:\\n\", pd.Series(y_val).value_counts())\n",
        "print(\"Original Test class distribution:\\n\", pd.Series(y_test).value_counts())\n",
        "\n",
        "# Apply SMOTE to balance classes\n",
        "# Using sampling_strategy=1 to balance both classes equally\n",
        "# k_neighbors=3 means each synthetic sample is created using 3 nearest neighbors\n",
        "# random_state=42 ensures reproducibility of results\n",
        "smote = SMOTE(sampling_strategy=1, k_neighbors=3, random_state=42)\n",
        "X_train_smote, y_train_smote = smote.fit_resample(X_train, y_train)\n",
        "\n",
        "# Display class distribution after SMOTE\n",
        "print(\"After SMOTE Train class distribution:\\n\", pd.Series(y_train_smote).value_counts())\n",
        "\n",
        "# Train Random Forest on SMOTE-balanced data with modified parameters\n",
        "# Reduced n_estimators to 80 for efficiency\n",
        "# Limited max_depth to 15 to prevent overfitting\n",
        "# Increased min_samples_split to 10 and min_samples_leaf to 5 for better generalization\n",
        "# random_state=42 ensures reproducibility of results\n",
        "class_weight_dict = \"balanced\"\n",
        "rf_model = RandomForestClassifier(\n",
        "    n_estimators=80,\n",
        "    max_depth=15,\n",
        "    min_samples_split=10,\n",
        "    min_samples_leaf=5,\n",
        "    class_weight=class_weight_dict,\n",
        "    random_state=42\n",
        ")\n",
        "rf_model.fit(X_train_smote, y_train_smote)\n",
        "\n",
        "# Evaluate on Train Set\n",
        "y_train_pred = rf_model.predict(X_train_smote)\n",
        "y_train_proba = rf_model.predict_proba(X_train_smote)[:, 1]\n",
        "accuracy_train = accuracy_score(y_train_smote, y_train_pred)\n",
        "roc_auc_train = roc_auc_score(y_train_smote, y_train_proba)\n",
        "classification_rep_train = classification_report(y_train_smote, y_train_pred)\n",
        "\n",
        "print(\"Train Classification Report:\")\n",
        "print(classification_rep_train)\n",
        "print(f'Train Accuracy: {accuracy_train:.4f}')\n",
        "print(f'Train ROC-AUC: {roc_auc_train:.4f}')\n",
        "\n",
        "# Confusion Matrix for Train Set\n",
        "cm_train = confusion_matrix(y_train_smote, y_train_pred)\n",
        "plt.figure(figsize=(6, 4))\n",
        "sns.heatmap(cm_train, annot=True, fmt=\"d\", cmap=\"Blues\", xticklabels=['Non-Damage', 'Damage'], yticklabels=['Non-Damage', 'Damage'])\n",
        "plt.xlabel(\"Predicted Label\")\n",
        "plt.ylabel(\"True Label\")\n",
        "plt.title(\"Confusion Matrix - Train Set\")\n",
        "plt.show()\n"
      ],
      "metadata": {
        "colab": {
          "base_uri": "https://localhost:8080/",
          "height": 896
        },
        "id": "EH4rAvZOm55g",
        "outputId": "bbb8a71f-215e-4a36-c27f-c30341f43285"
      },
      "execution_count": 18,
      "outputs": [
        {
          "output_type": "stream",
          "name": "stdout",
          "text": [
            "Original Train class distribution:\n",
            " 0    10853\n",
            "1     1804\n",
            "Name: count, dtype: int64\n",
            "Original Validation class distribution:\n",
            " 0    2326\n",
            "1     386\n",
            "Name: count, dtype: int64\n",
            "Original Test class distribution:\n",
            " 0    2326\n",
            "1     387\n",
            "Name: count, dtype: int64\n",
            "After SMOTE Train class distribution:\n",
            " 1    10853\n",
            "0    10853\n",
            "Name: count, dtype: int64\n",
            "Train Classification Report:\n",
            "              precision    recall  f1-score   support\n",
            "\n",
            "           0       0.79      0.88      0.83     10853\n",
            "           1       0.86      0.76      0.81     10853\n",
            "\n",
            "    accuracy                           0.82     21706\n",
            "   macro avg       0.83      0.82      0.82     21706\n",
            "weighted avg       0.83      0.82      0.82     21706\n",
            "\n",
            "Train Accuracy: 0.8208\n",
            "Train ROC-AUC: 0.9020\n"
          ]
        },
        {
          "output_type": "display_data",
          "data": {
            "text/plain": [
              "<Figure size 600x400 with 2 Axes>"
            ],
            "image/png": "[encoded data removed]"
          },
          "metadata": {}
        }
      ]
    },
    {
      "cell_type": "code",
      "source": [],
      "metadata": {
        "id": "Bu3IfFNIwkt-"
      },
      "execution_count": null,
      "outputs": []
    }
  ]
}