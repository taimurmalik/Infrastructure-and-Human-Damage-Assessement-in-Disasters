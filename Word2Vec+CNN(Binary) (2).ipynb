{
  "nbformat": 4,
  "nbformat_minor": 0,
  "metadata": {
    "colab": {
      "provenance": [],
      "gpuType": "T4"
    },
    "kernelspec": {
      "name": "python3",
      "display_name": "Python 3"
    },
    "language_info": {
      "name": "python"
    },
    "accelerator": "GPU"
  },
  "cells": [
    {
      "cell_type": "code",
      "execution_count": 1,
      "metadata": {
        "colab": {
          "base_uri": "https://localhost:8080/"
        },
        "id": "3Iav4D9R1ICd",
        "outputId": "bb7474d3-43eb-4b71-fd5f-cba0daaf16a9"
      },
      "outputs": [
        {
          "output_type": "stream",
          "name": "stdout",
          "text": [
            "Dataset Sample:\n",
            "                                          tweet_text  \\\n",
            "0  RT @MSN: Island of Barbuda 'literally under wa...   \n",
            "1  RT @Reuters: Hurricane Irma threatens luxury T...   \n",
            "2  RT @TheAnonJournal: BREAKING NEWS: Hurricane I...   \n",
            "3  JUST IN: 11PM #Hurricane #Irma update. @ABC7Ne...   \n",
            "4  RT @cnnbrk: Hurricane Irma destroys \"upwards o...   \n",
            "\n",
            "                                          Multiclass  Binary_Class  \\\n",
            "0  infrastructure_and_utility_damage | Infrastruc...             1   \n",
            "1            other_relevant_information | Non-Damage             0   \n",
            "2            other_relevant_information | Non-Damage             0   \n",
            "3            other_relevant_information | Non-Damage             0   \n",
            "4  infrastructure_and_utility_damage | Infrastruc...             1   \n",
            "\n",
            "           Humanitarian_Class  \\\n",
            "0  other relevant information   \n",
            "1  other relevant information   \n",
            "2  other relevant information   \n",
            "3  other relevant information   \n",
            "4  other relevant information   \n",
            "\n",
            "                                      processed_data  \n",
            "0      island barbara literally water hurricane irma  \n",
            "1   hurricane irma threatens luxury trump properties  \n",
            "2  breaking news hurricane irma big enough cover ...  \n",
            "3                                          pm update  \n",
            "4  hurricane irma destroys upwards barbara offici...  \n",
            "\n",
            "Class distribution:\n",
            "Binary_Class\n",
            "0    3493\n",
            "1     523\n",
            "Name: count, dtype: int64\n"
          ]
        }
      ],
      "source": [
        "import os\n",
        "import numpy as np\n",
        "import pandas as pd\n",
        "\n",
        "# Define the path to the dataset file (Ensure it's uploaded to Colab)\n",
        "file_path = '/content/Hurricane_irma.csv'\n",
        "if not os.path.exists(file_path):\n",
        "    raise FileNotFoundError(f\"File not found: {file_path}\")\n",
        "\n",
        "# Load dataset into a pandas DataFrame\n",
        "data = pd.read_csv(file_path)\n",
        "\n",
        "# Check if required columns exist\n",
        "if 'processed_data' not in data.columns or 'Binary_Class' not in data.columns:\n",
        "    raise KeyError(\"The dataset must contain 'processed_data' and 'Binary_Class' columns.\")\n",
        "\n",
        "# Fill any missing values in the processed text column with empty strings\n",
        "data['processed_data'] = data['processed_data'].fillna('').astype(str)\n",
        "\n",
        "# Convert class labels from 'Non-Damage' and 'Damage' to 0 and 1 respectively\n",
        "data['Binary_Class'] = data['Binary_Class'].map({'Non-Damage': 0, 'Damage': 1})\n",
        "\n",
        "# Display the first few rows of the dataset\n",
        "print(\"Dataset Sample:\")\n",
        "print(data.head())\n",
        "\n",
        "# Show class distribution (helps understand data balance)\n",
        "print(\"\\nClass distribution:\")\n",
        "print(data['Binary_Class'].value_counts())"
      ]
    },
    {
      "cell_type": "code",
      "source": [
        "from sklearn.model_selection import train_test_split\n",
        "\n",
        "# Tokenize text by splitting into words (creates a list of words for each sentence)\n",
        "sentences = [sentence.split() for sentence in data['processed_data']]\n",
        "labels = data['Binary_Class'].values\n",
        "\n",
        "# Split data: 80% training, 20% testing\n",
        "X_train, X_test, y_train, y_test = train_test_split(sentences, labels, test_size=0.2, random_state=42)\n",
        "\n",
        "# Print number of training and testing samples\n",
        "print(f\"Training samples: {len(X_train)}, Testing samples: {len(X_test)}\")\n",
        "\n",
        "# Display an example of a tokenized sentence\n",
        "print(\"Example tokenized sentence:\", X_train[0])\n"
      ],
      "metadata": {
        "colab": {
          "base_uri": "https://localhost:8080/"
        },
        "id": "2FV9XMUK4p44",
        "outputId": "374e40f6-e31e-4816-e0fb-32d1cfbabfc2"
      },
      "execution_count": 2,
      "outputs": [
        {
          "output_type": "stream",
          "name": "stdout",
          "text": [
            "Training samples: 3212, Testing samples: 804\n",
            "Example tokenized sentence: ['hurricane', 'irma', 'gone', 'gt']\n"
          ]
        }
      ]
    },
    {
      "cell_type": "code",
      "source": [
        "from gensim.models import Word2Vec\n",
        "import numpy as np\n",
        "\n",
        "# Train a Word2Vec model on tokenized sentences\n",
        "word2vec_model = Word2Vec(sentences, vector_size=300, window=5, min_count=1, sg=0)\n",
        "\n",
        "# Get vocabulary size and embedding dimension\n",
        "vocab_size = len(word2vec_model.wv.index_to_key)\n",
        "embedding_dim = word2vec_model.vector_size\n",
        "\n",
        "# Initialize an embedding matrix with zeros\n",
        "embedding_matrix = np.zeros((vocab_size + 1, embedding_dim))\n",
        "\n",
        "# Create a dictionary mapping words to their index in the embedding matrix\n",
        "word_index = {word: idx + 1 for idx, word in enumerate(word2vec_model.wv.index_to_key)}\n",
        "\n",
        "# Populate the embedding matrix with word vectors from Word2Vec\n",
        "for word, idx in word_index.items():\n",
        "    embedding_matrix[idx] = word2vec_model.wv[word]\n",
        "\n",
        "# Print Word2Vec model details\n",
        "print(\"Word2Vec model trained.\")\n",
        "print(f\"Vocabulary Size: {vocab_size}\")"
      ],
      "metadata": {
        "colab": {
          "base_uri": "https://localhost:8080/"
        },
        "id": "7BAkpk4p4xAJ",
        "outputId": "b4e6f123-cc13-49f0-c420-8ccf88ed1733"
      },
      "execution_count": 3,
      "outputs": [
        {
          "output_type": "stream",
          "name": "stdout",
          "text": [
            "Word2Vec model trained.\n",
            "Vocabulary Size: 6553\n"
          ]
        }
      ]
    },
    {
      "cell_type": "code",
      "source": [
        "import tensorflow as tf\n",
        "\n",
        "# Convert sentences into sequences of word indices\n",
        "X_train = [[word_index.get(word, 0) for word in sentence] for sentence in X_train]\n",
        "X_test = [[word_index.get(word, 0) for word in sentence] for sentence in X_test]\n",
        "\n",
        "# Pad sequences to a fixed length (ensures uniform input size)\n",
        "X_train = tf.keras.preprocessing.sequence.pad_sequences(X_train, maxlen=100)\n",
        "X_test = tf.keras.preprocessing.sequence.pad_sequences(X_test, maxlen=100)\n",
        "\n",
        "# Print padded sequence example\n",
        "print(\"Sequences converted and padded.\")\n",
        "print(f\"Example sequence (first 10 values): {X_train[0][:10]}\")"
      ],
      "metadata": {
        "colab": {
          "base_uri": "https://localhost:8080/"
        },
        "id": "3tJ3P_IU4yww",
        "outputId": "285b8ad2-2f6b-438d-e655-55efd8b9aaf8"
      },
      "execution_count": 4,
      "outputs": [
        {
          "output_type": "stream",
          "name": "stdout",
          "text": [
            "Sequences converted and padded.\n",
            "Example sequence (first 10 values): [0 0 0 0 0 0 0 0 0 0]\n"
          ]
        }
      ]
    },
    {
      "cell_type": "code",
      "source": [
        "from sklearn.utils.class_weight import compute_class_weight\n",
        "\n",
        "# Compute class weights (useful when classes are imbalanced)\n",
        "class_weights = compute_class_weight(class_weight='balanced', classes=np.unique(y_train), y=y_train)\n",
        "\n",
        "# Convert class weights into a dictionary for Keras\n",
        "class_weights_dict = {i: class_weights[i] for i in range(len(class_weights))}\n",
        "\n",
        "# Print computed class weights\n",
        "print(\"Class Weights:\", class_weights_dict)\n"
      ],
      "metadata": {
        "colab": {
          "base_uri": "https://localhost:8080/"
        },
        "id": "dyAOEivQ44tI",
        "outputId": "660ea57f-0ddd-4e25-af86-fd108a3bedea"
      },
      "execution_count": 5,
      "outputs": [
        {
          "output_type": "stream",
          "name": "stdout",
          "text": [
            "Class Weights: {0: 0.5741866285305685, 1: 3.869879518072289}\n"
          ]
        }
      ]
    },
    {
      "cell_type": "code",
      "source": [
        "from tensorflow.keras.models import Sequential\n",
        "from tensorflow.keras.layers import Embedding, Conv1D, MaxPooling1D, Flatten, Dense, Dropout, BatchNormalization\n",
        "from tensorflow.keras.callbacks import EarlyStopping\n",
        "\n",
        "# Define CNN model architecture\n",
        "model = Sequential([\n",
        "    # Embedding layer with pre-trained Word2Vec weights\n",
        "    Embedding(input_dim=vocab_size + 1, output_dim=embedding_dim, weights=[embedding_matrix], input_length=X_train.shape[1], trainable=False),\n",
        "\n",
        "    # First convolutional layer\n",
        "    Conv1D(100, kernel_size=2, activation='relu'),\n",
        "    MaxPooling1D(pool_size=2),\n",
        "    BatchNormalization(),\n",
        "    Dropout(0.02),\n",
        "\n",
        "    # Second convolutional layer\n",
        "    Conv1D(150, kernel_size=3, activation='relu'),\n",
        "    MaxPooling1D(pool_size=3),\n",
        "    BatchNormalization(),\n",
        "    Dropout(0.02),\n",
        "\n",
        "    # Third convolutional layer\n",
        "    Conv1D(200, kernel_size=4, activation='relu'),\n",
        "    MaxPooling1D(pool_size=4),\n",
        "    BatchNormalization(),\n",
        "\n",
        "    # Flatten layer\n",
        "    Flatten(),\n",
        "\n",
        "    # Fully connected (Dense) layer\n",
        "    Dense(256, activation='relu'),\n",
        "    Dropout(0.5),\n",
        "\n",
        "    # Output layer with a single neuron (binary classification)\n",
        "    Dense(1, activation='sigmoid')\n",
        "])\n",
        "\n",
        "# Compile model with Adam optimizer and binary cross-entropy loss\n",
        "model.compile(optimizer=tf.keras.optimizers.Adam(learning_rate=0.01), loss='binary_crossentropy', metrics=['accuracy'])\n",
        "\n",
        "# Early stopping to prevent overfitting\n",
        "early_stopping = EarlyStopping(monitor='val_loss', patience=10, restore_best_weights=True)\n",
        "\n",
        "# Train the CNN model\n",
        "history = model.fit(X_train, y_train, epochs=50, batch_size=64, validation_split=0.2, class_weight=class_weights_dict, callbacks=[early_stopping])\n",
        "\n",
        "# Print training completion message\n",
        "print(\"Model training complete.\")"
      ],
      "metadata": {
        "colab": {
          "base_uri": "https://localhost:8080/"
        },
        "id": "MkisublP4_XZ",
        "outputId": "f2d4cf29-a88e-49aa-ba7f-f0f180a35361"
      },
      "execution_count": 6,
      "outputs": [
        {
          "output_type": "stream",
          "name": "stderr",
          "text": [
            "/usr/local/lib/python3.11/dist-packages/keras/src/layers/core/embedding.py:90: UserWarning: Argument `input_length` is deprecated. Just remove it.\n",
            "  warnings.warn(\n"
          ]
        },
        {
          "output_type": "stream",
          "name": "stdout",
          "text": [
            "Epoch 1/50\n",
            "\u001b[1m41/41\u001b[0m \u001b[32m━━━━━━━━━━━━━━━━━━━━\u001b[0m\u001b[37m\u001b[0m \u001b[1m14s\u001b[0m 132ms/step - accuracy: 0.5127 - loss: 1.4173 - val_accuracy: 0.4635 - val_loss: 2.3041\n",
            "Epoch 2/50\n",
            "\u001b[1m41/41\u001b[0m \u001b[32m━━━━━━━━━━━━━━━━━━━━\u001b[0m\u001b[37m\u001b[0m \u001b[1m10s\u001b[0m 9ms/step - accuracy: 0.5094 - loss: 0.9054 - val_accuracy: 0.8631 - val_loss: 0.5484\n",
            "Epoch 3/50\n",
            "\u001b[1m41/41\u001b[0m \u001b[32m━━━━━━━━━━━━━━━━━━━━\u001b[0m\u001b[37m\u001b[0m \u001b[1m1s\u001b[0m 7ms/step - accuracy: 0.5146 - loss: 0.7064 - val_accuracy: 0.7092 - val_loss: 0.5945\n",
            "Epoch 4/50\n",
            "\u001b[1m41/41\u001b[0m \u001b[32m━━━━━━━━━━━━━━━━━━━━\u001b[0m\u001b[37m\u001b[0m \u001b[1m1s\u001b[0m 7ms/step - accuracy: 0.5419 - loss: 0.6787 - val_accuracy: 0.4323 - val_loss: 0.7570\n",
            "Epoch 5/50\n",
            "\u001b[1m41/41\u001b[0m \u001b[32m━━━━━━━━━━━━━━━━━━━━\u001b[0m\u001b[37m\u001b[0m \u001b[1m0s\u001b[0m 7ms/step - accuracy: 0.4275 - loss: 0.7020 - val_accuracy: 0.6128 - val_loss: 0.6817\n",
            "Epoch 6/50\n",
            "\u001b[1m41/41\u001b[0m \u001b[32m━━━━━━━━━━━━━━━━━━━━\u001b[0m\u001b[37m\u001b[0m \u001b[1m0s\u001b[0m 8ms/step - accuracy: 0.4266 - loss: 0.7007 - val_accuracy: 0.1353 - val_loss: 0.8564\n",
            "Epoch 7/50\n",
            "\u001b[1m41/41\u001b[0m \u001b[32m━━━━━━━━━━━━━━━━━━━━\u001b[0m\u001b[37m\u001b[0m \u001b[1m1s\u001b[0m 8ms/step - accuracy: 0.4187 - loss: 0.7155 - val_accuracy: 0.1353 - val_loss: 0.8019\n",
            "Epoch 8/50\n",
            "\u001b[1m41/41\u001b[0m \u001b[32m━━━━━━━━━━━━━━━━━━━━\u001b[0m\u001b[37m\u001b[0m \u001b[1m0s\u001b[0m 10ms/step - accuracy: 0.3779 - loss: 0.6807 - val_accuracy: 0.1369 - val_loss: 0.8855\n",
            "Epoch 9/50\n",
            "\u001b[1m41/41\u001b[0m \u001b[32m━━━━━━━━━━━━━━━━━━━━\u001b[0m\u001b[37m\u001b[0m \u001b[1m0s\u001b[0m 8ms/step - accuracy: 0.2940 - loss: 0.7009 - val_accuracy: 0.3857 - val_loss: 0.7362\n",
            "Epoch 10/50\n",
            "\u001b[1m41/41\u001b[0m \u001b[32m━━━━━━━━━━━━━━━━━━━━\u001b[0m\u001b[37m\u001b[0m \u001b[1m0s\u001b[0m 7ms/step - accuracy: 0.6849 - loss: 0.6861 - val_accuracy: 0.1711 - val_loss: 0.7942\n",
            "Epoch 11/50\n",
            "\u001b[1m41/41\u001b[0m \u001b[32m━━━━━━━━━━━━━━━━━━━━\u001b[0m\u001b[37m\u001b[0m \u001b[1m1s\u001b[0m 6ms/step - accuracy: 0.6784 - loss: 0.6741 - val_accuracy: 0.2830 - val_loss: 0.7453\n",
            "Epoch 12/50\n",
            "\u001b[1m41/41\u001b[0m \u001b[32m━━━━━━━━━━━━━━━━━━━━\u001b[0m\u001b[37m\u001b[0m \u001b[1m0s\u001b[0m 6ms/step - accuracy: 0.6692 - loss: 0.7236 - val_accuracy: 0.1369 - val_loss: 1.0472\n",
            "Model training complete.\n"
          ]
        }
      ]
    },
    {
      "cell_type": "code",
      "source": [
        "from sklearn.metrics import accuracy_score, precision_score, recall_score, f1_score, classification_report, confusion_matrix\n",
        "import seaborn as sns\n",
        "import matplotlib.pyplot as plt\n",
        "\n",
        "# Predict labels on test data\n",
        "y_pred = (model.predict(X_test) > 0.5).astype(\"int32\")\n",
        "\n",
        "# Compute evaluation metrics\n",
        "print(\"Accuracy:\", accuracy_score(y_test, y_pred))\n",
        "print(\"Precision:\", precision_score(y_test, y_pred, zero_division=1))\n",
        "print(\"Recall:\", recall_score(y_test, y_pred, zero_division=1))\n",
        "print(\"F1 Score:\", f1_score(y_test, y_pred, zero_division=1))\n",
        "\n",
        "# Print classification report\n",
        "print(\"\\nClassification Report:\")\n",
        "print(classification_report(y_test, y_pred))\n",
        "\n",
        "# Compute confusion matrix\n",
        "conf_matrix = confusion_matrix(y_test, y_pred)\n",
        "\n",
        "# Plot confusion matrix\n",
        "sns.heatmap(conf_matrix, annot=True, fmt='d', cmap='Blues', xticklabels=['Non-Damage', 'Damage'], yticklabels=['Non-Damage', 'Damage'])\n",
        "plt.xlabel('Predicted')\n",
        "plt.ylabel('True')\n",
        "plt.title('Confusion Matrix')\n",
        "plt.show()"
      ],
      "metadata": {
        "colab": {
          "base_uri": "https://localhost:8080/",
          "height": 750
        },
        "id": "-NlxLwNd5tLo",
        "outputId": "2f4304f9-b9bf-4440-d9dc-b2bd35821db6"
      },
      "execution_count": 7,
      "outputs": [
        {
          "output_type": "stream",
          "name": "stdout",
          "text": [
            "\u001b[1m26/26\u001b[0m \u001b[32m━━━━━━━━━━━━━━━━━━━━\u001b[0m\u001b[37m\u001b[0m \u001b[1m4s\u001b[0m 54ms/step\n",
            "Accuracy: 0.8619402985074627\n",
            "Precision: 0.0\n",
            "Recall: 0.0\n",
            "F1 Score: 0.0\n",
            "\n",
            "Classification Report:\n",
            "              precision    recall  f1-score   support\n",
            "\n",
            "           0       0.87      1.00      0.93       696\n",
            "           1       0.00      0.00      0.00       108\n",
            "\n",
            "    accuracy                           0.86       804\n",
            "   macro avg       0.43      0.50      0.46       804\n",
            "weighted avg       0.75      0.86      0.80       804\n",
            "\n"
          ]
        },
        {
          "output_type": "display_data",
          "data": {
            "text/plain": [
              "<Figure size 640x480 with 2 Axes>"
            ],
            "image/png": "[encoded data removed]"
          },
          "metadata": {}
        }
      ]
    }
  ]
}