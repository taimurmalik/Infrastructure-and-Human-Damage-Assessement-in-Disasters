{
  "cells": [
    {
      "cell_type": "code",
      "execution_count": 2,
      "metadata": {
        "colab": {
          "base_uri": "https://localhost:8080/"
        },
        "id": "vql_c41_a7Fg",
        "outputId": "737a40b6-9b66-4f36-f8e3-cc65624139db"
      },
      "outputs": [
        {
          "output_type": "stream",
          "name": "stdout",
          "text": [
            "Libraries imported successfully.\n"
          ]
        }
      ],
      "source": [
        "import os\n",
        "import numpy as np\n",
        "import pandas as pd\n",
        "import tensorflow as tf\n",
        "from tensorflow.keras.models import Sequential\n",
        "from tensorflow.keras.layers import Embedding, Conv1D, MaxPooling1D, Flatten, Dense, Dropout, BatchNormalization\n",
        "from tensorflow.keras.callbacks import EarlyStopping\n",
        "from sklearn.model_selection import train_test_split\n",
        "from sklearn.metrics import classification_report, confusion_matrix\n",
        "from gensim.models import Word2Vec\n",
        "from imblearn.over_sampling import RandomOverSampler\n",
        "import seaborn as sns\n",
        "import matplotlib.pyplot as plt\n",
        "\n",
        "print(\"Libraries imported successfully.\")\n"
      ]
    },
    {
      "cell_type": "code",
      "source": [
        "# Path to the CSV file\n",
        "file_path = '/content/Hurricane_irma_original.csv'\n",
        "\n",
        "# Check if the file exists\n",
        "if not os.path.exists(file_path):\n",
        "    raise FileNotFoundError(f\"File not found: {file_path}\")\n",
        "else:\n",
        "    print(f\"File found at: {file_path}\")\n"
      ],
      "metadata": {
        "colab": {
          "base_uri": "https://localhost:8080/"
        },
        "id": "QkMjqxyysQFt",
        "outputId": "ade92856-c081-4352-dc27-bd46423f6df1"
      },
      "execution_count": 3,
      "outputs": [
        {
          "output_type": "stream",
          "name": "stdout",
          "text": [
            "File found at: /content/Hurricane_irma_original.csv\n"
          ]
        }
      ]
    },
    {
      "cell_type": "code",
      "source": [
        "# Load and preprocess data\n",
        "data = pd.read_csv(file_path)\n",
        "\n",
        "# Check for required columns\n",
        "if 'processed_data' not in data.columns or 'Humanitarian_Class' not in data.columns:\n",
        "    raise KeyError(\"The dataset must contain 'processed_data' and 'Humanitarian_Class' columns.\")\n",
        "\n",
        "# Fill missing values in the 'processed_data' column and convert to string type\n",
        "data['processed_data'] = data['processed_data'].fillna('').astype(str)\n",
        "\n",
        "# Convert 'Humanitarian_Class' to string type\n",
        "data['Humanitarian_Class'] = data['Humanitarian_Class'].astype(str)\n",
        "\n",
        "# Display the first few rows of the dataset\n",
        "print(\"Data preview:\")\n",
        "print(data.head())\n"
      ],
      "metadata": {
        "colab": {
          "base_uri": "https://localhost:8080/"
        },
        "id": "9mcJym6MsVAW",
        "outputId": "8e9c8472-4420-4b82-8f23-c2a368ef43f0"
      },
      "execution_count": 4,
      "outputs": [
        {
          "output_type": "stream",
          "name": "stdout",
          "text": [
            "Data preview:\n",
            "                                          tweet_text  \\\n",
            "0  RT @MSN: Island of Barbuda 'literally under wa...   \n",
            "1  RT @Reuters: Hurricane Irma threatens luxury T...   \n",
            "2  RT @TheAnonJournal: BREAKING NEWS: Hurricane I...   \n",
            "3  JUST IN: 11PM #Hurricane #Irma update. @ABC7Ne...   \n",
            "4  RT @cnnbrk: Hurricane Irma destroys \"upwards o...   \n",
            "\n",
            "                                          Multiclass Binary_Class  \\\n",
            "0  infrastructure_and_utility_damage | Infrastruc...       Damage   \n",
            "1            other_relevant_information | Non-Damage   Non-Damage   \n",
            "2            other_relevant_information | Non-Damage   Non-Damage   \n",
            "3            other_relevant_information | Non-Damage   Non-Damage   \n",
            "4  infrastructure_and_utility_damage | Infrastruc...       Damage   \n",
            "\n",
            "           Humanitarian_Class  \\\n",
            "0  Other Relevant Information   \n",
            "1  Other Relevant Information   \n",
            "2  Other Relevant Information   \n",
            "3  Other Relevant Information   \n",
            "4  Other Relevant Information   \n",
            "\n",
            "                                      processed_data  \n",
            "0      island barbara literally water hurricane irma  \n",
            "1   hurricane irma threatens luxury trump properties  \n",
            "2  breaking news hurricane irma big enough cover ...  \n",
            "3                                          pm update  \n",
            "4  hurricane irma destroys upwards barbara offici...  \n"
          ]
        }
      ]
    },
    {
      "cell_type": "code",
      "source": [
        "# Encode class labels\n",
        "class_labels = sorted(data['Humanitarian_Class'].unique())\n",
        "class_mapping = {label: idx for idx, label in enumerate(class_labels)}\n",
        "data['Humanitarian_Class'] = data['Humanitarian_Class'].map(class_mapping)\n",
        "\n",
        "# Print class distribution\n",
        "print(\"Class distribution:\")\n",
        "print(data['Humanitarian_Class'].value_counts())\n"
      ],
      "metadata": {
        "colab": {
          "base_uri": "https://localhost:8080/"
        },
        "id": "t7MvPHm1sWQE",
        "outputId": "7b3c4061-abe5-4241-9372-0be89ed90e03"
      },
      "execution_count": 5,
      "outputs": [
        {
          "output_type": "stream",
          "name": "stdout",
          "text": [
            "Class distribution:\n",
            "Humanitarian_Class\n",
            "5    3835\n",
            "0      63\n",
            "2      51\n",
            "6      49\n",
            "1      13\n",
            "3       4\n",
            "4       1\n",
            "Name: count, dtype: int64\n"
          ]
        }
      ]
    },
    {
      "cell_type": "code",
      "source": [
        "# Tokenize sentences into words\n",
        "sentences = [sentence.split() for sentence in data['processed_data']]\n",
        "\n",
        "# Prepare labels in categorical format\n",
        "labels = tf.keras.utils.to_categorical(data['Humanitarian_Class'].values, num_classes=len(class_labels))\n",
        "\n",
        "# Split the data into training and testing sets (80-20 split)\n",
        "X_train, X_test, y_train, y_test = train_test_split(sentences, labels, test_size=0.2, random_state=42)\n",
        "\n",
        "print(\"Data split into training and testing sets:\")\n",
        "print(f\"Training samples: {len(X_train)}\")\n",
        "print(f\"Testing samples: {len(X_test)}\")\n"
      ],
      "metadata": {
        "colab": {
          "base_uri": "https://localhost:8080/"
        },
        "id": "oJ6Vh2zWsWBl",
        "outputId": "bb84891c-b0aa-4193-c897-7149394f4fad"
      },
      "execution_count": 6,
      "outputs": [
        {
          "output_type": "stream",
          "name": "stdout",
          "text": [
            "Data split into training and testing sets:\n",
            "Training samples: 3212\n",
            "Testing samples: 804\n"
          ]
        }
      ]
    },
    {
      "cell_type": "code",
      "source": [
        "# Oversample minority classes using RandomOverSampler\n",
        "ros = RandomOverSampler(random_state=42)\n",
        "X_train_flat = [\" \".join(sentence) for sentence in X_train]\n",
        "X_train_resampled, y_train_resampled = ros.fit_resample(np.array(X_train_flat).reshape(-1, 1), y_train)\n",
        "\n",
        "# Convert resampled data back to a list of words\n",
        "X_train_resampled = [sentence.split() for sentence in X_train_resampled.flatten()]\n",
        "\n",
        "print(\"Data after oversampling:\")\n",
        "print(f\"Training samples after oversampling: {len(X_train_resampled)}\")\n"
      ],
      "metadata": {
        "colab": {
          "base_uri": "https://localhost:8080/"
        },
        "id": "fHA577qtsV2I",
        "outputId": "e11c28af-acae-4737-aee6-9c1c04c3ea23"
      },
      "execution_count": 7,
      "outputs": [
        {
          "output_type": "stream",
          "name": "stdout",
          "text": [
            "Data after oversampling:\n",
            "Training samples after oversampling: 21476\n"
          ]
        }
      ]
    },
    {
      "cell_type": "code",
      "source": [
        "# Train Word2Vec model\n",
        "word2vec_model = Word2Vec(X_train_resampled, vector_size=300, window=5, min_count=1, sg=0)\n",
        "\n",
        "# Create embedding matrix\n",
        "vocab_size = len(word2vec_model.wv.index_to_key)\n",
        "embedding_dim = word2vec_model.vector_size\n",
        "embedding_matrix = np.zeros((vocab_size + 1, embedding_dim))\n",
        "\n",
        "word_index = {word: idx + 1 for idx, word in enumerate(word2vec_model.wv.index_to_key)}\n",
        "for word, idx in word_index.items():\n",
        "    embedding_matrix[idx] = word2vec_model.wv[word]\n",
        "\n",
        "print(f\"Word2Vec model trained. Vocabulary size: {vocab_size}, Embedding dimension: {embedding_dim}\")\n"
      ],
      "metadata": {
        "colab": {
          "base_uri": "https://localhost:8080/"
        },
        "id": "SMFqAPAjsn3Q",
        "outputId": "7f46c865-f286-484c-aa46-c74501c7ec49"
      },
      "execution_count": 8,
      "outputs": [
        {
          "output_type": "stream",
          "name": "stdout",
          "text": [
            "Word2Vec model trained. Vocabulary size: 5866, Embedding dimension: 300\n"
          ]
        }
      ]
    },
    {
      "cell_type": "code",
      "source": [
        "# Convert text to sequences\n",
        "X_train_resampled = [[word_index.get(word, 0) for word in sentence] for sentence in X_train_resampled]\n",
        "X_test = [[word_index.get(word, 0) for word in sentence] for sentence in X_test]\n",
        "\n",
        "# Pad sequences to ensure uniform length\n",
        "X_train_resampled = tf.keras.preprocessing.sequence.pad_sequences(X_train_resampled, maxlen=100)\n",
        "X_test = tf.keras.preprocessing.sequence.pad_sequences(X_test, maxlen=100)\n",
        "\n",
        "print(f\"Sequences padded. X_train_resampled shape: {X_train_resampled.shape}, X_test shape: {X_test.shape}\")\n"
      ],
      "metadata": {
        "colab": {
          "base_uri": "https://localhost:8080/"
        },
        "id": "5YVg-tS2ssFP",
        "outputId": "bad9cbff-f27c-459e-8e47-1f1aa174783b"
      },
      "execution_count": 9,
      "outputs": [
        {
          "output_type": "stream",
          "name": "stdout",
          "text": [
            "Sequences padded. X_train_resampled shape: (21476, 100), X_test shape: (804, 100)\n"
          ]
        }
      ]
    },
    {
      "cell_type": "code",
      "source": [
        "# Calculate class weights to handle class imbalance\n",
        "class_weights = {i: len(y_train_resampled) / (len(class_labels) * np.bincount(np.argmax(y_train_resampled, axis=1))[i]) for i in range(len(class_labels))}\n",
        "\n",
        "print(\"Class weights calculated.\")\n"
      ],
      "metadata": {
        "colab": {
          "base_uri": "https://localhost:8080/"
        },
        "id": "bvugyRY-sx5r",
        "outputId": "1e1a29a4-9c5b-4790-a6ae-c0579896f4d8"
      },
      "execution_count": 10,
      "outputs": [
        {
          "output_type": "stream",
          "name": "stdout",
          "text": [
            "Class weights calculated.\n"
          ]
        }
      ]
    },
    {
      "cell_type": "code",
      "source": [
        "# Define and compile the CNN model\n",
        "model = Sequential([\n",
        "    Embedding(input_dim=vocab_size + 1, output_dim=embedding_dim, weights=[embedding_matrix], input_length=100, trainable=False),\n",
        "    Conv1D(100, kernel_size=2, activation='relu'),\n",
        "    MaxPooling1D(pool_size=2),\n",
        "    BatchNormalization(),\n",
        "    Dropout(0.02),\n",
        "    Conv1D(150, kernel_size=3, activation='relu'),\n",
        "    MaxPooling1D(pool_size=3),\n",
        "    BatchNormalization(),\n",
        "    Dropout(0.02),\n",
        "    Conv1D(200, kernel_size=4, activation='relu'),\n",
        "    MaxPooling1D(pool_size=4),\n",
        "    BatchNormalization(),\n",
        "    Flatten(),\n",
        "    Dense(256, activation='relu'),\n",
        "    Dropout(0.5),\n",
        "    Dense(len(class_labels), activation='softmax')\n",
        "])\n",
        "\n",
        "# Compile the model\n",
        "model.compile(optimizer=tf.keras.optimizers.Adam(learning_rate=0.01), loss='categorical_crossentropy', metrics=['accuracy'])\n",
        "\n",
        "# Define early stopping callback\n",
        "early_stopping = EarlyStopping(monitor='val_loss', patience=10, restore_best_weights=True)\n",
        "\n",
        "# Train the model\n",
        "model.fit(X_train_resampled, y_train_resampled, epochs=50, batch_size=32, validation_split=0.2, callbacks=[early_stopping], class_weight=class_weights)\n",
        "\n",
        "print(\"Model training completed.\")\n"
      ],
      "metadata": {
        "colab": {
          "base_uri": "https://localhost:8080/"
        },
        "id": "slsk7EbMs0OC",
        "outputId": "c328b214-7b6d-4e0e-b167-410bf9c0f8f7"
      },
      "execution_count": 11,
      "outputs": [
        {
          "output_type": "stream",
          "name": "stdout",
          "text": [
            "Epoch 1/50\n"
          ]
        },
        {
          "output_type": "stream",
          "name": "stderr",
          "text": [
            "/usr/local/lib/python3.11/dist-packages/keras/src/layers/core/embedding.py:90: UserWarning: Argument `input_length` is deprecated. Just remove it.\n",
            "  warnings.warn(\n"
          ]
        },
        {
          "output_type": "stream",
          "name": "stdout",
          "text": [
            "\u001b[1m537/537\u001b[0m \u001b[32m━━━━━━━━━━━━━━━━━━━━\u001b[0m\u001b[37m\u001b[0m \u001b[1m25s\u001b[0m 26ms/step - accuracy: 0.6226 - loss: 1.1412 - val_accuracy: 0.0000e+00 - val_loss: 8.3282\n",
            "Epoch 2/50\n",
            "\u001b[1m537/537\u001b[0m \u001b[32m━━━━━━━━━━━━━━━━━━━━\u001b[0m\u001b[37m\u001b[0m \u001b[1m3s\u001b[0m 4ms/step - accuracy: 0.8082 - loss: 0.5817 - val_accuracy: 0.0000e+00 - val_loss: 5.2732\n",
            "Epoch 3/50\n",
            "\u001b[1m537/537\u001b[0m \u001b[32m━━━━━━━━━━━━━━━━━━━━\u001b[0m\u001b[37m\u001b[0m \u001b[1m2s\u001b[0m 3ms/step - accuracy: 0.8314 - loss: 0.4835 - val_accuracy: 0.0000e+00 - val_loss: 6.8801\n",
            "Epoch 4/50\n",
            "\u001b[1m537/537\u001b[0m \u001b[32m━━━━━━━━━━━━━━━━━━━━\u001b[0m\u001b[37m\u001b[0m \u001b[1m2s\u001b[0m 4ms/step - accuracy: 0.8298 - loss: 0.4885 - val_accuracy: 0.0000e+00 - val_loss: 7.0330\n",
            "Epoch 5/50\n",
            "\u001b[1m537/537\u001b[0m \u001b[32m━━━━━━━━━━━━━━━━━━━━\u001b[0m\u001b[37m\u001b[0m \u001b[1m4s\u001b[0m 7ms/step - accuracy: 0.8315 - loss: 0.5050 - val_accuracy: 0.2949 - val_loss: 4.3706\n",
            "Epoch 6/50\n",
            "\u001b[1m537/537\u001b[0m \u001b[32m━━━━━━━━━━━━━━━━━━━━\u001b[0m\u001b[37m\u001b[0m \u001b[1m3s\u001b[0m 4ms/step - accuracy: 0.8327 - loss: 0.4845 - val_accuracy: 0.0000e+00 - val_loss: 7.5168\n",
            "Epoch 7/50\n",
            "\u001b[1m537/537\u001b[0m \u001b[32m━━━━━━━━━━━━━━━━━━━━\u001b[0m\u001b[37m\u001b[0m \u001b[1m2s\u001b[0m 3ms/step - accuracy: 0.8356 - loss: 0.4887 - val_accuracy: 0.0000e+00 - val_loss: 6502.5088\n",
            "Epoch 8/50\n",
            "\u001b[1m537/537\u001b[0m \u001b[32m━━━━━━━━━━━━━━━━━━━━\u001b[0m\u001b[37m\u001b[0m \u001b[1m3s\u001b[0m 3ms/step - accuracy: 0.8312 - loss: 0.4976 - val_accuracy: 0.0000e+00 - val_loss: 4.0126\n",
            "Epoch 9/50\n",
            "\u001b[1m537/537\u001b[0m \u001b[32m━━━━━━━━━━━━━━━━━━━━\u001b[0m\u001b[37m\u001b[0m \u001b[1m3s\u001b[0m 5ms/step - accuracy: 0.8413 - loss: 0.4680 - val_accuracy: 0.0000e+00 - val_loss: 5.2726\n",
            "Epoch 10/50\n",
            "\u001b[1m537/537\u001b[0m \u001b[32m━━━━━━━━━━━━━━━━━━━━\u001b[0m\u001b[37m\u001b[0m \u001b[1m4s\u001b[0m 4ms/step - accuracy: 0.8406 - loss: 0.4495 - val_accuracy: 0.0000e+00 - val_loss: 3.2786\n",
            "Epoch 11/50\n",
            "\u001b[1m537/537\u001b[0m \u001b[32m━━━━━━━━━━━━━━━━━━━━\u001b[0m\u001b[37m\u001b[0m \u001b[1m2s\u001b[0m 4ms/step - accuracy: 0.8310 - loss: 0.4938 - val_accuracy: 0.0000e+00 - val_loss: 4.7882\n",
            "Epoch 12/50\n",
            "\u001b[1m537/537\u001b[0m \u001b[32m━━━━━━━━━━━━━━━━━━━━\u001b[0m\u001b[37m\u001b[0m \u001b[1m2s\u001b[0m 3ms/step - accuracy: 0.8390 - loss: 0.4672 - val_accuracy: 0.2949 - val_loss: 4.9391\n",
            "Epoch 13/50\n",
            "\u001b[1m537/537\u001b[0m \u001b[32m━━━━━━━━━━━━━━━━━━━━\u001b[0m\u001b[37m\u001b[0m \u001b[1m3s\u001b[0m 4ms/step - accuracy: 0.8288 - loss: 0.5134 - val_accuracy: 0.0000e+00 - val_loss: 4.8482\n",
            "Epoch 14/50\n",
            "\u001b[1m537/537\u001b[0m \u001b[32m━━━━━━━━━━━━━━━━━━━━\u001b[0m\u001b[37m\u001b[0m \u001b[1m2s\u001b[0m 4ms/step - accuracy: 0.8220 - loss: 0.5119 - val_accuracy: 0.0000e+00 - val_loss: 6.4026\n",
            "Epoch 15/50\n",
            "\u001b[1m537/537\u001b[0m \u001b[32m━━━━━━━━━━━━━━━━━━━━\u001b[0m\u001b[37m\u001b[0m \u001b[1m2s\u001b[0m 3ms/step - accuracy: 0.8355 - loss: 0.4736 - val_accuracy: 0.0000e+00 - val_loss: 7.4171\n",
            "Epoch 16/50\n",
            "\u001b[1m537/537\u001b[0m \u001b[32m━━━━━━━━━━━━━━━━━━━━\u001b[0m\u001b[37m\u001b[0m \u001b[1m3s\u001b[0m 4ms/step - accuracy: 0.8346 - loss: 0.4681 - val_accuracy: 0.2949 - val_loss: 4.0436\n",
            "Epoch 17/50\n",
            "\u001b[1m537/537\u001b[0m \u001b[32m━━━━━━━━━━━━━━━━━━━━\u001b[0m\u001b[37m\u001b[0m \u001b[1m3s\u001b[0m 3ms/step - accuracy: 0.8429 - loss: 0.4542 - val_accuracy: 0.2949 - val_loss: 4.8985\n",
            "Epoch 18/50\n",
            "\u001b[1m537/537\u001b[0m \u001b[32m━━━━━━━━━━━━━━━━━━━━\u001b[0m\u001b[37m\u001b[0m \u001b[1m3s\u001b[0m 4ms/step - accuracy: 0.8471 - loss: 0.4374 - val_accuracy: 0.2949 - val_loss: 4.7842\n",
            "Epoch 19/50\n",
            "\u001b[1m537/537\u001b[0m \u001b[32m━━━━━━━━━━━━━━━━━━━━\u001b[0m\u001b[37m\u001b[0m \u001b[1m2s\u001b[0m 4ms/step - accuracy: 0.8391 - loss: 0.4536 - val_accuracy: 0.2949 - val_loss: 5.8029\n",
            "Epoch 20/50\n",
            "\u001b[1m537/537\u001b[0m \u001b[32m━━━━━━━━━━━━━━━━━━━━\u001b[0m\u001b[37m\u001b[0m \u001b[1m2s\u001b[0m 3ms/step - accuracy: 0.8368 - loss: 0.4590 - val_accuracy: 0.2949 - val_loss: 4.3192\n",
            "Model training completed.\n"
          ]
        }
      ]
    },
    {
      "cell_type": "code",
      "source": [
        "# Evaluate model\n",
        "y_pred = model.predict(X_test)\n",
        "y_pred_classes = np.argmax(y_pred, axis=1)\n",
        "y_true_classes = np.argmax(y_test, axis=1)\n",
        "\n",
        "# Classification report\n",
        "print(\"Classification Report:\")\n",
        "print(classification_report(y_true_classes, y_pred_classes, labels=range(len(class_labels)), target_names=class_labels))\n",
        "\n",
        "# Confusion matrix\n",
        "conf_matrix = confusion_matrix(y_true_classes, y_pred_classes, labels=range(len(class_labels)))\n",
        "sns.heatmap(conf_matrix, annot=True, fmt='d', cmap='Blues', xticklabels=class_labels, yticklabels=class_labels)\n",
        "plt.xlabel('Predicted')\n",
        "plt.ylabel('True')\n",
        "plt.title('Confusion Matrix')\n",
        "plt.show()\n",
        "\n",
        "print(\"Model evaluation completed.\")\n"
      ],
      "metadata": {
        "colab": {
          "base_uri": "https://localhost:8080/",
          "height": 1000
        },
        "id": "_guzTZ-ss47J",
        "outputId": "55093100-7cc1-4640-fa16-80ca5e1cef73"
      },
      "execution_count": 12,
      "outputs": [
        {
          "output_type": "stream",
          "name": "stdout",
          "text": [
            "\u001b[1m26/26\u001b[0m \u001b[32m━━━━━━━━━━━━━━━━━━━━\u001b[0m\u001b[37m\u001b[0m \u001b[1m1s\u001b[0m 13ms/step\n",
            "Classification Report:\n",
            "                            precision    recall  f1-score   support\n",
            "\n",
            "      Affected Individuals       0.12      0.07      0.09        14\n",
            "               Fire Damage       0.00      0.00      0.00         3\n",
            "              Flood Damage       0.33      0.10      0.15        10\n",
            "     Infrastructure Damage       0.00      0.00      0.00         0\n",
            "          Not Humanitarian       0.00      0.00      0.00         0\n",
            "Other Relevant Information       0.96      0.96      0.96       767\n",
            "       Rescue/Volunteering       0.00      0.00      0.00        10\n",
            "\n",
            "                  accuracy                           0.92       804\n",
            "                 macro avg       0.20      0.16      0.17       804\n",
            "              weighted avg       0.92      0.92      0.92       804\n",
            "\n"
          ]
        },
        {
          "output_type": "stream",
          "name": "stderr",
          "text": [
            "/usr/local/lib/python3.11/dist-packages/sklearn/metrics/_classification.py:1565: UndefinedMetricWarning: Precision is ill-defined and being set to 0.0 in labels with no predicted samples. Use `zero_division` parameter to control this behavior.\n",
            "  _warn_prf(average, modifier, f\"{metric.capitalize()} is\", len(result))\n",
            "/usr/local/lib/python3.11/dist-packages/sklearn/metrics/_classification.py:1565: UndefinedMetricWarning: Recall is ill-defined and being set to 0.0 in labels with no true samples. Use `zero_division` parameter to control this behavior.\n",
            "  _warn_prf(average, modifier, f\"{metric.capitalize()} is\", len(result))\n",
            "/usr/local/lib/python3.11/dist-packages/sklearn/metrics/_classification.py:1565: UndefinedMetricWarning: F-score is ill-defined and being set to 0.0 in labels with no true nor predicted samples. Use `zero_division` parameter to control this behavior.\n",
            "  _warn_prf(average, modifier, f\"{metric.capitalize()} is\", len(result))\n",
            "/usr/local/lib/python3.11/dist-packages/sklearn/metrics/_classification.py:1565: UndefinedMetricWarning: Precision is ill-defined and being set to 0.0 in labels with no predicted samples. Use `zero_division` parameter to control this behavior.\n",
            "  _warn_prf(average, modifier, f\"{metric.capitalize()} is\", len(result))\n",
            "/usr/local/lib/python3.11/dist-packages/sklearn/metrics/_classification.py:1565: UndefinedMetricWarning: Recall is ill-defined and being set to 0.0 in labels with no true samples. Use `zero_division` parameter to control this behavior.\n",
            "  _warn_prf(average, modifier, f\"{metric.capitalize()} is\", len(result))\n",
            "/usr/local/lib/python3.11/dist-packages/sklearn/metrics/_classification.py:1565: UndefinedMetricWarning: F-score is ill-defined and being set to 0.0 in labels with no true nor predicted samples. Use `zero_division` parameter to control this behavior.\n",
            "  _warn_prf(average, modifier, f\"{metric.capitalize()} is\", len(result))\n",
            "/usr/local/lib/python3.11/dist-packages/sklearn/metrics/_classification.py:1565: UndefinedMetricWarning: Precision is ill-defined and being set to 0.0 in labels with no predicted samples. Use `zero_division` parameter to control this behavior.\n",
            "  _warn_prf(average, modifier, f\"{metric.capitalize()} is\", len(result))\n",
            "/usr/local/lib/python3.11/dist-packages/sklearn/metrics/_classification.py:1565: UndefinedMetricWarning: Recall is ill-defined and being set to 0.0 in labels with no true samples. Use `zero_division` parameter to control this behavior.\n",
            "  _warn_prf(average, modifier, f\"{metric.capitalize()} is\", len(result))\n",
            "/usr/local/lib/python3.11/dist-packages/sklearn/metrics/_classification.py:1565: UndefinedMetricWarning: F-score is ill-defined and being set to 0.0 in labels with no true nor predicted samples. Use `zero_division` parameter to control this behavior.\n",
            "  _warn_prf(average, modifier, f\"{metric.capitalize()} is\", len(result))\n"
          ]
        },
        {
          "output_type": "display_data",
          "data": {
            "text/plain": [
              "<Figure size 640x480 with 2 Axes>"
            ],
            "image/png": "[encoded data removed]"
          },
          "metadata": {}
        },
        {
          "output_type": "stream",
          "name": "stdout",
          "text": [
            "Model evaluation completed.\n"
          ]
        }
      ]
    },
    {
      "cell_type": "code",
      "source": [],
      "metadata": {
        "id": "Cb5-3G-ds-5i"
      },
      "execution_count": null,
      "outputs": []
    }
  ],
  "metadata": {
    "accelerator": "GPU",
    "colab": {
      "gpuType": "T4",
      "provenance": []
    },
    "kernelspec": {
      "display_name": "Python 3",
      "name": "python3"
    },
    "language_info": {
      "name": "python"
    }
  },
  "nbformat": 4,
  "nbformat_minor": 0
}