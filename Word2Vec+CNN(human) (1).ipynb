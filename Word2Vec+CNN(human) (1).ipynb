{
  "nbformat": 4,
  "nbformat_minor": 0,
  "metadata": {
    "colab": {
      "provenance": [],
      "gpuType": "T4"
    },
    "kernelspec": {
      "name": "python3",
      "display_name": "Python 3"
    },
    "language_info": {
      "name": "python"
    },
    "accelerator": "GPU"
  },
  "cells": [
    {
      "cell_type": "code",
      "source": [
        "import os\n",
        "import numpy as np\n",
        "import pandas as pd\n",
        "import tensorflow as tf\n",
        "from tensorflow.keras.models import Sequential\n",
        "from tensorflow.keras.layers import Embedding, Conv1D, MaxPooling1D, Flatten, Dense, Dropout, BatchNormalization\n",
        "from tensorflow.keras.callbacks import EarlyStopping\n",
        "from sklearn.model_selection import train_test_split\n",
        "from sklearn.metrics import classification_report, confusion_matrix\n",
        "from gensim.models import Word2Vec\n",
        "from imblearn.over_sampling import RandomOverSampler\n",
        "import seaborn as sns\n",
        "import matplotlib.pyplot as plt\n",
        "\n",
        "print(\"Libraries imported successfully.\")"
      ],
      "metadata": {
        "colab": {
          "base_uri": "https://localhost:8080/"
        },
        "id": "mB0mmeDiAvCs",
        "outputId": "b4738992-15c6-4100-ceab-def2e05b37f4"
      },
      "execution_count": 43,
      "outputs": [
        {
          "output_type": "stream",
          "name": "stdout",
          "text": [
            "Libraries imported successfully.\n"
          ]
        }
      ]
    },
    {
      "cell_type": "code",
      "source": [
        "# Path to the CSV file\n",
        "file_path = '/content/Hurricane_irma.csv'\n",
        "\n",
        "# Check if the file exists\n",
        "if not os.path.exists(file_path):\n",
        "    raise FileNotFoundError(f\"File not found: {file_path}\")\n",
        "else:\n",
        "    print(f\"File found at: {file_path}\")"
      ],
      "metadata": {
        "colab": {
          "base_uri": "https://localhost:8080/"
        },
        "id": "FFq8v9-8A3bI",
        "outputId": "f1d7a789-7644-49dc-a96d-f25e076bfccc"
      },
      "execution_count": 44,
      "outputs": [
        {
          "output_type": "stream",
          "name": "stdout",
          "text": [
            "File found at: /content/Hurricane_irma.csv\n"
          ]
        }
      ]
    },
    {
      "cell_type": "code",
      "source": [
        "# Load and preprocess data\n",
        "data = pd.read_csv(file_path)\n",
        "\n",
        "# Check for required columns\n",
        "if 'processed_data' not in data.columns or 'Humanitarian_Class' not in data.columns:\n",
        "    raise KeyError(\"The dataset must contain 'processed_data' and 'Humanitarian_Class' columns.\")\n",
        "\n",
        "# Fill missing values in the 'processed_data' column and convert to string type\n",
        "data['processed_data'] = data['processed_data'].fillna('').astype(str)\n",
        "\n",
        "# Convert 'Humanitarian_Class' to string type\n",
        "data['Humanitarian_Class'] = data['Humanitarian_Class'].astype(str)\n",
        "\n",
        "# Display the first few rows of the dataset\n",
        "print(\"Data preview:\")\n",
        "print(data.head())"
      ],
      "metadata": {
        "colab": {
          "base_uri": "https://localhost:8080/"
        },
        "id": "pokVW1OHBCPc",
        "outputId": "debdc730-798d-4379-db76-9e51090f1817"
      },
      "execution_count": 45,
      "outputs": [
        {
          "output_type": "stream",
          "name": "stdout",
          "text": [
            "Data preview:\n",
            "                                          tweet_text  \\\n",
            "0  RT @MSN: Island of Barbuda 'literally under wa...   \n",
            "1  RT @Reuters: Hurricane Irma threatens luxury T...   \n",
            "2  RT @TheAnonJournal: BREAKING NEWS: Hurricane I...   \n",
            "3  JUST IN: 11PM #Hurricane #Irma update. @ABC7Ne...   \n",
            "4  RT @cnnbrk: Hurricane Irma destroys \"upwards o...   \n",
            "\n",
            "                                          Multiclass Binary_Class  \\\n",
            "0  infrastructure_and_utility_damage | Infrastruc...       Damage   \n",
            "1            other_relevant_information | Non-Damage   Non-Damage   \n",
            "2            other_relevant_information | Non-Damage   Non-Damage   \n",
            "3            other_relevant_information | Non-Damage   Non-Damage   \n",
            "4  infrastructure_and_utility_damage | Infrastruc...       Damage   \n",
            "\n",
            "           Humanitarian_Class  \\\n",
            "0  other relevant information   \n",
            "1  other relevant information   \n",
            "2  other relevant information   \n",
            "3  other relevant information   \n",
            "4  other relevant information   \n",
            "\n",
            "                                      processed_data  \n",
            "0      island barbara literally water hurricane irma  \n",
            "1   hurricane irma threatens luxury trump properties  \n",
            "2  breaking news hurricane irma big enough cover ...  \n",
            "3                                          pm update  \n",
            "4  hurricane irma destroys upwards barbara offici...  \n"
          ]
        }
      ]
    },
    {
      "cell_type": "code",
      "source": [
        "# Encode class labels\n",
        "class_labels = sorted(data['Humanitarian_Class'].unique())\n",
        "class_mapping = {label: idx for idx, label in enumerate(class_labels)}\n",
        "data['Humanitarian_Class'] = data['Humanitarian_Class'].map(class_mapping)\n",
        "\n",
        "# Print class distribution\n",
        "print(\"Class distribution:\")\n",
        "print(data['Humanitarian_Class'].value_counts())"
      ],
      "metadata": {
        "colab": {
          "base_uri": "https://localhost:8080/"
        },
        "id": "e26k0CgdBGqe",
        "outputId": "4c236b98-9d8a-482d-ab33-7fc238a7544e"
      },
      "execution_count": 46,
      "outputs": [
        {
          "output_type": "stream",
          "name": "stdout",
          "text": [
            "Class distribution:\n",
            "Humanitarian_Class\n",
            "2    3364\n",
            "3     403\n",
            "1     185\n",
            "0      64\n",
            "Name: count, dtype: int64\n"
          ]
        }
      ]
    },
    {
      "cell_type": "code",
      "source": [
        "# Tokenize sentences into words\n",
        "sentences = [sentence.split() for sentence in data['processed_data']]\n",
        "\n",
        "# Prepare labels in categorical format\n",
        "labels = tf.keras.utils.to_categorical(data['Humanitarian_Class'].values, num_classes=len(class_labels))\n",
        "\n",
        "# Split the data into training and testing sets (80-20 split)\n",
        "X_train, X_test, y_train, y_test = train_test_split(sentences, labels, test_size=0.2, random_state=42)\n",
        "\n",
        "print(\"Data split into training and testing sets:\")\n",
        "print(f\"Training samples: {len(X_train)}\")\n",
        "print(f\"Testing samples: {len(X_test)}\")"
      ],
      "metadata": {
        "colab": {
          "base_uri": "https://localhost:8080/"
        },
        "id": "R_wNfLCpBPNt",
        "outputId": "203c5219-3b30-494d-9c73-64902f915163"
      },
      "execution_count": 47,
      "outputs": [
        {
          "output_type": "stream",
          "name": "stdout",
          "text": [
            "Data split into training and testing sets:\n",
            "Training samples: 3212\n",
            "Testing samples: 804\n"
          ]
        }
      ]
    },
    {
      "cell_type": "code",
      "source": [
        "# Oversample minority classes using RandomOverSampler\n",
        "ros = RandomOverSampler(random_state=42)\n",
        "X_train_flat = [\" \".join(sentence) for sentence in X_train]\n",
        "X_train_resampled, y_train_resampled = ros.fit_resample(np.array(X_train_flat).reshape(-1, 1), y_train)\n",
        "\n",
        "# Convert resampled data back to a list of words\n",
        "X_train_resampled = [sentence.split() for sentence in X_train_resampled.flatten()]\n",
        "\n",
        "print(\"Data after oversampling:\")\n",
        "print(f\"Training samples after oversampling: {len(X_train_resampled)}\")"
      ],
      "metadata": {
        "colab": {
          "base_uri": "https://localhost:8080/"
        },
        "id": "5eKbYEpEBTf8",
        "outputId": "b2644266-7bd7-4473-c14b-4dc5fbd4daf5"
      },
      "execution_count": 48,
      "outputs": [
        {
          "output_type": "stream",
          "name": "stdout",
          "text": [
            "Data after oversampling:\n",
            "Training samples after oversampling: 10752\n"
          ]
        }
      ]
    },
    {
      "cell_type": "code",
      "source": [
        "# Train Word2Vec model\n",
        "word2vec_model = Word2Vec(X_train_resampled, vector_size=300, window=5, min_count=1, sg=0)\n",
        "\n",
        "# Create embedding matrix\n",
        "vocab_size = len(word2vec_model.wv.index_to_key)\n",
        "embedding_dim = word2vec_model.vector_size\n",
        "embedding_matrix = np.zeros((vocab_size + 1, embedding_dim))\n",
        "\n",
        "word_index = {word: idx + 1 for idx, word in enumerate(word2vec_model.wv.index_to_key)}\n",
        "for word, idx in word_index.items():\n",
        "    embedding_matrix[idx] = word2vec_model.wv[word]\n",
        "\n",
        "print(f\"Word2Vec model trained. Vocabulary size: {vocab_size}, Embedding dimension: {embedding_dim}\")"
      ],
      "metadata": {
        "colab": {
          "base_uri": "https://localhost:8080/"
        },
        "id": "3FPny5GLBWsf",
        "outputId": "e85e2bc6-3aec-4c84-9c95-8637008dd371"
      },
      "execution_count": 49,
      "outputs": [
        {
          "output_type": "stream",
          "name": "stdout",
          "text": [
            "Word2Vec model trained. Vocabulary size: 5866, Embedding dimension: 300\n"
          ]
        }
      ]
    },
    {
      "cell_type": "code",
      "source": [
        "# Convert text to sequences\n",
        "X_train_resampled = [[word_index.get(word, 0) for word in sentence] for sentence in X_train_resampled]\n",
        "X_test = [[word_index.get(word, 0) for word in sentence] for sentence in X_test]\n",
        "\n",
        "# Pad sequences to ensure uniform length\n",
        "X_train_resampled = tf.keras.preprocessing.sequence.pad_sequences(X_train_resampled, maxlen=100)\n",
        "X_test = tf.keras.preprocessing.sequence.pad_sequences(X_test, maxlen=100)\n",
        "\n",
        "print(f\"Sequences padded. X_train_resampled shape: {X_train_resampled.shape}, X_test shape: {X_test.shape}\")\n"
      ],
      "metadata": {
        "colab": {
          "base_uri": "https://localhost:8080/"
        },
        "id": "J8C4Pj9xBYAd",
        "outputId": "32abe64a-9001-4987-b4c4-31190e64465f"
      },
      "execution_count": 50,
      "outputs": [
        {
          "output_type": "stream",
          "name": "stdout",
          "text": [
            "Sequences padded. X_train_resampled shape: (10752, 100), X_test shape: (804, 100)\n"
          ]
        }
      ]
    },
    {
      "cell_type": "code",
      "source": [
        "# Calculate class weights to handle class imbalance\n",
        "class_weights = {i: len(y_train_resampled) / (len(class_labels) * np.bincount(np.argmax(y_train_resampled, axis=1))[i]) for i in range(len(class_labels))}\n",
        "\n",
        "print(\"Class weights calculated.\")\n"
      ],
      "metadata": {
        "colab": {
          "base_uri": "https://localhost:8080/"
        },
        "id": "gh9lDJjSBeQM",
        "outputId": "8d0bb00f-ed9d-4f47-d6e5-82ce31389768"
      },
      "execution_count": 51,
      "outputs": [
        {
          "output_type": "stream",
          "name": "stdout",
          "text": [
            "Class weights calculated.\n"
          ]
        }
      ]
    },
    {
      "cell_type": "code",
      "source": [
        "\n",
        "# Define and compile the CNN model\n",
        "model = Sequential([\n",
        "    Embedding(input_dim=vocab_size + 1, output_dim=embedding_dim, weights=[embedding_matrix], input_length=100, trainable=False),\n",
        "    Conv1D(100, kernel_size=2, activation='relu'),\n",
        "    MaxPooling1D(pool_size=2),\n",
        "    BatchNormalization(),\n",
        "    Dropout(0.02),\n",
        "    Conv1D(150, kernel_size=3, activation='relu'),\n",
        "    MaxPooling1D(pool_size=3),\n",
        "    BatchNormalization(),\n",
        "    Dropout(0.02),\n",
        "    Conv1D(200, kernel_size=4, activation='relu'),\n",
        "    MaxPooling1D(pool_size=4),\n",
        "    BatchNormalization(),\n",
        "    Flatten(),\n",
        "    Dense(256, activation='relu'),\n",
        "    Dropout(0.5),\n",
        "    Dense(len(class_labels), activation='softmax')\n",
        "])\n",
        "\n",
        "# Compile the model\n",
        "model.compile(optimizer=tf.keras.optimizers.Adam(learning_rate=0.01), loss='categorical_crossentropy', metrics=['accuracy'])\n",
        "\n",
        "# Define early stopping callback\n",
        "early_stopping = EarlyStopping(monitor='val_loss', patience=10, restore_best_weights=True)\n",
        "\n",
        "# Train the model\n",
        "model.fit(X_train_resampled, y_train_resampled, epochs=50, batch_size=32, validation_split=0.2, callbacks=[early_stopping], class_weight=class_weights)\n",
        "\n",
        "print(\"Model training completed.\")\n"
      ],
      "metadata": {
        "colab": {
          "base_uri": "https://localhost:8080/"
        },
        "id": "rOCRwQ2cBhb2",
        "outputId": "c7a7b5c9-cb69-4d9e-b9ff-36aa24f03885"
      },
      "execution_count": 52,
      "outputs": [
        {
          "output_type": "stream",
          "name": "stdout",
          "text": [
            "Epoch 1/50\n"
          ]
        },
        {
          "output_type": "stream",
          "name": "stderr",
          "text": [
            "/usr/local/lib/python3.11/dist-packages/keras/src/layers/core/embedding.py:90: UserWarning: Argument `input_length` is deprecated. Just remove it.\n",
            "  warnings.warn(\n"
          ]
        },
        {
          "output_type": "stream",
          "name": "stdout",
          "text": [
            "\u001b[1m269/269\u001b[0m \u001b[32m━━━━━━━━━━━━━━━━━━━━\u001b[0m\u001b[37m\u001b[0m \u001b[1m14s\u001b[0m 24ms/step - accuracy: 0.4792 - loss: 1.4073 - val_accuracy: 0.0000e+00 - val_loss: 11.0524\n",
            "Epoch 2/50\n",
            "\u001b[1m269/269\u001b[0m \u001b[32m━━━━━━━━━━━━━━━━━━━━\u001b[0m\u001b[37m\u001b[0m \u001b[1m1s\u001b[0m 5ms/step - accuracy: 0.5977 - loss: 0.9767 - val_accuracy: 0.0000e+00 - val_loss: 10.3521\n",
            "Epoch 3/50\n",
            "\u001b[1m269/269\u001b[0m \u001b[32m━━━━━━━━━━━━━━━━━━━━\u001b[0m\u001b[37m\u001b[0m \u001b[1m3s\u001b[0m 6ms/step - accuracy: 0.6726 - loss: 0.8260 - val_accuracy: 0.0000e+00 - val_loss: 1.3854\n",
            "Epoch 4/50\n",
            "\u001b[1m269/269\u001b[0m \u001b[32m━━━━━━━━━━━━━━━━━━━━\u001b[0m\u001b[37m\u001b[0m \u001b[1m3s\u001b[0m 7ms/step - accuracy: 0.7090 - loss: 0.7579 - val_accuracy: 0.0000e+00 - val_loss: 10.4942\n",
            "Epoch 5/50\n",
            "\u001b[1m269/269\u001b[0m \u001b[32m━━━━━━━━━━━━━━━━━━━━\u001b[0m\u001b[37m\u001b[0m \u001b[1m2s\u001b[0m 6ms/step - accuracy: 0.7375 - loss: 0.6602 - val_accuracy: 0.0000e+00 - val_loss: 2.6378\n",
            "Epoch 6/50\n",
            "\u001b[1m269/269\u001b[0m \u001b[32m━━━━━━━━━━━━━━━━━━━━\u001b[0m\u001b[37m\u001b[0m \u001b[1m3s\u001b[0m 8ms/step - accuracy: 0.7464 - loss: 0.6351 - val_accuracy: 0.0000e+00 - val_loss: 3.1349\n",
            "Epoch 7/50\n",
            "\u001b[1m269/269\u001b[0m \u001b[32m━━━━━━━━━━━━━━━━━━━━\u001b[0m\u001b[37m\u001b[0m \u001b[1m3s\u001b[0m 10ms/step - accuracy: 0.7525 - loss: 0.6135 - val_accuracy: 1.0000 - val_loss: 0.0000e+00\n",
            "Epoch 8/50\n",
            "\u001b[1m269/269\u001b[0m \u001b[32m━━━━━━━━━━━━━━━━━━━━\u001b[0m\u001b[37m\u001b[0m \u001b[1m4s\u001b[0m 5ms/step - accuracy: 0.7546 - loss: 0.6325 - val_accuracy: 0.0186 - val_loss: 3.0098\n",
            "Epoch 9/50\n",
            "\u001b[1m269/269\u001b[0m \u001b[32m━━━━━━━━━━━━━━━━━━━━\u001b[0m\u001b[37m\u001b[0m \u001b[1m1s\u001b[0m 5ms/step - accuracy: 0.7569 - loss: 0.6123 - val_accuracy: 0.5932 - val_loss: 0.7129\n",
            "Epoch 10/50\n",
            "\u001b[1m269/269\u001b[0m \u001b[32m━━━━━━━━━━━━━━━━━━━━\u001b[0m\u001b[37m\u001b[0m \u001b[1m3s\u001b[0m 5ms/step - accuracy: 0.7660 - loss: 0.5912 - val_accuracy: 0.0000e+00 - val_loss: 2.3300\n",
            "Epoch 11/50\n",
            "\u001b[1m269/269\u001b[0m \u001b[32m━━━━━━━━━━━━━━━━━━━━\u001b[0m\u001b[37m\u001b[0m \u001b[1m1s\u001b[0m 5ms/step - accuracy: 0.7665 - loss: 0.6222 - val_accuracy: 0.0000e+00 - val_loss: 19.4080\n",
            "Epoch 12/50\n",
            "\u001b[1m269/269\u001b[0m \u001b[32m━━━━━━━━━━━━━━━━━━━━\u001b[0m\u001b[37m\u001b[0m \u001b[1m1s\u001b[0m 5ms/step - accuracy: 0.7755 - loss: 0.5640 - val_accuracy: 0.0000e+00 - val_loss: 2.7986\n",
            "Epoch 13/50\n",
            "\u001b[1m269/269\u001b[0m \u001b[32m━━━━━━━━━━━━━━━━━━━━\u001b[0m\u001b[37m\u001b[0m \u001b[1m2s\u001b[0m 6ms/step - accuracy: 0.7776 - loss: 0.5501 - val_accuracy: 0.0000e+00 - val_loss: 2.8431\n",
            "Epoch 14/50\n",
            "\u001b[1m269/269\u001b[0m \u001b[32m━━━━━━━━━━━━━━━━━━━━\u001b[0m\u001b[37m\u001b[0m \u001b[1m2s\u001b[0m 5ms/step - accuracy: 0.7738 - loss: 0.5654 - val_accuracy: 0.0000e+00 - val_loss: 2.0103\n",
            "Epoch 15/50\n",
            "\u001b[1m269/269\u001b[0m \u001b[32m━━━━━━━━━━━━━━━━━━━━\u001b[0m\u001b[37m\u001b[0m \u001b[1m2s\u001b[0m 5ms/step - accuracy: 0.7753 - loss: 0.5806 - val_accuracy: 0.2757 - val_loss: 1.7157\n",
            "Epoch 16/50\n",
            "\u001b[1m269/269\u001b[0m \u001b[32m━━━━━━━━━━━━━━━━━━━━\u001b[0m\u001b[37m\u001b[0m \u001b[1m3s\u001b[0m 5ms/step - accuracy: 0.7844 - loss: 0.5388 - val_accuracy: 0.0000e+00 - val_loss: 17.7882\n",
            "Epoch 17/50\n",
            "\u001b[1m269/269\u001b[0m \u001b[32m━━━━━━━━━━━━━━━━━━━━\u001b[0m\u001b[37m\u001b[0m \u001b[1m3s\u001b[0m 5ms/step - accuracy: 0.7864 - loss: 0.5161 - val_accuracy: 0.0056 - val_loss: 2.2220\n",
            "Model training completed.\n"
          ]
        }
      ]
    },
    {
      "cell_type": "code",
      "source": [
        "# Evaluate model\n",
        "y_pred = model.predict(X_test)\n",
        "y_pred_classes = np.argmax(y_pred, axis=1)\n",
        "y_true_classes = np.argmax(y_test, axis=1)\n",
        "\n",
        "# Classification report\n",
        "print(\"Classification Report:\")\n",
        "print(classification_report(y_true_classes, y_pred_classes, labels=range(len(class_labels)), target_names=class_labels))\n",
        "\n",
        "# Confusion matrix\n",
        "conf_matrix = confusion_matrix(y_true_classes, y_pred_classes, labels=range(len(class_labels)))\n",
        "sns.heatmap(conf_matrix, annot=True, fmt='d', cmap='Blues', xticklabels=class_labels, yticklabels=class_labels)\n",
        "plt.xlabel('Predicted')\n",
        "plt.ylabel('True')\n",
        "plt.title('Confusion Matrix')\n",
        "plt.show()\n",
        "\n",
        "print(\"Model evaluation completed.\")\n"
      ],
      "metadata": {
        "colab": {
          "base_uri": "https://localhost:8080/",
          "height": 1000
        },
        "id": "XKiNgEwsBjHA",
        "outputId": "a03f65e6-f18e-4e1d-c53b-de8b9163605f"
      },
      "execution_count": 53,
      "outputs": [
        {
          "output_type": "stream",
          "name": "stdout",
          "text": [
            "\u001b[1m26/26\u001b[0m \u001b[32m━━━━━━━━━━━━━━━━━━━━\u001b[0m\u001b[37m\u001b[0m \u001b[1m1s\u001b[0m 35ms/step\n",
            "Classification Report:\n",
            "                                         precision    recall  f1-score   support\n",
            "\n",
            "                   affected individuals       0.00      0.00      0.00        15\n",
            "      infrastructure and utility damage       0.00      0.00      0.00        36\n",
            "             other relevant information       0.00      0.00      0.00       676\n",
            "rescue, volunteering or donation effort       0.10      1.00      0.17        77\n",
            "\n",
            "                               accuracy                           0.10       804\n",
            "                              macro avg       0.02      0.25      0.04       804\n",
            "                           weighted avg       0.01      0.10      0.02       804\n",
            "\n"
          ]
        },
        {
          "output_type": "stream",
          "name": "stderr",
          "text": [
            "/usr/local/lib/python3.11/dist-packages/sklearn/metrics/_classification.py:1565: UndefinedMetricWarning: Precision is ill-defined and being set to 0.0 in labels with no predicted samples. Use `zero_division` parameter to control this behavior.\n",
            "  _warn_prf(average, modifier, f\"{metric.capitalize()} is\", len(result))\n",
            "/usr/local/lib/python3.11/dist-packages/sklearn/metrics/_classification.py:1565: UndefinedMetricWarning: Precision is ill-defined and being set to 0.0 in labels with no predicted samples. Use `zero_division` parameter to control this behavior.\n",
            "  _warn_prf(average, modifier, f\"{metric.capitalize()} is\", len(result))\n",
            "/usr/local/lib/python3.11/dist-packages/sklearn/metrics/_classification.py:1565: UndefinedMetricWarning: Precision is ill-defined and being set to 0.0 in labels with no predicted samples. Use `zero_division` parameter to control this behavior.\n",
            "  _warn_prf(average, modifier, f\"{metric.capitalize()} is\", len(result))\n"
          ]
        },
        {
          "output_type": "display_data",
          "data": {
            "text/plain": [
              "<Figure size 640x480 with 2 Axes>"
            ],
            "image/png": "[encoded data removed]"
          },
          "metadata": {}
        },
        {
          "output_type": "stream",
          "name": "stdout",
          "text": [
            "Model evaluation completed.\n"
          ]
        }
      ]
    }
  ]
}