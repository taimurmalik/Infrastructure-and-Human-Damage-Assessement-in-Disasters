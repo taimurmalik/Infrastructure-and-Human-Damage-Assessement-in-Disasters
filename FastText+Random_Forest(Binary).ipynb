{
  "nbformat": 4,
  "nbformat_minor": 0,
  "metadata": {
    "colab": {
      "provenance": []
    },
    "kernelspec": {
      "name": "python3",
      "display_name": "Python 3"
    },
    "language_info": {
      "name": "python"
    }
  },
  "cells": [
    {
      "cell_type": "code",
      "execution_count": null,
      "metadata": {
        "colab": {
          "base_uri": "https://localhost:8080/"
        },
        "id": "Y3iu7_MEj6b8",
        "outputId": "24570982-3c8f-416d-9da3-2f12110dcd7e"
      },
      "outputs": [
        {
          "output_type": "stream",
          "name": "stdout",
          "text": [
            "\n",
            "Data Split Summary:\n",
            " Binary_class      Non-Damage  Damage\n",
            "Train (70%)            10853    1804\n",
            "Validation (15%)        2326     386\n",
            "Test (15%)              2326     387\n",
            "Total                  15505    2577\n",
            "\n",
            "Data split completed and saved as CSV files.\n"
          ]
        }
      ],
      "source": [
        "import pandas as pd\n",
        "from sklearn.model_selection import train_test_split\n",
        "\n",
        "# Load dataset\n",
        "file_path = \"/content/Merged_Disasters(2).csv\"  # Update the path if needed\n",
        "df = pd.read_csv(file_path)\n",
        "\n",
        "# Perform stratified splitting (70% Train, 15% Validation, 15% Test)\n",
        "train_df, temp_df = train_test_split(df, test_size=0.30, stratify=df[\"Binary_class\"], random_state=42)\n",
        "val_df, test_df = train_test_split(temp_df, test_size=0.50, stratify=temp_df[\"Binary_class\"], random_state=42)\n",
        "\n",
        "# Save the split datasets\n",
        "train_df.to_csv(\"train_data.csv\", index=False)\n",
        "val_df.to_csv(\"val_data.csv\", index=False)\n",
        "test_df.to_csv(\"test_data.csv\", index=False)\n",
        "\n",
        "# Create a structured summary table\n",
        "split_summary = pd.DataFrame({\n",
        "    \"Train (70%)\": train_df[\"Binary_class\"].value_counts(),\n",
        "    \"Validation (15%)\": val_df[\"Binary_class\"].value_counts(),\n",
        "    \"Test (15%)\": test_df[\"Binary_class\"].value_counts(),\n",
        "    \"Total\": df[\"Binary_class\"].value_counts()\n",
        "}).T\n",
        "\n",
        "# Save the summary table\n",
        "split_summary.to_csv(\"split_summary.csv\")\n",
        "\n",
        "# Display summary\n",
        "print(\"\\nData Split Summary:\\n\", split_summary)\n",
        "print(\"\\nData split completed and saved as CSV files.\")"
      ]
    },
    {
      "cell_type": "code",
      "source": [
        "# ========== Imports ==========\n",
        "import pandas as pd\n",
        "import numpy as np\n",
        "import seaborn as sns\n",
        "import matplotlib.pyplot as plt\n",
        "from sklearn.ensemble import RandomForestClassifier\n",
        "from sklearn.metrics import accuracy_score, classification_report, roc_auc_score, confusion_matrix\n",
        "from imblearn.over_sampling import SMOTE\n",
        "import gensim.downloader as api\n",
        "from tqdm import tqdm\n",
        "\n",
        "# ========== Load FastText Model ==========\n",
        "print(\"Loading FastText model...\")\n",
        "fasttext_model = api.load(\"fasttext-wiki-news-subwords-300\")\n",
        "embedding_dim = 300\n",
        "\n",
        "# ========== Load Data ==========\n",
        "train_path = \"/content/train_data.csv\"\n",
        "val_path = \"/content/val_data.csv\"\n",
        "test_path = \"/content/test_data.csv\"\n",
        "\n",
        "train_df = pd.read_csv(train_path)\n",
        "val_df = pd.read_csv(val_path)\n",
        "test_df = pd.read_csv(test_path)\n",
        "\n",
        "# ========== Clean and Map Labels ==========\n",
        "label_map = {'damage': 1, 'non-damage': 0}\n",
        "for df in [train_df, val_df, test_df]:\n",
        "    df['Binary_class'] = df['Binary_class'].str.strip().str.lower().map(label_map)\n",
        "    df['Processed_data'] = df['Processed_data'].fillna(\"\")\n",
        "\n",
        "# ========== Function to Create Document Embeddings ==========\n",
        "def get_avg_embedding(text, model, dim):\n",
        "    words = text.split()\n",
        "    embeddings = [model[word] for word in words if word in model]\n",
        "    if embeddings:\n",
        "        return np.mean(embeddings, axis=0)\n",
        "    else:\n",
        "        return np.zeros(dim)\n",
        "\n",
        "# ========== Generate Embeddings ==========\n",
        "print(\"Generating document embeddings...\")\n",
        "X_train = np.vstack([get_avg_embedding(text, fasttext_model, embedding_dim) for text in tqdm(train_df['Processed_data'])])\n",
        "X_val = np.vstack([get_avg_embedding(text, fasttext_model, embedding_dim) for text in tqdm(val_df['Processed_data'])])\n",
        "X_test = np.vstack([get_avg_embedding(text, fasttext_model, embedding_dim) for text in tqdm(test_df['Processed_data'])])\n",
        "\n",
        "y_train = train_df['Binary_class'].values\n",
        "y_val = val_df['Binary_class'].values\n",
        "y_test = test_df['Binary_class'].values\n",
        "\n",
        "# ========== Show Class Distributions ==========\n",
        "print(\"Original Train class distribution:\\n\", pd.Series(y_train).value_counts())\n",
        "print(\"Original Validation class distribution:\\n\", pd.Series(y_val).value_counts())\n",
        "print(\"Original Test class distribution:\\n\", pd.Series(y_test).value_counts())\n",
        "\n",
        "# ========== Apply SMOTE ==========\n",
        "smote = SMOTE(sampling_strategy=1, k_neighbors=3, random_state=42)\n",
        "X_train_smote, y_train_smote = smote.fit_resample(X_train, y_train)\n",
        "\n",
        "print(\"After SMOTE Train class distribution:\\n\", pd.Series(y_train_smote).value_counts())\n",
        "\n",
        "# ========== Train Random Forest with Regularized Params ==========\n",
        "rf_model = RandomForestClassifier(\n",
        "    n_estimators=100,\n",
        "    max_depth=10,\n",
        "    min_samples_split=20,\n",
        "    min_samples_leaf=10,\n",
        "    class_weight='balanced',\n",
        "    random_state=42\n",
        ")\n",
        "rf_model.fit(X_train_smote, y_train_smote)\n",
        "\n",
        "# ========== Evaluate on Train Set ==========\n",
        "y_train_pred = rf_model.predict(X_train_smote)\n",
        "y_train_proba = rf_model.predict_proba(X_train_smote)[:, 1]\n",
        "\n",
        "print(\"Train Classification Report:\")\n",
        "print(classification_report(y_train_smote, y_train_pred))\n",
        "print(f'Train Accuracy: {accuracy_score(y_train_smote, y_train_pred):.4f}')\n",
        "print(f'Train ROC-AUC: {roc_auc_score(y_train_smote, y_train_proba):.4f}')\n",
        "\n",
        "# ========== Confusion Matrix - Train ==========\n",
        "cm_train = confusion_matrix(y_train_smote, y_train_pred)\n",
        "plt.figure(figsize=(6, 4))\n",
        "sns.heatmap(cm_train, annot=True, fmt=\"d\", cmap=\"Blues\", xticklabels=['Non-Damage', 'Damage'], yticklabels=['Non-Damage', 'Damage'])\n",
        "plt.xlabel(\"Predicted Label\")\n",
        "plt.ylabel(\"True Label\")\n",
        "plt.title(\"Confusion Matrix - Train Set\")\n",
        "plt.show()\n"
      ],
      "metadata": {
        "colab": {
          "base_uri": "https://localhost:8080/",
          "height": 983
        },
        "id": "vwG-bhPNkeCt",
        "outputId": "e7a29e63-4121-4c3a-d4ba-6d983f99e15c"
      },
      "execution_count": null,
      "outputs": [
        {
          "output_type": "stream",
          "name": "stdout",
          "text": [
            "Loading FastText model...\n",
            "Generating document embeddings...\n"
          ]
        },
        {
          "output_type": "stream",
          "name": "stderr",
          "text": [
            "100%|██████████| 12657/12657 [00:00<00:00, 19181.65it/s]\n",
            "100%|██████████| 2712/2712 [00:00<00:00, 24074.79it/s]\n",
            "100%|██████████| 2713/2713 [00:00<00:00, 22255.15it/s]\n"
          ]
        },
        {
          "output_type": "stream",
          "name": "stdout",
          "text": [
            "Original Train class distribution:\n",
            " 0    10853\n",
            "1     1804\n",
            "Name: count, dtype: int64\n",
            "Original Validation class distribution:\n",
            " 0    2326\n",
            "1     386\n",
            "Name: count, dtype: int64\n",
            "Original Test class distribution:\n",
            " 0    2326\n",
            "1     387\n",
            "Name: count, dtype: int64\n",
            "After SMOTE Train class distribution:\n",
            " 1    10853\n",
            "0    10853\n",
            "Name: count, dtype: int64\n",
            "Train Classification Report:\n",
            "              precision    recall  f1-score   support\n",
            "\n",
            "           0       0.98      0.93      0.96     10853\n",
            "           1       0.94      0.98      0.96     10853\n",
            "\n",
            "    accuracy                           0.96     21706\n",
            "   macro avg       0.96      0.96      0.96     21706\n",
            "weighted avg       0.96      0.96      0.96     21706\n",
            "\n",
            "Train Accuracy: 0.9565\n",
            "Train ROC-AUC: 0.9919\n"
          ]
        },
        {
          "output_type": "display_data",
          "data": {
            "text/plain": [
              "<Figure size 600x400 with 2 Axes>"
            ],
            "image/png": "[encoded data removed]"
          },
          "metadata": {}
        }
      ]
    }
  ]
}