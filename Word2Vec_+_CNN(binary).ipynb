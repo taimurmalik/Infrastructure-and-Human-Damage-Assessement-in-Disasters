{
  "nbformat": 4,
  "nbformat_minor": 0,
  "metadata": {
    "colab": {
      "provenance": []
    },
    "kernelspec": {
      "name": "python3",
      "display_name": "Python 3"
    },
    "language_info": {
      "name": "python"
    }
  },
  "cells": [
    {
      "cell_type": "code",
      "execution_count": 1,
      "metadata": {
        "colab": {
          "base_uri": "https://localhost:8080/"
        },
        "id": "41uR6jEZ8Cax",
        "outputId": "102eb8a2-f352-45f7-f662-63aaead2a584"
      },
      "outputs": [
        {
          "output_type": "stream",
          "name": "stdout",
          "text": [
            "Dataset Sample:\n",
            "                                          tweet_text  \\\n",
            "0  RT @MSN: Island of Barbuda 'literally under wa...   \n",
            "1  RT @Reuters: Hurricane Irma threatens luxury T...   \n",
            "2  RT @TheAnonJournal: BREAKING NEWS: Hurricane I...   \n",
            "3  JUST IN: 11PM #Hurricane #Irma update. @ABC7Ne...   \n",
            "4  RT @cnnbrk: Hurricane Irma destroys \"upwards o...   \n",
            "\n",
            "                                          Multiclass  Binary_Class  \\\n",
            "0  infrastructure_and_utility_damage | Infrastruc...             1   \n",
            "1            other_relevant_information | Non-Damage             0   \n",
            "2            other_relevant_information | Non-Damage             0   \n",
            "3            other_relevant_information | Non-Damage             0   \n",
            "4  infrastructure_and_utility_damage | Infrastruc...             1   \n",
            "\n",
            "           Humanitarian_Class  \\\n",
            "0  other relevant information   \n",
            "1  other relevant information   \n",
            "2  other relevant information   \n",
            "3  other relevant information   \n",
            "4  other relevant information   \n",
            "\n",
            "                                      processed_data  \n",
            "0      island barbara literally water hurricane irma  \n",
            "1   hurricane irma threatens luxury trump properties  \n",
            "2  breaking news hurricane irma big enough cover ...  \n",
            "3                                          pm update  \n",
            "4  hurricane irma destroys upwards barbara offici...  \n",
            "\n",
            "Class distribution:\n",
            "Binary_Class\n",
            "0    3493\n",
            "1     523\n",
            "Name: count, dtype: int64\n"
          ]
        }
      ],
      "source": [
        "import os\n",
        "import numpy as np\n",
        "import pandas as pd\n",
        "\n",
        "# Define the path to the dataset file (Ensure it's uploaded to Colab)\n",
        "file_path = '/content/Hurricane_irma final file.csv'\n",
        "if not os.path.exists(file_path):\n",
        "    raise FileNotFoundError(f\"File not found: {file_path}\")\n",
        "\n",
        "# Load dataset into a pandas DataFrame\n",
        "data = pd.read_csv(file_path)\n",
        "\n",
        "# Check if required columns exist\n",
        "if 'processed_data' not in data.columns or 'Binary_Class' not in data.columns:\n",
        "    raise KeyError(\"The dataset must contain 'processed_data' and 'Binary_Class' columns.\")\n",
        "\n",
        "# Fill any missing values in the processed text column with empty strings\n",
        "data['processed_data'] = data['processed_data'].fillna('').astype(str)\n",
        "\n",
        "# Convert class labels from 'Non-Damage' and 'Damage' to 0 and 1 respectively\n",
        "data['Binary_Class'] = data['Binary_Class'].map({'Non-Damage': 0, 'Damage': 1})\n",
        "\n",
        "# Display the first few rows of the dataset\n",
        "print(\"Dataset Sample:\")\n",
        "print(data.head())\n",
        "\n",
        "# Show class distribution (helps understand data balance)\n",
        "print(\"\\nClass distribution:\")\n",
        "print(data['Binary_Class'].value_counts())\n"
      ]
    },
    {
      "cell_type": "code",
      "source": [
        "from sklearn.model_selection import train_test_split\n",
        "\n",
        "# Tokenize text by splitting into words (creates a list of words for each sentence)\n",
        "sentences = [sentence.split() for sentence in data['processed_data']]\n",
        "labels = data['Binary_Class'].values\n",
        "\n",
        "# Split data: 80% training, 20% testing\n",
        "X_train, X_test, y_train, y_test = train_test_split(sentences, labels, test_size=0.2, random_state=42)\n",
        "\n",
        "# Print number of training and testing samples\n",
        "print(f\"Training samples: {len(X_train)}, Testing samples: {len(X_test)}\")\n",
        "\n",
        "# Display an example of a tokenized sentence\n",
        "print(\"Example tokenized sentence:\", X_train[0])\n"
      ],
      "metadata": {
        "colab": {
          "base_uri": "https://localhost:8080/"
        },
        "id": "zrQoD7Kb-t7E",
        "outputId": "63b108d9-5823-4653-cf68-17a4ad578a4b"
      },
      "execution_count": 2,
      "outputs": [
        {
          "output_type": "stream",
          "name": "stdout",
          "text": [
            "Training samples: 3212, Testing samples: 804\n",
            "Example tokenized sentence: ['hurricane', 'irma', 'gone', 'gt']\n"
          ]
        }
      ]
    },
    {
      "cell_type": "code",
      "source": [
        "from gensim.models import Word2Vec\n",
        "import numpy as np\n",
        "\n",
        "# Train a Word2Vec model on tokenized sentences\n",
        "word2vec_model = Word2Vec(sentences, vector_size=300, window=5, min_count=1, sg=0)\n",
        "\n",
        "# Get vocabulary size and embedding dimension\n",
        "vocab_size = len(word2vec_model.wv.index_to_key)\n",
        "embedding_dim = word2vec_model.vector_size\n",
        "\n",
        "# Initialize an embedding matrix with zeros\n",
        "embedding_matrix = np.zeros((vocab_size + 1, embedding_dim))\n",
        "\n",
        "# Create a dictionary mapping words to their index in the embedding matrix\n",
        "word_index = {word: idx + 1 for idx, word in enumerate(word2vec_model.wv.index_to_key)}\n",
        "\n",
        "# Populate the embedding matrix with word vectors from Word2Vec\n",
        "for word, idx in word_index.items():\n",
        "    embedding_matrix[idx] = word2vec_model.wv[word]\n",
        "\n",
        "# Print Word2Vec model details\n",
        "print(\"Word2Vec model trained.\")\n",
        "print(f\"Vocabulary Size: {vocab_size}\")\n"
      ],
      "metadata": {
        "colab": {
          "base_uri": "https://localhost:8080/"
        },
        "id": "4rJ-92L8-zNY",
        "outputId": "e65a0edb-6946-4f2e-8423-51ff9f250a35"
      },
      "execution_count": 3,
      "outputs": [
        {
          "output_type": "stream",
          "name": "stdout",
          "text": [
            "Word2Vec model trained.\n",
            "Vocabulary Size: 6553\n"
          ]
        }
      ]
    },
    {
      "cell_type": "code",
      "source": [
        "import tensorflow as tf\n",
        "\n",
        "# Convert sentences into sequences of word indices\n",
        "X_train = [[word_index.get(word, 0) for word in sentence] for sentence in X_train]\n",
        "X_test = [[word_index.get(word, 0) for word in sentence] for sentence in X_test]\n",
        "\n",
        "# Pad sequences to a fixed length (ensures uniform input size)\n",
        "X_train = tf.keras.preprocessing.sequence.pad_sequences(X_train, maxlen=100)\n",
        "X_test = tf.keras.preprocessing.sequence.pad_sequences(X_test, maxlen=100)\n",
        "\n",
        "# Print padded sequence example\n",
        "print(\"Sequences converted and padded.\")\n",
        "print(f\"Example sequence (first 10 values): {X_train[0][:10]}\")\n"
      ],
      "metadata": {
        "colab": {
          "base_uri": "https://localhost:8080/"
        },
        "id": "s-frLcW0-2KU",
        "outputId": "8f3aabd3-29d7-4c34-b696-194c184e9581"
      },
      "execution_count": 4,
      "outputs": [
        {
          "output_type": "stream",
          "name": "stdout",
          "text": [
            "Sequences converted and padded.\n",
            "Example sequence (first 10 values): [0 0 0 0 0 0 0 0 0 0]\n"
          ]
        }
      ]
    },
    {
      "cell_type": "code",
      "source": [
        "from sklearn.utils.class_weight import compute_class_weight\n",
        "\n",
        "# Compute class weights (useful when classes are imbalanced)\n",
        "class_weights = compute_class_weight(class_weight='balanced', classes=np.unique(y_train), y=y_train)\n",
        "\n",
        "# Convert class weights into a dictionary for Keras\n",
        "class_weights_dict = {i: class_weights[i] for i in range(len(class_weights))}\n",
        "\n",
        "# Print computed class weights\n",
        "print(\"Class Weights:\", class_weights_dict)\n"
      ],
      "metadata": {
        "colab": {
          "base_uri": "https://localhost:8080/"
        },
        "id": "3encNnwP-8QK",
        "outputId": "44f90d3c-a6aa-4e37-ec1b-efbab369f713"
      },
      "execution_count": 5,
      "outputs": [
        {
          "output_type": "stream",
          "name": "stdout",
          "text": [
            "Class Weights: {0: 0.5741866285305685, 1: 3.869879518072289}\n"
          ]
        }
      ]
    },
    {
      "cell_type": "code",
      "source": [
        "from tensorflow.keras.models import Sequential\n",
        "from tensorflow.keras.layers import Embedding, Conv1D, MaxPooling1D, Flatten, Dense, Dropout, BatchNormalization\n",
        "from tensorflow.keras.callbacks import EarlyStopping\n",
        "\n",
        "# Define CNN model architecture\n",
        "model = Sequential([\n",
        "    # Embedding layer with pre-trained Word2Vec weights\n",
        "    Embedding(input_dim=vocab_size + 1, output_dim=embedding_dim, weights=[embedding_matrix], input_length=X_train.shape[1], trainable=False),\n",
        "\n",
        "    # First convolutional layer\n",
        "    Conv1D(100, kernel_size=2, activation='relu'),\n",
        "    MaxPooling1D(pool_size=2),\n",
        "    BatchNormalization(),\n",
        "    Dropout(0.02),\n",
        "\n",
        "    # Second convolutional layer\n",
        "    Conv1D(150, kernel_size=3, activation='relu'),\n",
        "    MaxPooling1D(pool_size=3),\n",
        "    BatchNormalization(),\n",
        "    Dropout(0.02),\n",
        "\n",
        "    # Third convolutional layer\n",
        "    Conv1D(200, kernel_size=4, activation='relu'),\n",
        "    MaxPooling1D(pool_size=4),\n",
        "    BatchNormalization(),\n",
        "\n",
        "    # Flatten layer\n",
        "    Flatten(),\n",
        "\n",
        "    # Fully connected (Dense) layer\n",
        "    Dense(256, activation='relu'),\n",
        "    Dropout(0.5),\n",
        "\n",
        "    # Output layer with a single neuron (binary classification)\n",
        "    Dense(1, activation='sigmoid')\n",
        "])\n",
        "\n",
        "# Compile model with Adam optimizer and binary cross-entropy loss\n",
        "model.compile(optimizer=tf.keras.optimizers.Adam(learning_rate=0.01), loss='binary_crossentropy', metrics=['accuracy'])\n",
        "\n",
        "# Early stopping to prevent overfitting\n",
        "early_stopping = EarlyStopping(monitor='val_loss', patience=10, restore_best_weights=True)\n",
        "\n",
        "# Train the CNN model\n",
        "history = model.fit(X_train, y_train, epochs=50, batch_size=64, validation_split=0.2, class_weight=class_weights_dict, callbacks=[early_stopping])\n",
        "\n",
        "# Print training completion message\n",
        "print(\"Model training complete.\")\n"
      ],
      "metadata": {
        "colab": {
          "base_uri": "https://localhost:8080/"
        },
        "id": "sqUdZSNA-_dj",
        "outputId": "8c011cdf-55d2-4568-f9f7-849c9a14aeb0"
      },
      "execution_count": 6,
      "outputs": [
        {
          "output_type": "stream",
          "name": "stderr",
          "text": [
            "/usr/local/lib/python3.11/dist-packages/keras/src/layers/core/embedding.py:90: UserWarning: Argument `input_length` is deprecated. Just remove it.\n",
            "  warnings.warn(\n"
          ]
        },
        {
          "output_type": "stream",
          "name": "stdout",
          "text": [
            "Epoch 1/50\n",
            "\u001b[1m41/41\u001b[0m \u001b[32m━━━━━━━━━━━━━━━━━━━━\u001b[0m\u001b[37m\u001b[0m \u001b[1m14s\u001b[0m 174ms/step - accuracy: 0.5174 - loss: 1.4564 - val_accuracy: 0.3406 - val_loss: 0.7165\n",
            "Epoch 2/50\n",
            "\u001b[1m41/41\u001b[0m \u001b[32m━━━━━━━━━━━━━━━━━━━━\u001b[0m\u001b[37m\u001b[0m \u001b[1m7s\u001b[0m 111ms/step - accuracy: 0.5411 - loss: 0.7188 - val_accuracy: 0.6128 - val_loss: 0.6670\n",
            "Epoch 3/50\n",
            "\u001b[1m41/41\u001b[0m \u001b[32m━━━━━━━━━━━━━━━━━━━━\u001b[0m\u001b[37m\u001b[0m \u001b[1m6s\u001b[0m 141ms/step - accuracy: 0.4326 - loss: 0.7398 - val_accuracy: 0.6470 - val_loss: 0.6217\n",
            "Epoch 4/50\n",
            "\u001b[1m41/41\u001b[0m \u001b[32m━━━━━━━━━━━━━━━━━━━━\u001b[0m\u001b[37m\u001b[0m \u001b[1m9s\u001b[0m 103ms/step - accuracy: 0.4805 - loss: 0.7191 - val_accuracy: 0.3981 - val_loss: 0.7816\n",
            "Epoch 5/50\n",
            "\u001b[1m41/41\u001b[0m \u001b[32m━━━━━━━━━━━━━━━━━━━━\u001b[0m\u001b[37m\u001b[0m \u001b[1m6s\u001b[0m 130ms/step - accuracy: 0.2902 - loss: 0.7074 - val_accuracy: 0.5474 - val_loss: 0.6827\n",
            "Epoch 6/50\n",
            "\u001b[1m41/41\u001b[0m \u001b[32m━━━━━━━━━━━━━━━━━━━━\u001b[0m\u001b[37m\u001b[0m \u001b[1m11s\u001b[0m 143ms/step - accuracy: 0.3240 - loss: 0.7016 - val_accuracy: 0.6003 - val_loss: 0.6347\n",
            "Epoch 7/50\n",
            "\u001b[1m41/41\u001b[0m \u001b[32m━━━━━━━━━━━━━━━━━━━━\u001b[0m\u001b[37m\u001b[0m \u001b[1m5s\u001b[0m 120ms/step - accuracy: 0.3918 - loss: 0.6740 - val_accuracy: 0.6159 - val_loss: 0.6350\n",
            "Epoch 8/50\n",
            "\u001b[1m41/41\u001b[0m \u001b[32m━━━━━━━━━━━━━━━━━━━━\u001b[0m\u001b[37m\u001b[0m \u001b[1m5s\u001b[0m 116ms/step - accuracy: 0.3536 - loss: 0.6859 - val_accuracy: 0.1353 - val_loss: 1.2640\n",
            "Epoch 9/50\n",
            "\u001b[1m41/41\u001b[0m \u001b[32m━━━━━━━━━━━━━━━━━━━━\u001b[0m\u001b[37m\u001b[0m \u001b[1m5s\u001b[0m 123ms/step - accuracy: 0.2613 - loss: 0.6706 - val_accuracy: 0.1353 - val_loss: 2.1549\n",
            "Epoch 10/50\n",
            "\u001b[1m41/41\u001b[0m \u001b[32m━━━━━━━━━━━━━━━━━━━━\u001b[0m\u001b[37m\u001b[0m \u001b[1m4s\u001b[0m 105ms/step - accuracy: 0.2874 - loss: 0.7076 - val_accuracy: 0.8600 - val_loss: 0.4209\n",
            "Epoch 11/50\n",
            "\u001b[1m41/41\u001b[0m \u001b[32m━━━━━━━━━━━━━━━━━━━━\u001b[0m\u001b[37m\u001b[0m \u001b[1m6s\u001b[0m 135ms/step - accuracy: 0.1734 - loss: 0.7067 - val_accuracy: 0.8647 - val_loss: 0.5923\n",
            "Epoch 12/50\n",
            "\u001b[1m41/41\u001b[0m \u001b[32m━━━━━━━━━━━━━━━━━━━━\u001b[0m\u001b[37m\u001b[0m \u001b[1m9s\u001b[0m 111ms/step - accuracy: 0.3422 - loss: 0.6993 - val_accuracy: 0.1369 - val_loss: 1.0052\n",
            "Epoch 13/50\n",
            "\u001b[1m41/41\u001b[0m \u001b[32m━━━━━━━━━━━━━━━━━━━━\u001b[0m\u001b[37m\u001b[0m \u001b[1m6s\u001b[0m 139ms/step - accuracy: 0.2474 - loss: 0.7067 - val_accuracy: 0.1400 - val_loss: 0.9267\n",
            "Epoch 14/50\n",
            "\u001b[1m41/41\u001b[0m \u001b[32m━━━━━━━━━━━━━━━━━━━━\u001b[0m\u001b[37m\u001b[0m \u001b[1m11s\u001b[0m 148ms/step - accuracy: 0.2601 - loss: 0.6965 - val_accuracy: 0.6050 - val_loss: 0.6456\n",
            "Epoch 15/50\n",
            "\u001b[1m41/41\u001b[0m \u001b[32m━━━━━━━━━━━━━━━━━━━━\u001b[0m\u001b[37m\u001b[0m \u001b[1m5s\u001b[0m 112ms/step - accuracy: 0.2257 - loss: 0.6973 - val_accuracy: 0.1353 - val_loss: 1.1325\n",
            "Epoch 16/50\n",
            "\u001b[1m41/41\u001b[0m \u001b[32m━━━━━━━━━━━━━━━━━━━━\u001b[0m\u001b[37m\u001b[0m \u001b[1m5s\u001b[0m 114ms/step - accuracy: 0.1978 - loss: 0.6846 - val_accuracy: 0.1369 - val_loss: 1.6739\n",
            "Epoch 17/50\n",
            "\u001b[1m41/41\u001b[0m \u001b[32m━━━━━━━━━━━━━━━━━━━━\u001b[0m\u001b[37m\u001b[0m \u001b[1m5s\u001b[0m 122ms/step - accuracy: 0.1975 - loss: 0.6894 - val_accuracy: 0.1384 - val_loss: 0.8209\n",
            "Epoch 18/50\n",
            "\u001b[1m41/41\u001b[0m \u001b[32m━━━━━━━━━━━━━━━━━━━━\u001b[0m\u001b[37m\u001b[0m \u001b[1m4s\u001b[0m 103ms/step - accuracy: 0.3677 - loss: 0.7006 - val_accuracy: 0.1353 - val_loss: 6.6350\n",
            "Epoch 19/50\n",
            "\u001b[1m41/41\u001b[0m \u001b[32m━━━━━━━━━━━━━━━━━━━━\u001b[0m\u001b[37m\u001b[0m \u001b[1m5s\u001b[0m 134ms/step - accuracy: 0.3221 - loss: 0.6945 - val_accuracy: 0.1353 - val_loss: 6.9921\n",
            "Epoch 20/50\n",
            "\u001b[1m41/41\u001b[0m \u001b[32m━━━━━━━━━━━━━━━━━━━━\u001b[0m\u001b[37m\u001b[0m \u001b[1m5s\u001b[0m 111ms/step - accuracy: 0.8355 - loss: 0.6976 - val_accuracy: 0.1353 - val_loss: 5.7200\n",
            "Model training complete.\n"
          ]
        }
      ]
    },
    {
      "cell_type": "code",
      "source": [
        "from sklearn.metrics import accuracy_score, precision_score, recall_score, f1_score, classification_report, confusion_matrix\n",
        "import seaborn as sns\n",
        "import matplotlib.pyplot as plt\n",
        "\n",
        "# Predict labels on test data\n",
        "y_pred = (model.predict(X_test) > 0.5).astype(\"int32\")\n",
        "\n",
        "# Compute evaluation metrics\n",
        "print(\"Accuracy:\", accuracy_score(y_test, y_pred))\n",
        "print(\"Precision:\", precision_score(y_test, y_pred, zero_division=1))\n",
        "print(\"Recall:\", recall_score(y_test, y_pred, zero_division=1))\n",
        "print(\"F1 Score:\", f1_score(y_test, y_pred, zero_division=1))\n",
        "\n",
        "# Print classification report\n",
        "print(\"\\nClassification Report:\")\n",
        "print(classification_report(y_test, y_pred))\n",
        "\n",
        "# Compute confusion matrix\n",
        "conf_matrix = confusion_matrix(y_test, y_pred)\n",
        "\n",
        "# Plot confusion matrix\n",
        "sns.heatmap(conf_matrix, annot=True, fmt='d', cmap='Blues', xticklabels=['Non-Damage', 'Damage'], yticklabels=['Non-Damage', 'Damage'])\n",
        "plt.xlabel('Predicted')\n",
        "plt.ylabel('True')\n",
        "plt.title('Confusion Matrix')\n",
        "plt.show()\n"
      ],
      "metadata": {
        "colab": {
          "base_uri": "https://localhost:8080/",
          "height": 750
        },
        "id": "z8ueITX3_lO7",
        "outputId": "ae68b8c0-b65b-4fe6-8b71-114cecfc6375"
      },
      "execution_count": 7,
      "outputs": [
        {
          "output_type": "stream",
          "name": "stdout",
          "text": [
            "\u001b[1m26/26\u001b[0m \u001b[32m━━━━━━━━━━━━━━━━━━━━\u001b[0m\u001b[37m\u001b[0m \u001b[1m2s\u001b[0m 54ms/step\n",
            "Accuracy: 0.8631840796019901\n",
            "Precision: 0.25\n",
            "Recall: 0.009259259259259259\n",
            "F1 Score: 0.017857142857142856\n",
            "\n",
            "Classification Report:\n",
            "              precision    recall  f1-score   support\n",
            "\n",
            "           0       0.87      1.00      0.93       696\n",
            "           1       0.25      0.01      0.02       108\n",
            "\n",
            "    accuracy                           0.86       804\n",
            "   macro avg       0.56      0.50      0.47       804\n",
            "weighted avg       0.78      0.86      0.80       804\n",
            "\n"
          ]
        },
        {
          "output_type": "display_data",
          "data": {
            "text/plain": [
              "<Figure size 640x480 with 2 Axes>"
            ],
            "image/png": "[encoded data removed]"
          },
          "metadata": {}
        }
      ]
    }
  ]
}